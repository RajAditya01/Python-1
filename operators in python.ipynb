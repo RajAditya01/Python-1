{
 "cells": [
  {
   "cell_type": "code",
   "execution_count": 1,
   "id": "3c10f200",
   "metadata": {},
   "outputs": [
    {
     "name": "stdout",
     "output_type": "stream",
     "text": [
      "13\n",
      "-3\n",
      "40\n",
      "0.625\n",
      "5\n",
      "390625\n",
      "0\n"
     ]
    }
   ],
   "source": [
    "a=5\n",
    "b=8\n",
    "print(a + b) # Addition\n",
    "print(a - b) # Subtraction\n",
    "print(a * b) # Multiply\n",
    "print(a / b) # Divide\n",
    "print(a % b) # Modulus\n",
    "print(a ** b) # Exponential\n",
    "print(a // b) # Divide and return integer\n",
    "\n"
   ]
  },
  {
   "cell_type": "code",
   "execution_count": 3,
   "id": "1599e701",
   "metadata": {},
   "outputs": [],
   "source": [
    "a = 6\n",
    "a += 10 # Add 10 to current value of a\n",
    "a -= 5 # Subtract 5 from current value of a\n",
    "a *= 8 # Multiply current value of a\n",
    "a /= 5 # Divide current value of a by 5\n",
    "\n"
   ]
  },
  {
   "cell_type": "code",
   "execution_count": 4,
   "id": "07f18eeb",
   "metadata": {},
   "outputs": [
    {
     "name": "stdout",
     "output_type": "stream",
     "text": [
      "False\n",
      "True\n",
      "False\n",
      "True\n",
      "False\n",
      "True\n"
     ]
    }
   ],
   "source": [
    "print(a == b) # Check if a == b\n",
    "print(a != b) # Check if a is not equal to b\n",
    "print(a < b) # Check if a is less then b\n",
    "print(a > b) # Check if a is bigger than b\n",
    "print(a <= b) # Check is a is less or equal to b\n",
    "print(a >= b) # Check if a is more or equal to b"
   ]
  },
  {
   "cell_type": "code",
   "execution_count": 6,
   "id": "8b597fba",
   "metadata": {},
   "outputs": [
    {
     "name": "stdout",
     "output_type": "stream",
     "text": [
      "False\n",
      "False\n"
     ]
    }
   ],
   "source": [
    "a=5\n",
    "b=8\n",
    "c=10\n",
    "print(a and b == c) # Check if a and b both are equal to c\n",
    "print(a == b or b == c) # Check if either a or b is equal to c"
   ]
  },
  {
   "cell_type": "code",
   "execution_count": null,
   "id": "88a6f4e5",
   "metadata": {},
   "outputs": [],
   "source": []
  }
 ],
 "metadata": {
  "kernelspec": {
   "display_name": "Python 3",
   "language": "python",
   "name": "python3"
  },
  "language_info": {
   "codemirror_mode": {
    "name": "ipython",
    "version": 3
   },
   "file_extension": ".py",
   "mimetype": "text/x-python",
   "name": "python",
   "nbconvert_exporter": "python",
   "pygments_lexer": "ipython3",
   "version": "3.8.8"
  }
 },
 "nbformat": 4,
 "nbformat_minor": 5
}
