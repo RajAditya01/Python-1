{
 "cells": [
  {
   "cell_type": "code",
   "execution_count": 2,
   "id": "05e0b2ec",
   "metadata": {},
   "outputs": [
    {
     "data": {
      "text/plain": [
       "tuple"
      ]
     },
     "execution_count": 2,
     "metadata": {},
     "output_type": "execute_result"
    }
   ],
   "source": [
    "t1=(1,)\n",
    "type(t1)"
   ]
  },
  {
   "cell_type": "code",
   "execution_count": 5,
   "id": "299b6753",
   "metadata": {},
   "outputs": [
    {
     "data": {
      "text/plain": [
       "6"
      ]
     },
     "execution_count": 5,
     "metadata": {},
     "output_type": "execute_result"
    }
   ],
   "source": [
    "#len,max,min,index,count\n",
    "t=('p','y','t','h','o','n')\n",
    "len(t)"
   ]
  },
  {
   "cell_type": "code",
   "execution_count": 6,
   "id": "933a655b",
   "metadata": {},
   "outputs": [
    {
     "data": {
      "text/plain": [
       "'y'"
      ]
     },
     "execution_count": 6,
     "metadata": {},
     "output_type": "execute_result"
    }
   ],
   "source": [
    "t=('p','y','t','h','o','n')\n",
    "max(t)"
   ]
  },
  {
   "cell_type": "code",
   "execution_count": 7,
   "id": "4952f242",
   "metadata": {},
   "outputs": [
    {
     "data": {
      "text/plain": [
       "'h'"
      ]
     },
     "execution_count": 7,
     "metadata": {},
     "output_type": "execute_result"
    }
   ],
   "source": [
    "t=('p','y','t','h','o','n')\n",
    "min(t)"
   ]
  },
  {
   "cell_type": "code",
   "execution_count": 24,
   "id": "8157b9f0",
   "metadata": {},
   "outputs": [
    {
     "data": {
      "text/plain": [
       "2"
      ]
     },
     "execution_count": 24,
     "metadata": {},
     "output_type": "execute_result"
    }
   ],
   "source": [
    "t1=('p','y','t','h','o','n','t','t')\n",
    "t1.index('t')\n"
   ]
  },
  {
   "cell_type": "code",
   "execution_count": 25,
   "id": "22260956",
   "metadata": {},
   "outputs": [
    {
     "data": {
      "text/plain": [
       "1"
      ]
     },
     "execution_count": 25,
     "metadata": {},
     "output_type": "execute_result"
    }
   ],
   "source": [
    "t=('p','y','t','h','o','n')\n",
    "t.count('t')\n"
   ]
  },
  {
   "cell_type": "code",
   "execution_count": null,
   "id": "55aed072",
   "metadata": {},
   "outputs": [],
   "source": [
    "t1=(2,1,3,5,4)\n",
    "l1=list(t1)\n",
    "l1"
   ]
  },
  {
   "cell_type": "code",
   "execution_count": 1,
   "id": "2068f72b",
   "metadata": {},
   "outputs": [
    {
     "name": "stdout",
     "output_type": "stream",
     "text": [
      "enter the elements in ():1,2,4,8\n",
      "sum of numbers: 15\n",
      "average of numbers: 3.75\n"
     ]
    }
   ],
   "source": [
    "num=eval(input(\"enter the elements in ():\"))\n",
    "sum=0\n",
    "n=len(num)\n",
    "for i in range(n):\n",
    "    sum=sum+num[i]\n",
    "print(\"sum of numbers:\",sum)\n",
    "print(\"average of numbers:\",sum/n)"
   ]
  },
  {
   "cell_type": "code",
   "execution_count": 2,
   "id": "803cfa60",
   "metadata": {},
   "outputs": [
    {
     "name": "stdout",
     "output_type": "stream",
     "text": [
      "[11]\n"
     ]
    }
   ],
   "source": [
    "def returnNumbers(one,two):\n",
    "    if one>two:\n",
    "        print(\"firdt number is greater than second number\")\n",
    "    newlist=[]\n",
    "    for i in range(one,two+1):\n",
    "        if i%2 != 0:\n",
    "            newlist.append(i)\n",
    "            return newlist\n",
    "print(returnNumbers(10,20))\n"
   ]
  },
  {
   "cell_type": "code",
   "execution_count": 2,
   "id": "ed6d9714",
   "metadata": {},
   "outputs": [
    {
     "name": "stdout",
     "output_type": "stream",
     "text": [
      "['p', 'y', 't', 'h', 'o', 'n', 't', 't']\n"
     ]
    }
   ],
   "source": [
    "t1=('p','y','t','h','o','n','t','t')\n",
    "l1=list(t1)\n",
    "print(l1)"
   ]
  },
  {
   "cell_type": "code",
   "execution_count": null,
   "id": "a23fe21d",
   "metadata": {},
   "outputs": [],
   "source": []
  }
 ],
 "metadata": {
  "kernelspec": {
   "display_name": "Python 3",
   "language": "python",
   "name": "python3"
  },
  "language_info": {
   "codemirror_mode": {
    "name": "ipython",
    "version": 3
   },
   "file_extension": ".py",
   "mimetype": "text/x-python",
   "name": "python",
   "nbconvert_exporter": "python",
   "pygments_lexer": "ipython3",
   "version": "3.8.8"
  }
 },
 "nbformat": 4,
 "nbformat_minor": 5
}
