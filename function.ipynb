{
 "cells": [
  {
   "cell_type": "code",
   "execution_count": 2,
   "id": "54e974af",
   "metadata": {},
   "outputs": [
    {
     "name": "stdout",
     "output_type": "stream",
     "text": [
      "ENTER YOUR NAME:PUNIT\n",
      "Dear PUNIT WELCOME TO PYTHON CLASS\n"
     ]
    }
   ],
   "source": [
    "def message():\n",
    "    str=input(\"ENTER YOUR NAME:\")\n",
    "    print(\"Dear\",str,\"WELCOME TO PYTHON CLASS\")\n",
    "message()"
   ]
  },
  {
   "cell_type": "code",
   "execution_count": 30,
   "id": "74cc09a4",
   "metadata": {},
   "outputs": [
    {
     "name": "stdout",
     "output_type": "stream",
     "text": [
      "THE SUM OF NUMBERS b/w 1 and 25 is 325\n",
      "THE SUM OF NUMBERS b/w 50 and 75 is 1625\n",
      "THE SUM OF NUMBERS b/w 90 and 100 is 1045\n"
     ]
    }
   ],
   "source": [
    "def sum(x,y):\n",
    "    s=0\n",
    "    for i in range(x,y+1):\n",
    "        s=s+i\n",
    "    print(\"THE SUM OF NUMBERS b/w\",x,'and',y,'is',s)\n",
    "sum(1,25)#function calling\n",
    "sum(50,75)#function calling\n",
    "sum(90,100)#function calling"
   ]
  },
  {
   "cell_type": "code",
   "execution_count": 33,
   "id": "1efc90bc",
   "metadata": {},
   "outputs": [
    {
     "name": "stdout",
     "output_type": "stream",
     "text": [
      "720\n"
     ]
    }
   ],
   "source": [
    "def factorial(n):\n",
    "    fact=1\n",
    "    while n>0:\n",
    "        fact=fact*n\n",
    "        n=n-1\n",
    "    print(fact)\n",
    "factorial(6)\n",
    "#wap to factorial\n"
   ]
  },
  {
   "cell_type": "code",
   "execution_count": 5,
   "id": "1fab3f0d",
   "metadata": {},
   "outputs": [
    {
     "name": "stdout",
     "output_type": "stream",
     "text": [
      "NAME= JOHN age= 30\n",
      "NAME= 30 age= JOHN\n"
     ]
    }
   ],
   "source": [
    "def display(name,age):\n",
    "    print(\"NAME=\",name,\"age=\",age)\n",
    "display(\"JOHN\",30)\n",
    "display(30,\"JOHN\")\n"
   ]
  },
  {
   "cell_type": "code",
   "execution_count": 51,
   "id": "ba5d2331",
   "metadata": {},
   "outputs": [
    {
     "name": "stdout",
     "output_type": "stream",
     "text": [
      "NAME= Vansh age 18\n",
      "NAME= 18 age vansh\n",
      "NAME= vansh age 30\n",
      "NAME= vansh age 40\n",
      "NAME= abhinav age 40\n"
     ]
    }
   ],
   "source": [
    "#keyword arguments\n",
    "def display(name,age):\n",
    "    print(\"NAME=\",name,\"age\",age)\n",
    "display(age=18,name=\"Vansh\")#defined value #keyword arguments\n",
    "display(age=\"vansh\",name=18)\n",
    "display(\"vansh\",30)\n",
    "\n",
    "#positional argument cannot follow a keyword argument\n",
    "display(name=\"vansh\",age=40)\n",
    "\n",
    "########################################\n",
    "display(\"abhinav\",age=40)#pehle positional hona chaoye #ya dono same"
   ]
  },
  {
   "cell_type": "code",
   "execution_count": 52,
   "id": "defbd258",
   "metadata": {},
   "outputs": [
    {
     "ename": "TypeError",
     "evalue": "display() got multiple values for argument 'num1'",
     "output_type": "error",
     "traceback": [
      "\u001b[1;31m---------------------------------------------------------------------------\u001b[0m",
      "\u001b[1;31mTypeError\u001b[0m                                 Traceback (most recent call last)",
      "\u001b[1;32mC:\\Users\\VANSHN~1\\AppData\\Local\\Temp/ipykernel_8220/921617810.py\u001b[0m in \u001b[0;36m<module>\u001b[1;34m\u001b[0m\n\u001b[0;32m      2\u001b[0m \u001b[1;32mdef\u001b[0m \u001b[0mdisplay\u001b[0m\u001b[1;33m(\u001b[0m\u001b[0mnum1\u001b[0m\u001b[1;33m,\u001b[0m\u001b[0mnum2\u001b[0m\u001b[1;33m)\u001b[0m\u001b[1;33m:\u001b[0m\u001b[1;33m\u001b[0m\u001b[1;33m\u001b[0m\u001b[0m\n\u001b[0;32m      3\u001b[0m     \u001b[0mprint\u001b[0m\u001b[1;33m(\u001b[0m\u001b[0mnum1\u001b[0m\u001b[1;33m,\u001b[0m\u001b[0mnum2\u001b[0m\u001b[1;33m)\u001b[0m\u001b[1;33m\u001b[0m\u001b[1;33m\u001b[0m\u001b[0m\n\u001b[1;32m----> 4\u001b[1;33m \u001b[0mdisplay\u001b[0m\u001b[1;33m(\u001b[0m\u001b[1;36m40\u001b[0m\u001b[1;33m,\u001b[0m\u001b[0mnum1\u001b[0m\u001b[1;33m=\u001b[0m\u001b[1;36m40\u001b[0m\u001b[1;33m)\u001b[0m\u001b[1;33m\u001b[0m\u001b[1;33m\u001b[0m\u001b[0m\n\u001b[0m",
      "\u001b[1;31mTypeError\u001b[0m: display() got multiple values for argument 'num1'"
     ]
    }
   ],
   "source": [
    "#a programamer cannot duplaicate a argument by specifying it as both\n",
    "def display(num1,num2):\n",
    "    print(num1,num2)\n",
    "display(40,num1=40)#duplicate #error\n"
   ]
  },
  {
   "cell_type": "code",
   "execution_count": 55,
   "id": "3e63ebb7",
   "metadata": {},
   "outputs": [
    {
     "name": "stdout",
     "output_type": "stream",
     "text": [
      "HELLO SACHIN WELOCME TO PYTHON class\n"
     ]
    }
   ],
   "source": [
    "#default value\n",
    "def message(name,msg=\"WELOCME TO PYTHON class\"):#default value and arguments\n",
    "    print(\"HELLO\",name,msg)\n",
    "message(\"SACHIN\")"
   ]
  },
  {
   "cell_type": "code",
   "execution_count": 58,
   "id": "bd360b74",
   "metadata": {},
   "outputs": [
    {
     "name": "stdout",
     "output_type": "stream",
     "text": [
      "hello name msg\n"
     ]
    }
   ],
   "source": [
    "#once we have default value to parameter,all the parameter to its right side must also have default value\n",
    "def message(name=\"sachin\",msg=\"abc\"):\n",
    "    print(\"hello\",name,msg)\n",
    "\n",
    "message(\"name\",\"msg\")\n",
    "\n"
   ]
  },
  {
   "cell_type": "code",
   "execution_count": 61,
   "id": "60f73cd4",
   "metadata": {},
   "outputs": [
    {
     "name": "stdout",
     "output_type": "stream",
     "text": [
      "a= 15 b= 10 c= 20\n",
      "a= 50 b= 30 c= 20\n",
      "a= 25 b= 35 c= 80\n"
     ]
    }
   ],
   "source": [
    "def display(a,b=10,c=20):\n",
    "    print(\"a=\",a,\"b=\",b,\"c=\",c)\n",
    "display(15)#a ki given baaki default\n",
    "display(50,b=30)# a ki postional b ki keyword\n",
    "display(c=80,a=25,b=35)# teeno ki keyword\n"
   ]
  },
  {
   "cell_type": "code",
   "execution_count": 63,
   "id": "5f782cb6",
   "metadata": {},
   "outputs": [
    {
     "name": "stdout",
     "output_type": "stream",
     "text": [
      "THE VALUE OF P is= 20\n",
      "the value of q is= 10\n",
      "value of global variable is p 20\n"
     ]
    },
    {
     "ename": "NameError",
     "evalue": "name 'q' is not defined",
     "output_type": "error",
     "traceback": [
      "\u001b[1;31m---------------------------------------------------------------------------\u001b[0m",
      "\u001b[1;31mNameError\u001b[0m                                 Traceback (most recent call last)",
      "\u001b[1;32mC:\\Users\\VANSHN~1\\AppData\\Local\\Temp/ipykernel_8220/956129210.py\u001b[0m in \u001b[0;36m<module>\u001b[1;34m\u001b[0m\n\u001b[0;32m      6\u001b[0m \u001b[0mdemo\u001b[0m\u001b[1;33m(\u001b[0m\u001b[1;33m)\u001b[0m\u001b[1;33m\u001b[0m\u001b[1;33m\u001b[0m\u001b[0m\n\u001b[0;32m      7\u001b[0m \u001b[0mprint\u001b[0m\u001b[1;33m(\u001b[0m\u001b[1;34m\"value of global variable is p\"\u001b[0m\u001b[1;33m,\u001b[0m\u001b[0mp\u001b[0m\u001b[1;33m)\u001b[0m\u001b[1;33m\u001b[0m\u001b[1;33m\u001b[0m\u001b[0m\n\u001b[1;32m----> 8\u001b[1;33m \u001b[0mprint\u001b[0m\u001b[1;33m(\u001b[0m\u001b[1;34m\"value of local variable q\"\u001b[0m\u001b[1;33m,\u001b[0m\u001b[0mq\u001b[0m\u001b[1;33m)\u001b[0m\u001b[1;31m#error bcz local variable\u001b[0m\u001b[1;33m\u001b[0m\u001b[1;33m\u001b[0m\u001b[0m\n\u001b[0m",
      "\u001b[1;31mNameError\u001b[0m: name 'q' is not defined"
     ]
    }
   ],
   "source": [
    "p=20\n",
    "def demo():\n",
    "    q=10\n",
    "    print(\"THE VALUE OF P is=\",p)\n",
    "    print(\"the value of q is=\",q)\n",
    "demo()\n",
    "print(\"value of global variable is p\",p)\n",
    "print(\"value of local variable q\",q)#error bcz local variable"
   ]
  },
  {
   "cell_type": "code",
   "execution_count": 68,
   "id": "d0b7c227",
   "metadata": {},
   "outputs": [
    {
     "name": "stdout",
     "output_type": "stream",
     "text": [
      "I LOVE ROGRAMMING\n",
      "I PROGRAMMING\n"
     ]
    }
   ],
   "source": [
    "def demo():\n",
    "    S=\"I LOVE ROGRAMMING\"#local variables\n",
    "    print(S)\n",
    "S=\"I PROGRAMMING\"  #global variables\n",
    "demo()\n",
    "print(S)\n"
   ]
  },
  {
   "cell_type": "code",
   "execution_count": 73,
   "id": "4953f100",
   "metadata": {},
   "outputs": [
    {
     "name": "stdout",
     "output_type": "stream",
     "text": [
      "value of a is 20\n",
      "a is 30\n",
      "value of a is 30\n"
     ]
    }
   ],
   "source": [
    "a=20#global\n",
    "print(\"value of a is\",a)\n",
    "def display():\n",
    "    global a#both value are changed into 30\n",
    "    a=30#behaving as local when upper line is a comment a=30 then  value of a is 20 when commented\n",
    "    print(\"a is\",a)\n",
    "display()\n",
    "print(\"value of a is\",a)"
   ]
  },
  {
   "cell_type": "code",
   "execution_count": 75,
   "id": "6a88ff14",
   "metadata": {},
   "outputs": [
    {
     "name": "stdout",
     "output_type": "stream",
     "text": [
      "NUMBER IS  4\n",
      "16 64\n"
     ]
    }
   ],
   "source": [
    "def compute(num1):\n",
    "    print(\"NUMBER IS \",num1)\n",
    "    return num1*num1,num1*num1*num1\n",
    "square,cube=compute(4)\n",
    "print(square,cube)"
   ]
  },
  {
   "cell_type": "code",
   "execution_count": 85,
   "id": "44ff5d82",
   "metadata": {},
   "outputs": [
    {
     "name": "stdout",
     "output_type": "stream",
     "text": [
      "16\n"
     ]
    }
   ],
   "source": [
    "#waf to calculate power of  a number\n",
    "def power(x,y):\n",
    "    return x**y  #calcuate power\n",
    "pow=power(2,4)\n",
    "print(pow)"
   ]
  },
  {
   "cell_type": "code",
   "execution_count": 16,
   "id": "da2edf61",
   "metadata": {},
   "outputs": [
    {
     "ename": "UnboundLocalError",
     "evalue": "local variable 's' referenced before assignment",
     "output_type": "error",
     "traceback": [
      "\u001b[1;31m---------------------------------------------------------------------------\u001b[0m",
      "\u001b[1;31mUnboundLocalError\u001b[0m                         Traceback (most recent call last)",
      "\u001b[1;32m<ipython-input-16-07bdecc74e34>\u001b[0m in \u001b[0;36m<module>\u001b[1;34m\u001b[0m\n\u001b[0;32m      9\u001b[0m         \u001b[0mx\u001b[0m\u001b[1;33m=\u001b[0m\u001b[0mx\u001b[0m\u001b[1;33m//\u001b[0m\u001b[1;36m10\u001b[0m\u001b[1;33m\u001b[0m\u001b[1;33m\u001b[0m\u001b[0m\n\u001b[0;32m     10\u001b[0m     \u001b[1;32mreturn\u001b[0m \u001b[0ms\u001b[0m\u001b[1;33m\u001b[0m\u001b[1;33m\u001b[0m\u001b[0m\n\u001b[1;32m---> 11\u001b[1;33m \u001b[0marmstrong\u001b[0m\u001b[1;33m(\u001b[0m\u001b[0mx\u001b[0m\u001b[1;33m)\u001b[0m\u001b[1;33m\u001b[0m\u001b[1;33m\u001b[0m\u001b[0m\n\u001b[0m\u001b[0;32m     12\u001b[0m \u001b[0mprint\u001b[0m\u001b[1;33m(\u001b[0m\u001b[0ms\u001b[0m\u001b[1;33m)\u001b[0m\u001b[1;33m\u001b[0m\u001b[1;33m\u001b[0m\u001b[0m\n\u001b[0;32m     13\u001b[0m \u001b[1;33m\u001b[0m\u001b[0m\n",
      "\u001b[1;32m<ipython-input-16-07bdecc74e34>\u001b[0m in \u001b[0;36marmstrong\u001b[1;34m(x)\u001b[0m\n\u001b[0;32m      6\u001b[0m     \u001b[1;32mwhile\u001b[0m \u001b[0mx\u001b[0m\u001b[1;33m>\u001b[0m\u001b[1;36m0\u001b[0m\u001b[1;33m:\u001b[0m\u001b[1;33m\u001b[0m\u001b[1;33m\u001b[0m\u001b[0m\n\u001b[0;32m      7\u001b[0m         \u001b[0mz\u001b[0m\u001b[1;33m=\u001b[0m\u001b[0mx\u001b[0m\u001b[1;33m%\u001b[0m\u001b[1;36m10\u001b[0m\u001b[1;33m\u001b[0m\u001b[1;33m\u001b[0m\u001b[0m\n\u001b[1;32m----> 8\u001b[1;33m         \u001b[0ms\u001b[0m\u001b[1;33m=\u001b[0m\u001b[0ms\u001b[0m\u001b[1;33m+\u001b[0m\u001b[1;33m(\u001b[0m\u001b[0mz\u001b[0m\u001b[1;33m*\u001b[0m\u001b[0mz\u001b[0m\u001b[1;33m*\u001b[0m\u001b[0mz\u001b[0m\u001b[1;33m)\u001b[0m\u001b[1;33m\u001b[0m\u001b[1;33m\u001b[0m\u001b[0m\n\u001b[0m\u001b[0;32m      9\u001b[0m         \u001b[0mx\u001b[0m\u001b[1;33m=\u001b[0m\u001b[0mx\u001b[0m\u001b[1;33m//\u001b[0m\u001b[1;36m10\u001b[0m\u001b[1;33m\u001b[0m\u001b[1;33m\u001b[0m\u001b[0m\n\u001b[0;32m     10\u001b[0m     \u001b[1;32mreturn\u001b[0m \u001b[0ms\u001b[0m\u001b[1;33m\u001b[0m\u001b[1;33m\u001b[0m\u001b[0m\n",
      "\u001b[1;31mUnboundLocalError\u001b[0m: local variable 's' referenced before assignment"
     ]
    }
   ],
   "source": [
    "#wap to find the number is armstrong\n",
    "s=0\n",
    "x=153\n",
    "y=x\n",
    "def armstrong(x):\n",
    "    while x>0:\n",
    "        z=x%10\n",
    "        s=s+(z*z*z)\n",
    "        x=x//10\n",
    "    return s\n",
    "armstrong(x)\n",
    "print(s)\n",
    "    "
   ]
  },
  {
   "cell_type": "code",
   "execution_count": null,
   "id": "e11af29d",
   "metadata": {},
   "outputs": [],
   "source": []
  },
  {
   "cell_type": "code",
   "execution_count": 100,
   "id": "7cf15046",
   "metadata": {},
   "outputs": [
    {
     "ename": "UnboundLocalError",
     "evalue": "local variable 's' referenced before assignment",
     "output_type": "error",
     "traceback": [
      "\u001b[1;31m---------------------------------------------------------------------------\u001b[0m",
      "\u001b[1;31mUnboundLocalError\u001b[0m                         Traceback (most recent call last)",
      "\u001b[1;32mC:\\Users\\VANSHN~1\\AppData\\Local\\Temp/ipykernel_8220/1291816408.py\u001b[0m in \u001b[0;36m<module>\u001b[1;34m\u001b[0m\n\u001b[0;32m      7\u001b[0m         \u001b[0mn\u001b[0m\u001b[1;33m=\u001b[0m\u001b[0mn\u001b[0m\u001b[1;33m//\u001b[0m\u001b[1;36m10\u001b[0m\u001b[1;33m\u001b[0m\u001b[1;33m\u001b[0m\u001b[0m\n\u001b[0;32m      8\u001b[0m     \u001b[1;32mreturn\u001b[0m \u001b[0ms\u001b[0m\u001b[1;33m\u001b[0m\u001b[1;33m\u001b[0m\u001b[0m\n\u001b[1;32m----> 9\u001b[1;33m \u001b[0marm\u001b[0m\u001b[1;33m(\u001b[0m\u001b[0mn\u001b[0m\u001b[1;33m)\u001b[0m\u001b[1;33m\u001b[0m\u001b[1;33m\u001b[0m\u001b[0m\n\u001b[0m\u001b[0;32m     10\u001b[0m \u001b[1;32mif\u001b[0m \u001b[0mz\u001b[0m\u001b[1;33m==\u001b[0m\u001b[0ms\u001b[0m\u001b[1;33m:\u001b[0m\u001b[1;33m\u001b[0m\u001b[1;33m\u001b[0m\u001b[0m\n\u001b[0;32m     11\u001b[0m     \u001b[0mprint\u001b[0m\u001b[1;33m(\u001b[0m\u001b[1;34m\"yes\"\u001b[0m\u001b[1;33m)\u001b[0m\u001b[1;33m\u001b[0m\u001b[1;33m\u001b[0m\u001b[0m\n",
      "\u001b[1;32mC:\\Users\\VANSHN~1\\AppData\\Local\\Temp/ipykernel_8220/1291816408.py\u001b[0m in \u001b[0;36marm\u001b[1;34m(n)\u001b[0m\n\u001b[0;32m      4\u001b[0m     \u001b[1;32mwhile\u001b[0m \u001b[0mn\u001b[0m\u001b[1;33m>\u001b[0m\u001b[1;36m0\u001b[0m\u001b[1;33m:\u001b[0m\u001b[1;33m\u001b[0m\u001b[1;33m\u001b[0m\u001b[0m\n\u001b[0;32m      5\u001b[0m         \u001b[0mtemp\u001b[0m\u001b[1;33m=\u001b[0m\u001b[0mn\u001b[0m\u001b[1;33m%\u001b[0m\u001b[1;36m10\u001b[0m\u001b[1;33m\u001b[0m\u001b[1;33m\u001b[0m\u001b[0m\n\u001b[1;32m----> 6\u001b[1;33m         \u001b[0ms\u001b[0m\u001b[1;33m=\u001b[0m\u001b[0ms\u001b[0m\u001b[1;33m+\u001b[0m\u001b[0mtemp\u001b[0m\u001b[1;33m*\u001b[0m\u001b[0mtemp\u001b[0m\u001b[1;33m*\u001b[0m\u001b[0mtemp\u001b[0m\u001b[1;33m\u001b[0m\u001b[1;33m\u001b[0m\u001b[0m\n\u001b[0m\u001b[0;32m      7\u001b[0m         \u001b[0mn\u001b[0m\u001b[1;33m=\u001b[0m\u001b[0mn\u001b[0m\u001b[1;33m//\u001b[0m\u001b[1;36m10\u001b[0m\u001b[1;33m\u001b[0m\u001b[1;33m\u001b[0m\u001b[0m\n\u001b[0;32m      8\u001b[0m     \u001b[1;32mreturn\u001b[0m \u001b[0ms\u001b[0m\u001b[1;33m\u001b[0m\u001b[1;33m\u001b[0m\u001b[0m\n",
      "\u001b[1;31mUnboundLocalError\u001b[0m: local variable 's' referenced before assignment"
     ]
    }
   ],
   "source": [
    "s=0\n",
    "z=n\n",
    "def arm(n):\n",
    "    while n>0:\n",
    "        temp=n%10\n",
    "        s=s+temp*temp*temp\n",
    "        n=n//10\n",
    "    return s\n",
    "arm(n)\n",
    "if z==s:\n",
    "    print(\"yes\")\n",
    "else:\n",
    "    print(\"no\")\n",
    "    \n"
   ]
  },
  {
   "cell_type": "code",
   "execution_count": 1,
   "id": "9cebae8a",
   "metadata": {},
   "outputs": [
    {
     "data": {
      "text/plain": [
       "2.5"
      ]
     },
     "execution_count": 1,
     "metadata": {},
     "output_type": "execute_result"
    }
   ],
   "source": [
    "5/2"
   ]
  },
  {
   "cell_type": "code",
   "execution_count": 2,
   "id": "e950abe0",
   "metadata": {},
   "outputs": [
    {
     "data": {
      "text/plain": [
       "2"
      ]
     },
     "execution_count": 2,
     "metadata": {},
     "output_type": "execute_result"
    }
   ],
   "source": [
    "5//2"
   ]
  },
  {
   "cell_type": "code",
   "execution_count": 2,
   "id": "d6b0c528",
   "metadata": {},
   "outputs": [
    {
     "name": "stdout",
     "output_type": "stream",
     "text": [
      "ENTER THE NAMEaditya\n",
      "DEAR aditya Wellcome the python class\n"
     ]
    }
   ],
   "source": [
    "def message():\n",
    "    str=input(\"ENTER THE NAME\")\n",
    "    print(\"DEAR\",str,\"Wellcome the python class\")\n",
    "message() "
   ]
  },
  {
   "cell_type": "code",
   "execution_count": 4,
   "id": "045d5962",
   "metadata": {},
   "outputs": [
    {
     "name": "stdout",
     "output_type": "stream",
     "text": [
      "sum of the number 25 to 92 is 3978\n",
      "sum of the number 41 to 56 is 776\n",
      "sum of the number 4 to 14 is 99\n"
     ]
    }
   ],
   "source": [
    "def sum(x,y):\n",
    "    s=0\n",
    "    for i in range(x,y+1):\n",
    "        s=s+i\n",
    "    print(\"sum of the number\",x,'to',y,'is',s)\n",
    "sum(25,92)\n",
    "sum(41,56)\n",
    "sum(4,14)"
   ]
  },
  {
   "cell_type": "code",
   "execution_count": 11,
   "id": "f09140b3",
   "metadata": {},
   "outputs": [
    {
     "name": "stdout",
     "output_type": "stream",
     "text": [
      "Name= John Age= 30\n"
     ]
    }
   ],
   "source": [
    "#positional aurgument\n",
    "def Display(Name,Age):\n",
    "    print(\"Name=\",Name,\"Age=\",Age)\n",
    "Display(\"John\",30)    "
   ]
  },
  {
   "cell_type": "code",
   "execution_count": null,
   "id": "1ae0f9b1",
   "metadata": {},
   "outputs": [],
   "source": [
    "def Display(Name,age):\n",
    "    print(\"Name\")\n",
    "    "
   ]
  },
  {
   "cell_type": "code",
   "execution_count": null,
   "id": "c4e4bbf4",
   "metadata": {},
   "outputs": [],
   "source": [
    "#default aurgument"
   ]
  },
  {
   "cell_type": "code",
   "execution_count": null,
   "id": "9a074b66",
   "metadata": {},
   "outputs": [],
   "source": [
    "#once we have a default value to a parameter,\n",
    "#all the parameters to its right must also have a default value.\n",
    "def display(a,b=10,c=20):\n",
    "    print(\"a=\",a,\"b=\",b"
   ]
  },
  {
   "cell_type": "code",
   "execution_count": 12,
   "id": "532ac9f0",
   "metadata": {},
   "outputs": [
    {
     "name": "stdout",
     "output_type": "stream",
     "text": [
      "the variable of local variable q is 10\n",
      "the variable of local variable p is 20\n"
     ]
    },
    {
     "ename": "NameError",
     "evalue": "name 'q' is not defined",
     "output_type": "error",
     "traceback": [
      "\u001b[1;31m---------------------------------------------------------------------------\u001b[0m",
      "\u001b[1;31mNameError\u001b[0m                                 Traceback (most recent call last)",
      "\u001b[1;32m<ipython-input-12-991a6cf9cb07>\u001b[0m in \u001b[0;36m<module>\u001b[1;34m\u001b[0m\n\u001b[0;32m      6\u001b[0m     \u001b[0mprint\u001b[0m\u001b[1;33m(\u001b[0m\u001b[1;34m\"the variable of local variable p is\"\u001b[0m\u001b[1;33m,\u001b[0m\u001b[0mp\u001b[0m\u001b[1;33m)\u001b[0m\u001b[1;33m\u001b[0m\u001b[1;33m\u001b[0m\u001b[0m\n\u001b[0;32m      7\u001b[0m \u001b[0mDemo\u001b[0m\u001b[1;33m(\u001b[0m\u001b[1;33m)\u001b[0m\u001b[1;33m\u001b[0m\u001b[1;33m\u001b[0m\u001b[0m\n\u001b[1;32m----> 8\u001b[1;33m \u001b[0mprint\u001b[0m\u001b[1;33m(\u001b[0m\u001b[1;34m\"the variable of local variable q is\"\u001b[0m\u001b[1;33m,\u001b[0m\u001b[0mq\u001b[0m\u001b[1;33m)\u001b[0m\u001b[1;33m\u001b[0m\u001b[1;33m\u001b[0m\u001b[0m\n\u001b[0m\u001b[0;32m      9\u001b[0m \u001b[0mprint\u001b[0m\u001b[1;33m(\u001b[0m\u001b[1;34m\"the variable of local variable p is\"\u001b[0m\u001b[1;33m,\u001b[0m\u001b[0mp\u001b[0m\u001b[1;33m)\u001b[0m\u001b[1;33m\u001b[0m\u001b[1;33m\u001b[0m\u001b[0m\n",
      "\u001b[1;31mNameError\u001b[0m: name 'q' is not defined"
     ]
    }
   ],
   "source": [
    "#Local variable and global variable\n",
    "p=20\n",
    "def Demo():\n",
    "    q=10\n",
    "    print(\"the variable of local variable q is\",q)\n",
    "    print(\"the variable of local variable p is\",p)\n",
    "Demo()\n",
    "print(\"the variable of local variable q is\",q)\n",
    "print(\"the variable of local variable p is\",p)"
   ]
  },
  {
   "cell_type": "code",
   "execution_count": 13,
   "id": "58788bbc",
   "metadata": {},
   "outputs": [
    {
     "name": "stdout",
     "output_type": "stream",
     "text": [
      "i love python programing\n",
      "this is my python class\n"
     ]
    }
   ],
   "source": [
    "def Demo():\n",
    "    s=\"i love python programing\"\n",
    "    print(s)\n",
    "s=\"this is my python class\"\n",
    "Demo()\n",
    "print(s)"
   ]
  },
  {
   "cell_type": "code",
   "execution_count": 15,
   "id": "562315e4",
   "metadata": {},
   "outputs": [
    {
     "name": "stdout",
     "output_type": "stream",
     "text": [
      "The value of a is 30\n",
      "The value of a is 30\n"
     ]
    }
   ],
   "source": [
    "a=20\n",
    "def Display():\n",
    "    global a\n",
    "    a=30\n",
    "    print(\"The value of a is\",a)\n",
    "Display()\n",
    "print(\"The value of a is\",a)"
   ]
  },
  {
   "cell_type": "code",
   "execution_count": 16,
   "id": "b8c7219b",
   "metadata": {},
   "outputs": [
    {
     "name": "stdout",
     "output_type": "stream",
     "text": [
      "The value of a is 30\n",
      "The value of a is 20\n"
     ]
    }
   ],
   "source": [
    "a=20\n",
    "def Display():\n",
    "    a=30\n",
    "    print(\"The value of a is\",a)\n",
    "Display()\n",
    "print(\"The value of a is\",a)"
   ]
  },
  {
   "cell_type": "code",
   "execution_count": 17,
   "id": "445238a6",
   "metadata": {},
   "outputs": [
    {
     "name": "stdout",
     "output_type": "stream",
     "text": [
      "Number= 4\n",
      "16 64\n"
     ]
    }
   ],
   "source": [
    "def compute(num1):\n",
    "    print(\"Number=\",num1)\n",
    "    return num1*num1,num1*num1*num1\n",
    "square,cube=compute(4)\n",
    "print(square,cube)"
   ]
  },
  {
   "cell_type": "code",
   "execution_count": null,
   "id": "af656906",
   "metadata": {},
   "outputs": [],
   "source": [
    "#recursion"
   ]
  },
  {
   "cell_type": "code",
   "execution_count": 5,
   "id": "b035db7b",
   "metadata": {},
   "outputs": [
    {
     "name": "stdout",
     "output_type": "stream",
     "text": [
      "Good Day, Aditya\n",
      "Good Day, Stranger\n"
     ]
    }
   ],
   "source": [
    "def greet(name=\"Stranger\"):\n",
    "    print(\"Good Day, \"+ name)\n",
    " \n",
    "\n",
    "greet(\"Aditya\") \n",
    "greet()"
   ]
  },
  {
   "cell_type": "code",
   "execution_count": 6,
   "id": "6b7d29ad",
   "metadata": {},
   "outputs": [
    {
     "name": "stdout",
     "output_type": "stream",
     "text": [
      "sum= 25\n"
     ]
    }
   ],
   "source": [
    "def sum(a,b):\n",
    "    c=a+b\n",
    "    print(\"sum=\", c)\n",
    "sum(10,15)"
   ]
  },
  {
   "cell_type": "code",
   "execution_count": 10,
   "id": "9c780087",
   "metadata": {},
   "outputs": [
    {
     "name": "stdout",
     "output_type": "stream",
     "text": [
      "Total string: NewYork\n"
     ]
    }
   ],
   "source": [
    "def attach(s1,s2):\n",
    "    s3=s1+s2\n",
    "    print('Total string: '+s3)\n",
    "attach(\"New\",\"York\")"
   ]
  },
  {
   "cell_type": "code",
   "execution_count": 7,
   "id": "53c55032",
   "metadata": {},
   "outputs": [],
   "source": [
    "# keyword argument\n",
    "display(name=\"Aditya\",age=18)"
   ]
  },
  {
   "cell_type": "code",
   "execution_count": 13,
   "id": "8c351957",
   "metadata": {},
   "outputs": [
    {
     "name": "stdout",
     "output_type": "stream",
     "text": [
      "Name: vinod Age: 23\n"
     ]
    }
   ],
   "source": [
    "def func(age, name =\"\"):\n",
    "    print(\"Name:\", name, \"Age:\", age)\n",
    "func(23, \"vinod\")"
   ]
  },
  {
   "cell_type": "code",
   "execution_count": 14,
   "id": "a1b038df",
   "metadata": {},
   "outputs": [
    {
     "name": "stdout",
     "output_type": "stream",
     "text": [
      "I Love Python Programming\n",
      "This Is Python Class\n"
     ]
    }
   ],
   "source": [
    "def funcTwo():\n",
    "    s = \"I Love Python Programming\"\n",
    "    print(s)\n",
    "s = \"This Is Python Class\"\n",
    "funcTwo()\n",
    "print(s)\n"
   ]
  },
  {
   "cell_type": "code",
   "execution_count": 15,
   "id": "794fd485",
   "metadata": {},
   "outputs": [
    {
     "name": "stdout",
     "output_type": "stream",
     "text": [
      "The value of the maximum is 55\n"
     ]
    }
   ],
   "source": [
    "def maximum(num1, num2, num3):\n",
    "    if (num1>num2):\n",
    "        if(num1>num3):\n",
    "            return num1\n",
    "        else:\n",
    "            return num3\n",
    "    else:\n",
    "        if(num2>num3):\n",
    "            return num2\n",
    "        else:\n",
    "            return num3\n",
    "\n",
    "m = maximum(13, 55, 2)\n",
    "print(\"The value of the maximum is \" + str(m))"
   ]
  },
  {
   "cell_type": "code",
   "execution_count": 17,
   "id": "1b891896",
   "metadata": {},
   "outputs": [
    {
     "name": "stdout",
     "output_type": "stream",
     "text": [
      "71.5 84.75\n"
     ]
    }
   ],
   "source": [
    "def percent(marks):\n",
    "    p = ((marks[0] + marks[1] + marks[2]+ marks[3])/400 )*100\n",
    "    return p\n",
    "\n",
    "marks1 = [45, 78, 86, 77]\n",
    "percentage1 = percent(marks1)\n",
    "\n",
    "marks2 = [75, 98, 88, 78]\n",
    "percentage2 = percent(marks2)\n",
    "print(percentage1, percentage2)"
   ]
  },
  {
   "cell_type": "code",
   "execution_count": 3,
   "id": "ce6231e1",
   "metadata": {},
   "outputs": [
    {
     "name": "stdout",
     "output_type": "stream",
     "text": [
      "ENTER ANY NUMBER55\n",
      "55 is not A PRIME\n"
     ]
    }
   ],
   "source": [
    "num=eval(input(\"ENTER ANY NUMBER\"))\n",
    "if num>1:\n",
    "    for i in range(2,num//2):\n",
    "        if (num%i)==0:\n",
    "            print(num,\"is not A PRIME\")\n",
    "            break\n",
    "    else:\n",
    "        print(num,\"prime\")"
   ]
  },
  {
   "cell_type": "code",
   "execution_count": 19,
   "id": "18858e8b",
   "metadata": {},
   "outputs": [
    {
     "name": "stdout",
     "output_type": "stream",
     "text": [
      "120\n"
     ]
    }
   ],
   "source": [
    "def factorial(n):\n",
    " if n==0:\n",
    "    return 1\n",
    " return n*factorial(n-1)\n",
    "print(factorial(5))"
   ]
  },
  {
   "cell_type": "code",
   "execution_count": 6,
   "id": "1f06896d",
   "metadata": {},
   "outputs": [
    {
     "data": {
      "text/plain": [
       "1.5"
      ]
     },
     "execution_count": 6,
     "metadata": {},
     "output_type": "execute_result"
    }
   ],
   "source": [
    "def divide(a,b):\n",
    "    return a/b\n",
    "divide(3,2)"
   ]
  },
  {
   "cell_type": "code",
   "execution_count": 8,
   "id": "6c047545",
   "metadata": {},
   "outputs": [
    {
     "name": "stdout",
     "output_type": "stream",
     "text": [
      "My string\n"
     ]
    }
   ],
   "source": [
    "def printme( str ):\n",
    "   \"This prints a passed string into this function\"\n",
    "   print(str)\n",
    "   return;\n",
    "printme( str = \"My string\")"
   ]
  },
  {
   "cell_type": "code",
   "execution_count": 4,
   "id": "19884cf6",
   "metadata": {},
   "outputs": [
    {
     "name": "stdout",
     "output_type": "stream",
     "text": [
      "10\n"
     ]
    }
   ],
   "source": [
    "def vowel_count(s):\n",
    "    VOWELS = \"aeiouAEIOU\"\n",
    "    vowelcount = 0\n",
    "    for ch in s:\n",
    "        if ch in VOWELS:\n",
    "            vowelcount =vowelcount+ 1\n",
    "    return vowelcount\n",
    "print(vowel_count(\"I am learning python language.\"))"
   ]
  },
  {
   "cell_type": "code",
   "execution_count": 5,
   "id": "810dbf23",
   "metadata": {},
   "outputs": [],
   "source": [
    "def hcf(a,b):\n",
    "    if b==0:\n",
    "        return 0\n",
    "    else:\n",
    "        return hcf(b,a%b)\n",
    "    first=23\n",
    "    second=69\n",
    "    print('HCF of',first,'and',second,'is',hcf(first,second))"
   ]
  },
  {
   "cell_type": "code",
   "execution_count": 14,
   "id": "aaf0f649",
   "metadata": {},
   "outputs": [],
   "source": [
    "def power(a,b):\n",
    "    if b==0:\n",
    "        return 1\n",
    "    else:\n",
    "        return a*power(b)\n",
    "    a=2\n",
    "    b=3\n",
    "    print(a,'to the power',b,'is',power(a,b))"
   ]
  },
  {
   "cell_type": "code",
   "execution_count": 8,
   "id": "fe22751f",
   "metadata": {},
   "outputs": [
    {
     "name": "stdout",
     "output_type": "stream",
     "text": [
      "10\n"
     ]
    }
   ],
   "source": [
    "def vowel_count(s):\n",
    "    VOWELS = \"aeiouAEIOU\"\n",
    "    vowelcount = 0\n",
    "    for ch in s:\n",
    "        if ch in VOWELS:\n",
    "            vowelcount =vowelcount+ 1\n",
    "    return vowelcount\n",
    "print(vowel_count(\"I am learning python language.\"))"
   ]
  },
  {
   "cell_type": "code",
   "execution_count": 19,
   "id": "c4d5c317",
   "metadata": {},
   "outputs": [
    {
     "ename": "SyntaxError",
     "evalue": "'return' outside function (<ipython-input-19-37ff5e7cd278>, line 4)",
     "output_type": "error",
     "traceback": [
      "\u001b[1;36m  File \u001b[1;32m\"<ipython-input-19-37ff5e7cd278>\"\u001b[1;36m, line \u001b[1;32m4\u001b[0m\n\u001b[1;33m    return\u001b[0m\n\u001b[1;37m    ^\u001b[0m\n\u001b[1;31mSyntaxError\u001b[0m\u001b[1;31m:\u001b[0m 'return' outside function\n"
     ]
    }
   ],
   "source": []
  },
  {
   "cell_type": "code",
   "execution_count": null,
   "id": "627f39b3",
   "metadata": {},
   "outputs": [],
   "source": []
  },
  {
   "cell_type": "code",
   "execution_count": null,
   "id": "18165f91",
   "metadata": {},
   "outputs": [],
   "source": []
  },
  {
   "cell_type": "code",
   "execution_count": null,
   "id": "f37977bc",
   "metadata": {},
   "outputs": [],
   "source": []
  },
  {
   "cell_type": "code",
   "execution_count": null,
   "id": "dd96a464",
   "metadata": {},
   "outputs": [],
   "source": []
  },
  {
   "cell_type": "code",
   "execution_count": null,
   "id": "bc6557a9",
   "metadata": {},
   "outputs": [],
   "source": []
  },
  {
   "cell_type": "code",
   "execution_count": null,
   "id": "e0ad67b8",
   "metadata": {},
   "outputs": [],
   "source": []
  },
  {
   "cell_type": "code",
   "execution_count": null,
   "id": "3746ec34",
   "metadata": {},
   "outputs": [],
   "source": []
  },
  {
   "cell_type": "code",
   "execution_count": null,
   "id": "4631fab7",
   "metadata": {},
   "outputs": [],
   "source": []
  },
  {
   "cell_type": "code",
   "execution_count": null,
   "id": "83dbf55c",
   "metadata": {},
   "outputs": [],
   "source": []
  },
  {
   "cell_type": "code",
   "execution_count": null,
   "id": "0d4a203b",
   "metadata": {},
   "outputs": [],
   "source": []
  },
  {
   "cell_type": "code",
   "execution_count": null,
   "id": "177cd6a1",
   "metadata": {},
   "outputs": [],
   "source": []
  },
  {
   "cell_type": "code",
   "execution_count": null,
   "id": "d44ddf60",
   "metadata": {},
   "outputs": [],
   "source": []
  },
  {
   "cell_type": "code",
   "execution_count": null,
   "id": "c53e1f47",
   "metadata": {},
   "outputs": [],
   "source": []
  },
  {
   "cell_type": "code",
   "execution_count": null,
   "id": "600493ec",
   "metadata": {},
   "outputs": [],
   "source": []
  },
  {
   "cell_type": "code",
   "execution_count": null,
   "id": "d0ef997f",
   "metadata": {},
   "outputs": [],
   "source": []
  },
  {
   "cell_type": "code",
   "execution_count": null,
   "id": "f781bf26",
   "metadata": {},
   "outputs": [],
   "source": []
  },
  {
   "cell_type": "code",
   "execution_count": null,
   "id": "5276042d",
   "metadata": {},
   "outputs": [],
   "source": []
  },
  {
   "cell_type": "code",
   "execution_count": null,
   "id": "b0b81c96",
   "metadata": {},
   "outputs": [],
   "source": []
  },
  {
   "cell_type": "code",
   "execution_count": null,
   "id": "4f4756bb",
   "metadata": {},
   "outputs": [],
   "source": []
  },
  {
   "cell_type": "code",
   "execution_count": null,
   "id": "871838b5",
   "metadata": {},
   "outputs": [],
   "source": []
  },
  {
   "cell_type": "code",
   "execution_count": null,
   "id": "13464aa6",
   "metadata": {},
   "outputs": [],
   "source": []
  },
  {
   "cell_type": "code",
   "execution_count": null,
   "id": "d6a94faa",
   "metadata": {},
   "outputs": [],
   "source": []
  },
  {
   "cell_type": "code",
   "execution_count": null,
   "id": "abb5062c",
   "metadata": {},
   "outputs": [],
   "source": []
  },
  {
   "cell_type": "code",
   "execution_count": null,
   "id": "f39cd7fd",
   "metadata": {},
   "outputs": [],
   "source": []
  },
  {
   "cell_type": "code",
   "execution_count": null,
   "id": "7370c85c",
   "metadata": {},
   "outputs": [],
   "source": []
  },
  {
   "cell_type": "code",
   "execution_count": null,
   "id": "c3f57e5f",
   "metadata": {},
   "outputs": [],
   "source": []
  },
  {
   "cell_type": "code",
   "execution_count": null,
   "id": "40ec01e6",
   "metadata": {},
   "outputs": [],
   "source": []
  },
  {
   "cell_type": "code",
   "execution_count": null,
   "id": "c1737fbb",
   "metadata": {},
   "outputs": [],
   "source": []
  },
  {
   "cell_type": "code",
   "execution_count": null,
   "id": "fa835cdc",
   "metadata": {},
   "outputs": [],
   "source": []
  },
  {
   "cell_type": "code",
   "execution_count": null,
   "id": "5fae3613",
   "metadata": {},
   "outputs": [],
   "source": []
  },
  {
   "cell_type": "code",
   "execution_count": null,
   "id": "091b0f20",
   "metadata": {},
   "outputs": [],
   "source": []
  },
  {
   "cell_type": "code",
   "execution_count": null,
   "id": "b962e93f",
   "metadata": {},
   "outputs": [],
   "source": []
  },
  {
   "cell_type": "code",
   "execution_count": null,
   "id": "52fad7a0",
   "metadata": {},
   "outputs": [],
   "source": []
  },
  {
   "cell_type": "code",
   "execution_count": null,
   "id": "b50b736a",
   "metadata": {},
   "outputs": [],
   "source": []
  },
  {
   "cell_type": "code",
   "execution_count": null,
   "id": "e81ca09e",
   "metadata": {},
   "outputs": [],
   "source": []
  },
  {
   "cell_type": "code",
   "execution_count": null,
   "id": "523a6cbe",
   "metadata": {},
   "outputs": [],
   "source": []
  },
  {
   "cell_type": "code",
   "execution_count": null,
   "id": "69e644b7",
   "metadata": {},
   "outputs": [],
   "source": []
  },
  {
   "cell_type": "code",
   "execution_count": null,
   "id": "b0efe8b0",
   "metadata": {},
   "outputs": [],
   "source": []
  },
  {
   "cell_type": "code",
   "execution_count": null,
   "id": "ac94ecd7",
   "metadata": {},
   "outputs": [],
   "source": []
  },
  {
   "cell_type": "code",
   "execution_count": null,
   "id": "ab297605",
   "metadata": {},
   "outputs": [],
   "source": []
  }
 ],
 "metadata": {
  "kernelspec": {
   "display_name": "Python 3",
   "language": "python",
   "name": "python3"
  },
  "language_info": {
   "codemirror_mode": {
    "name": "ipython",
    "version": 3
   },
   "file_extension": ".py",
   "mimetype": "text/x-python",
   "name": "python",
   "nbconvert_exporter": "python",
   "pygments_lexer": "ipython3",
   "version": "3.8.8"
  }
 },
 "nbformat": 4,
 "nbformat_minor": 5
}
