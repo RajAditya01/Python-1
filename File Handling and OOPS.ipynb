{
 "cells": [
  {
   "cell_type": "code",
   "execution_count": 3,
   "id": "c32e4b7a",
   "metadata": {},
   "outputs": [],
   "source": []
  },
  {
   "cell_type": "code",
   "execution_count": null,
   "id": "bb8f452b",
   "metadata": {},
   "outputs": [],
   "source": []
  },
  {
   "cell_type": "code",
   "execution_count": 13,
   "id": "9ecc5d85",
   "metadata": {},
   "outputs": [],
   "source": [
    "def abc():\n",
    "    F1=open(\"Info1.txt\",\"w\")\n",
    "    F1.write(\"Hello How Are You\\n\")\n",
    "    F1.write(\"welcome to python class\\n\")\n",
    "    F1.write(\"enjoy the sesion.\\n\")\n",
    "    F1.close()\n",
    "abc()"
   ]
  },
  {
   "cell_type": "code",
   "execution_count": 12,
   "id": "c55908aa",
   "metadata": {},
   "outputs": [
    {
     "ename": "TypeError",
     "evalue": "write() argument must be str, not int",
     "output_type": "error",
     "traceback": [
      "\u001b[1;31m---------------------------------------------------------------------------\u001b[0m",
      "\u001b[1;31mTypeError\u001b[0m                                 Traceback (most recent call last)",
      "\u001b[1;32m<ipython-input-12-2385d3d13d2f>\u001b[0m in \u001b[0;36m<module>\u001b[1;34m\u001b[0m\n\u001b[0;32m      4\u001b[0m         \u001b[0mf2\u001b[0m\u001b[1;33m.\u001b[0m\u001b[0mwrite\u001b[0m\u001b[1;33m(\u001b[0m\u001b[0mx\u001b[0m\u001b[1;33m)\u001b[0m\u001b[1;33m\u001b[0m\u001b[1;33m\u001b[0m\u001b[0m\n\u001b[0;32m      5\u001b[0m     \u001b[0mf2\u001b[0m\u001b[1;33m.\u001b[0m\u001b[0mclose\u001b[0m\u001b[1;33m(\u001b[0m\u001b[1;33m)\u001b[0m\u001b[1;33m\u001b[0m\u001b[1;33m\u001b[0m\u001b[0m\n\u001b[1;32m----> 6\u001b[1;33m \u001b[0mxyz\u001b[0m\u001b[1;33m(\u001b[0m\u001b[1;33m)\u001b[0m\u001b[1;33m\u001b[0m\u001b[1;33m\u001b[0m\u001b[0m\n\u001b[0m",
      "\u001b[1;32m<ipython-input-12-2385d3d13d2f>\u001b[0m in \u001b[0;36mxyz\u001b[1;34m()\u001b[0m\n\u001b[0;32m      2\u001b[0m     \u001b[0mf2\u001b[0m\u001b[1;33m=\u001b[0m\u001b[0mopen\u001b[0m\u001b[1;33m(\u001b[0m\u001b[1;34m\"info2.txt\"\u001b[0m\u001b[1;33m,\u001b[0m\u001b[1;34m\"w\"\u001b[0m\u001b[1;33m)\u001b[0m\u001b[1;33m\u001b[0m\u001b[1;33m\u001b[0m\u001b[0m\n\u001b[0;32m      3\u001b[0m     \u001b[1;32mfor\u001b[0m \u001b[0mx\u001b[0m \u001b[1;32min\u001b[0m \u001b[0mrange\u001b[0m\u001b[1;33m(\u001b[0m\u001b[1;36m1\u001b[0m\u001b[1;33m,\u001b[0m\u001b[1;36m20\u001b[0m\u001b[1;33m)\u001b[0m\u001b[1;33m:\u001b[0m\u001b[1;33m\u001b[0m\u001b[1;33m\u001b[0m\u001b[0m\n\u001b[1;32m----> 4\u001b[1;33m         \u001b[0mf2\u001b[0m\u001b[1;33m.\u001b[0m\u001b[0mwrite\u001b[0m\u001b[1;33m(\u001b[0m\u001b[0mx\u001b[0m\u001b[1;33m)\u001b[0m\u001b[1;33m\u001b[0m\u001b[1;33m\u001b[0m\u001b[0m\n\u001b[0m\u001b[0;32m      5\u001b[0m     \u001b[0mf2\u001b[0m\u001b[1;33m.\u001b[0m\u001b[0mclose\u001b[0m\u001b[1;33m(\u001b[0m\u001b[1;33m)\u001b[0m\u001b[1;33m\u001b[0m\u001b[1;33m\u001b[0m\u001b[0m\n\u001b[0;32m      6\u001b[0m \u001b[0mxyz\u001b[0m\u001b[1;33m(\u001b[0m\u001b[1;33m)\u001b[0m\u001b[1;33m\u001b[0m\u001b[1;33m\u001b[0m\u001b[0m\n",
      "\u001b[1;31mTypeError\u001b[0m: write() argument must be str, not int"
     ]
    }
   ],
   "source": [
    "def xyz():\n",
    "    f2=open(\"info2.txt\",\"w\")\n",
    "    for x in range(1,20):\n",
    "        f2.write(x)\n",
    "    f2.close()\n",
    "xyz()"
   ]
  },
  {
   "cell_type": "code",
   "execution_count": 14,
   "id": "4131fb93",
   "metadata": {},
   "outputs": [],
   "source": [
    "def xyz():\n",
    "    f2=open(\"info2.txt\",\"w\")\n",
    "    for x in range(1,21):\n",
    "        x=str(x)\n",
    "        f2.write(x)\n",
    "    f2.close()\n",
    "xyz()"
   ]
  },
  {
   "cell_type": "code",
   "execution_count": 18,
   "id": "f22394e3",
   "metadata": {},
   "outputs": [],
   "source": [
    "def xyz():\n",
    "    f2=open(\"info2.txt\",\"w\")\n",
    "    for x in range(1,21):\n",
    "        x=str(x)\n",
    "        f2.write(x)\n",
    "        f2.write(\"\\n\")\n",
    "    f2.close()\n",
    "xyz()"
   ]
  },
  {
   "cell_type": "code",
   "execution_count": 33,
   "id": "7ef9047e",
   "metadata": {},
   "outputs": [],
   "source": [
    "# # wap to write 50 random number b|w 500 and 1000 into a 5 \n",
    "# using randint(500,1000)\n",
    "from random import randint\n",
    "def xyz():\n",
    "    f2=open(\"info2.txt\",\"w\")\n",
    "    for x in range(1,51):\n",
    "        y=randint(500,1000)\n",
    "        y=str(y)\n",
    "        f2.write(y)\n",
    "        f2.write(\"\\n\")\n",
    "    f2.close()\n",
    "xyz()"
   ]
  },
  {
   "cell_type": "code",
   "execution_count": 34,
   "id": "eaf6fa32",
   "metadata": {},
   "outputs": [
    {
     "name": "stdout",
     "output_type": "stream",
     "text": [
      "Hello How Are You\n",
      "welcome to python class\n",
      "enjoy the sesion.\n",
      "\n"
     ]
    }
   ],
   "source": [
    "# reading text to the file\n",
    "f3= open (\"info1.txt\",\"r\")\n",
    "text = f3.read()\n",
    "print(text)"
   ]
  },
  {
   "cell_type": "code",
   "execution_count": 35,
   "id": "ff59802f",
   "metadata": {},
   "outputs": [
    {
     "name": "stdout",
     "output_type": "stream",
     "text": [
      "Hello How Are You\n",
      "\n",
      "welcome to python class\n",
      "\n",
      "enjoy the sesion.\n",
      "\n"
     ]
    }
   ],
   "source": [
    "# reading text to the file\n",
    "f3= open (\"info1.txt\",\"r\")\n",
    "for text in f3:\n",
    "    print(text)"
   ]
  },
  {
   "cell_type": "code",
   "execution_count": null,
   "id": "15667380",
   "metadata": {},
   "outputs": [],
   "source": []
  },
  {
   "cell_type": "code",
   "execution_count": 1,
   "id": "72737a99",
   "metadata": {},
   "outputs": [
    {
     "name": "stdout",
     "output_type": "stream",
     "text": [
      "527\n",
      "<class 'int'>\n"
     ]
    }
   ],
   "source": [
    "f3= open (\"info2.txt\",\"r\")\n"
   ]
  },
  {
   "cell_type": "code",
   "execution_count": 5,
   "id": "6c3e6035",
   "metadata": {},
   "outputs": [
    {
     "ename": "ValueError",
     "evalue": "invalid literal for int() with base 10: ''",
     "output_type": "error",
     "traceback": [
      "\u001b[1;31m---------------------------------------------------------------------------\u001b[0m",
      "\u001b[1;31mValueError\u001b[0m                                Traceback (most recent call last)",
      "\u001b[1;32m<ipython-input-5-2942719e983a>\u001b[0m in \u001b[0;36m<module>\u001b[1;34m\u001b[0m\n\u001b[0;32m      2\u001b[0m \u001b[0msum\u001b[0m\u001b[1;33m=\u001b[0m\u001b[1;36m0\u001b[0m\u001b[1;33m\u001b[0m\u001b[1;33m\u001b[0m\u001b[0m\n\u001b[0;32m      3\u001b[0m \u001b[1;32mfor\u001b[0m \u001b[0mi\u001b[0m \u001b[1;32min\u001b[0m \u001b[0mrange\u001b[0m\u001b[1;33m(\u001b[0m\u001b[1;36m51\u001b[0m\u001b[1;33m)\u001b[0m\u001b[1;33m:\u001b[0m\u001b[1;33m\u001b[0m\u001b[1;33m\u001b[0m\u001b[0m\n\u001b[1;32m----> 4\u001b[1;33m     \u001b[0mtext\u001b[0m\u001b[1;33m=\u001b[0m \u001b[0mint\u001b[0m\u001b[1;33m(\u001b[0m\u001b[0mf2\u001b[0m\u001b[1;33m.\u001b[0m\u001b[0mreadline\u001b[0m\u001b[1;33m(\u001b[0m\u001b[1;33m)\u001b[0m\u001b[1;33m)\u001b[0m\u001b[1;33m\u001b[0m\u001b[1;33m\u001b[0m\u001b[0m\n\u001b[0m\u001b[0;32m      5\u001b[0m     \u001b[0msum\u001b[0m \u001b[1;33m=\u001b[0m \u001b[0msum\u001b[0m \u001b[1;33m+\u001b[0m \u001b[0mtext\u001b[0m\u001b[1;33m\u001b[0m\u001b[1;33m\u001b[0m\u001b[0m\n\u001b[0;32m      6\u001b[0m \u001b[0mprint\u001b[0m\u001b[1;33m(\u001b[0m\u001b[0msum\u001b[0m\u001b[1;33m)\u001b[0m\u001b[1;33m\u001b[0m\u001b[1;33m\u001b[0m\u001b[0m\n",
      "\u001b[1;31mValueError\u001b[0m: invalid literal for int() with base 10: ''"
     ]
    }
   ],
   "source": [
    "f2= open (\"info2.txt\",\"r\")\n",
    "sum=0\n",
    "for i in range(51):\n",
    "    text= int(f2.readline())\n",
    "    sum = sum + text\n",
    "print(sum)"
   ]
  },
  {
   "cell_type": "code",
   "execution_count": 6,
   "id": "5b337e07",
   "metadata": {},
   "outputs": [],
   "source": [
    "f3= open(\"info1.txt\",\"a\" )\n",
    "f3.write(\"learn python online\")\n",
    "f3.close()"
   ]
  },
  {
   "cell_type": "code",
   "execution_count": 7,
   "id": "902cf1fe",
   "metadata": {},
   "outputs": [
    {
     "name": "stdout",
     "output_type": "stream",
     "text": [
      "Hello How Are You\n",
      "welcome to python class\n",
      "enjoy the sesion.\n",
      "learn python online\n"
     ]
    }
   ],
   "source": [
    "f3= open(\"info1.txt\",\"r\" )\n",
    "text=f3.read()\n",
    "print(text)\n"
   ]
  },
  {
   "cell_type": "code",
   "execution_count": 8,
   "id": "8429fdea",
   "metadata": {},
   "outputs": [
    {
     "ename": "NameError",
     "evalue": "name 'file_object' is not defined",
     "output_type": "error",
     "traceback": [
      "\u001b[1;31m---------------------------------------------------------------------------\u001b[0m",
      "\u001b[1;31mNameError\u001b[0m                                 Traceback (most recent call last)",
      "\u001b[1;32m<ipython-input-8-f713683e94f7>\u001b[0m in \u001b[0;36m<module>\u001b[1;34m\u001b[0m\n\u001b[1;32m----> 1\u001b[1;33m \u001b[0mfile_object\u001b[0m\u001b[1;33m.\u001b[0m\u001b[0mseek\u001b[0m\u001b[1;33m(\u001b[0m\u001b[0moffset\u001b[0m\u001b[1;33m,\u001b[0m\u001b[0mwhence\u001b[0m\u001b[1;33m)\u001b[0m\u001b[1;33m\u001b[0m\u001b[1;33m\u001b[0m\u001b[0m\n\u001b[0m\u001b[0;32m      2\u001b[0m \u001b[1;31m# 0-start of the file\u001b[0m\u001b[1;33m\u001b[0m\u001b[1;33m\u001b[0m\u001b[1;33m\u001b[0m\u001b[0m\n\u001b[0;32m      3\u001b[0m \u001b[1;31m# 1-relative to current position\u001b[0m\u001b[1;33m\u001b[0m\u001b[1;33m\u001b[0m\u001b[1;33m\u001b[0m\u001b[0m\n\u001b[0;32m      4\u001b[0m \u001b[1;31m# 2- end of the file\u001b[0m\u001b[1;33m\u001b[0m\u001b[1;33m\u001b[0m\u001b[1;33m\u001b[0m\u001b[0m\n\u001b[0;32m      5\u001b[0m \u001b[0mf3\u001b[0m\u001b[1;33m=\u001b[0m \u001b[0mopen\u001b[0m\u001b[1;33m(\u001b[0m\u001b[1;34m\"info1.txt\"\u001b[0m\u001b[1;33m,\u001b[0m\u001b[1;34m\"w+\"\u001b[0m \u001b[1;33m)\u001b[0m\u001b[1;33m\u001b[0m\u001b[1;33m\u001b[0m\u001b[0m\n",
      "\u001b[1;31mNameError\u001b[0m: name 'file_object' is not defined"
     ]
    }
   ],
   "source": [
    "file_object.seek(offset,whence)\n",
    "# 0-start of the file\n",
    "# 1-relative to current position\n",
    "# 2- end of the file\n",
    "f3= open(\"info1.txt\",\"w+\" )\n",
    "f3.write(\"learn python online\")\n",
    "f3.seek(3)\n",
    "a=f3.read()\n",
    "print(a)\n",
    "f3.close()"
   ]
  },
  {
   "cell_type": "code",
   "execution_count": 13,
   "id": "e038d7ef",
   "metadata": {},
   "outputs": [
    {
     "name": "stdout",
     "output_type": "stream",
     "text": [
      "monday\n",
      "tuesday\n",
      "wednesday\n",
      "thursday\n",
      "friday\n",
      "\n",
      "monday\n",
      "tuesday\n",
      "wednesday\n",
      "thursday\n",
      "friday\n",
      "saturday\n",
      "sunday\n",
      "\n"
     ]
    }
   ],
   "source": [
    "f3=open(\"Weekdays.txt\",\"w+\")\n",
    "f3.write(\"monday\\n\")\n",
    "f3.write(\"tuesday\\n\")\n",
    "f3.write(\"wednesday\\n\")\n",
    "f3.write(\"thursday\\n\")\n",
    "f3.write(\"friday\\n\")\n",
    "f3.seek(0)\n",
    "a=f3.read()\n",
    "print(a)\n",
    "f3.seek(0,2)\n",
    "f3.write(\"saturday\\n\")\n",
    "f3.write(\"sunday\\n\")\n",
    "f3.seek(0)\n",
    "a=f3.read()\n",
    "print(a)"
   ]
  },
  {
   "cell_type": "code",
   "execution_count": 3,
   "id": "5313aa53",
   "metadata": {},
   "outputs": [
    {
     "name": "stdout",
     "output_type": "stream",
     "text": [
      "Twinkle is present\n"
     ]
    }
   ],
   "source": [
    "f = open('poems.txt')\n",
    "t = f.read()\n",
    "if 'Twinkle' in t:\n",
    "    print(\"Twinkle is present\")\n",
    "else:\n",
    "    print(\"Twinkle is not present\")\n",
    "f.close()"
   ]
  },
  {
   "cell_type": "code",
   "execution_count": 2,
   "id": "7c6f95ec",
   "metadata": {},
   "outputs": [
    {
     "name": "stdout",
     "output_type": "stream",
     "text": [
      "Files are not identical\n"
     ]
    }
   ],
   "source": [
    "file1 = \"weekdays.text\"\n",
    "file2 = \"poems.txt\"\n",
    "\n",
    "with open(file1) as f:\n",
    "    f1 = f.read()\n",
    "\n",
    "with open(file2) as f:\n",
    "    f2= f.read()\n",
    "\n",
    "if f1 == f2:\n",
    "    print(\"Files are identical\")\n",
    "else:\n",
    "    print(\"Files are not identical\")"
   ]
  },
  {
   "cell_type": "code",
   "execution_count": 4,
   "id": "975eb1fc",
   "metadata": {},
   "outputs": [
    {
     "name": "stdout",
     "output_type": "stream",
     "text": [
      "Twinkle Twinkle little star\n",
      "Twinkle is present\n"
     ]
    }
   ],
   "source": [
    "f = open('poems.txt')\n",
    "t = f.read()\n",
    "print(t)\n",
    "if 'Twinkle' in t:\n",
    "    print(\"Twinkle is present\")\n",
    "else:\n",
    "    print(\"Twinkle is not present\")\n",
    "f.close()"
   ]
  },
  {
   "cell_type": "code",
   "execution_count": 26,
   "id": "6aae71a5",
   "metadata": {},
   "outputs": [
    {
     "name": "stdout",
     "output_type": "stream",
     "text": [
      "$%^@$^# $%^@$^# little star\n"
     ]
    }
   ],
   "source": [
    "with open(\"poems.txt\") as f:\n",
    "    content = f.read()\n",
    "print(content)\n",
    "t = content.replace(\"Twinkle\", \"abc\")\n",
    "\n",
    "with open(\"poems.txt\", \"w\") as f:\n",
    "    f.write(t)\n",
    "    "
   ]
  },
  {
   "cell_type": "code",
   "execution_count": 21,
   "id": "b10787c4",
   "metadata": {},
   "outputs": [
    {
     "name": "stdout",
     "output_type": "stream",
     "text": [
      "Enter the text:python is easy\n",
      "Enter the text:i am learning python\n",
      "Enter the text:this is python programming\n"
     ]
    }
   ],
   "source": [
    "def program2():\n",
    "    f = open(\"MyFile.txt\",\"w\")\n",
    "    line1=input(\"Enter the text:\")\n",
    "    line2=input(\"Enter the text:\")\n",
    "    line3=input(\"Enter the text:\")\n",
    "    new_line=\"\\n\"\n",
    "    f.write(line1)\n",
    "    f.write(new_line)\n",
    "    f.write(line2)\n",
    "    f.write(new_line)\n",
    "    f.write(line3)\n",
    "    f.write(new_line)\n",
    "    f.close()\n",
    "program2()"
   ]
  },
  {
   "cell_type": "code",
   "execution_count": 36,
   "id": "93ab241a",
   "metadata": {},
   "outputs": [
    {
     "ename": "FileNotFoundError",
     "evalue": "[Errno 2] No such file or directory: 'oldname'",
     "output_type": "error",
     "traceback": [
      "\u001b[1;31m---------------------------------------------------------------------------\u001b[0m",
      "\u001b[1;31mFileNotFoundError\u001b[0m                         Traceback (most recent call last)",
      "\u001b[1;32m<ipython-input-36-3806dd75e679>\u001b[0m in \u001b[0;36m<module>\u001b[1;34m\u001b[0m\n\u001b[0;32m      3\u001b[0m \u001b[0moldname\u001b[0m \u001b[1;33m=\u001b[0m \u001b[1;34m\"poems.txt\"\u001b[0m\u001b[1;33m\u001b[0m\u001b[1;33m\u001b[0m\u001b[0m\n\u001b[0;32m      4\u001b[0m \u001b[0mnewname\u001b[0m \u001b[1;33m=\u001b[0m \u001b[1;34m\"POEMS.txt\"\u001b[0m\u001b[1;33m\u001b[0m\u001b[1;33m\u001b[0m\u001b[0m\n\u001b[1;32m----> 5\u001b[1;33m \u001b[1;32mwith\u001b[0m \u001b[0mopen\u001b[0m\u001b[1;33m(\u001b[0m\u001b[1;34m\"oldname\"\u001b[0m\u001b[1;33m,\u001b[0m\u001b[1;34m\"r\"\u001b[0m\u001b[1;33m)\u001b[0m \u001b[1;32mas\u001b[0m \u001b[0mf\u001b[0m\u001b[1;33m:\u001b[0m\u001b[1;33m\u001b[0m\u001b[1;33m\u001b[0m\u001b[0m\n\u001b[0m\u001b[0;32m      6\u001b[0m     \u001b[0mcontent\u001b[0m \u001b[1;33m=\u001b[0m \u001b[0mf\u001b[0m\u001b[1;33m.\u001b[0m\u001b[0mread\u001b[0m\u001b[1;33m(\u001b[0m\u001b[1;33m)\u001b[0m\u001b[1;33m\u001b[0m\u001b[1;33m\u001b[0m\u001b[0m\n\u001b[0;32m      7\u001b[0m \u001b[1;33m\u001b[0m\u001b[0m\n",
      "\u001b[1;31mFileNotFoundError\u001b[0m: [Errno 2] No such file or directory: 'oldname'"
     ]
    }
   ],
   "source": [
    "import os\n",
    "\n",
    "oldname = \"poems.txt\"\n",
    "newname = \"POEMS.txt\"\n",
    "with open(\"poems.txt\",\"r\") as f:\n",
    "    content = f.read()\n",
    "\n",
    "with open(\"POEMS.txt\", \"w\") as f:\n",
    "    f.write(content)\n",
    "\n",
    "os.remove(poems.txt)"
   ]
  },
  {
   "cell_type": "code",
   "execution_count": 40,
   "id": "551a3078",
   "metadata": {},
   "outputs": [],
   "source": [
    "def program3():\n",
    "    with open(\"poems.txt\",\"r\") as f1:\n",
    "        data=f1.read()\n",
    "    with open(\"info1.txt\",\"r\") as f2:\n",
    "        data1=f2.read()\n",
    "    with open(\"merge.txt\",\"w\") as f3:\n",
    "        f3.write(data)\n",
    "        f3.write(data1)\n",
    "program3()"
   ]
  },
  {
   "cell_type": "code",
   "execution_count": null,
   "id": "6ce1f989",
   "metadata": {},
   "outputs": [],
   "source": []
  }
 ],
 "metadata": {
  "kernelspec": {
   "display_name": "Python 3",
   "language": "python",
   "name": "python3"
  },
  "language_info": {
   "codemirror_mode": {
    "name": "ipython",
    "version": 3
   },
   "file_extension": ".py",
   "mimetype": "text/x-python",
   "name": "python",
   "nbconvert_exporter": "python",
   "pygments_lexer": "ipython3",
   "version": "3.8.8"
  }
 },
 "nbformat": 4,
 "nbformat_minor": 5
}
