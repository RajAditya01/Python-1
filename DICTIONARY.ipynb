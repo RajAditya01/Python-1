{
 "cells": [
  {
   "cell_type": "code",
   "execution_count": 3,
   "id": "1c7126fa",
   "metadata": {},
   "outputs": [
    {
     "data": {
      "text/plain": [
       "{'aditya': '8076489276', 'anmol': '8756482569'}"
      ]
     },
     "execution_count": 3,
     "metadata": {},
     "output_type": "execute_result"
    }
   ],
   "source": [
    "p={\"aditya\":\"8076489276\",\"anmol\":\"8756482569\"}\n",
    "p"
   ]
  },
  {
   "cell_type": "code",
   "execution_count": 8,
   "id": "0d7e0b71",
   "metadata": {},
   "outputs": [
    {
     "ename": "SyntaxError",
     "evalue": "invalid syntax (<ipython-input-8-944428f6f5a4>, line 1)",
     "output_type": "error",
     "traceback": [
      "\u001b[1;36m  File \u001b[1;32m\"<ipython-input-8-944428f6f5a4>\"\u001b[1;36m, line \u001b[1;32m1\u001b[0m\n\u001b[1;33m    del=a[\"aditya\"]\u001b[0m\n\u001b[1;37m       ^\u001b[0m\n\u001b[1;31mSyntaxError\u001b[0m\u001b[1;31m:\u001b[0m invalid syntax\n"
     ]
    }
   ],
   "source": [
    "del=a[\"aditya\"]\n",
    "a"
   ]
  },
  {
   "cell_type": "code",
   "execution_count": 11,
   "id": "19fe485b",
   "metadata": {},
   "outputs": [
    {
     "data": {
      "text/plain": [
       "{}"
      ]
     },
     "execution_count": 11,
     "metadata": {},
     "output_type": "execute_result"
    }
   ],
   "source": [
    "p={\"aditya\":\"8076489276\",\"anmol\":\"8756482569\"}\n",
    "p.clear()\n",
    "p"
   ]
  },
  {
   "cell_type": "code",
   "execution_count": 13,
   "id": "39ab9b52",
   "metadata": {},
   "outputs": [
    {
     "data": {
      "text/plain": [
       "35"
      ]
     },
     "execution_count": 13,
     "metadata": {},
     "output_type": "execute_result"
    }
   ],
   "source": [
    "Temperature={1:35,\"amol\":\"sethi\",\"delhi\":40,\"chenai\":50}\n",
    "Temperature[1]"
   ]
  },
  {
   "cell_type": "code",
   "execution_count": 14,
   "id": "a23851f7",
   "metadata": {},
   "outputs": [
    {
     "data": {
      "text/plain": [
       "35"
      ]
     },
     "execution_count": 14,
     "metadata": {},
     "output_type": "execute_result"
    }
   ],
   "source": [
    "Temperature.get(1)"
   ]
  },
  {
   "cell_type": "code",
   "execution_count": 19,
   "id": "ef98e776",
   "metadata": {},
   "outputs": [
    {
     "data": {
      "text/plain": [
       "40"
      ]
     },
     "execution_count": 19,
     "metadata": {},
     "output_type": "execute_result"
    }
   ],
   "source": [
    "Temperature.pop(\"delhi\")"
   ]
  },
  {
   "cell_type": "code",
   "execution_count": 20,
   "id": "da24a21d",
   "metadata": {},
   "outputs": [
    {
     "data": {
      "text/plain": [
       "{1: 35, 'amol': 'sethi', 'chenai': 50}"
      ]
     },
     "execution_count": 20,
     "metadata": {},
     "output_type": "execute_result"
    }
   ],
   "source": [
    "Temperature"
   ]
  },
  {
   "cell_type": "code",
   "execution_count": 23,
   "id": "193a3b39",
   "metadata": {},
   "outputs": [
    {
     "data": {
      "text/plain": [
       "35"
      ]
     },
     "execution_count": 23,
     "metadata": {},
     "output_type": "execute_result"
    }
   ],
   "source": [
    "Temperature={1:35,\"amol\":\"sethi\",\"delhi\":40,\"chenai\":50}\n",
    "Temperature.pop(1)"
   ]
  },
  {
   "cell_type": "code",
   "execution_count": 28,
   "id": "f25bdf0d",
   "metadata": {},
   "outputs": [
    {
     "data": {
      "text/plain": [
       "{'amol': 'sethi', 'delhi': 40, 'chenai': 50, 'ambala': 50}"
      ]
     },
     "execution_count": 28,
     "metadata": {},
     "output_type": "execute_result"
    }
   ],
   "source": [
    "# how to add enter in dictonary\n",
    "Temperature[\"ambala\"]=50\n",
    "Temperature"
   ]
  },
  {
   "cell_type": "code",
   "execution_count": 31,
   "id": "a9e1e3ee",
   "metadata": {},
   "outputs": [
    {
     "name": "stdout",
     "output_type": "stream",
     "text": [
      "amol sethi\n",
      "delhi 40\n",
      "chenai 50\n",
      "ambala 50\n"
     ]
    }
   ],
   "source": [
    "# how to travers in dictonary\n",
    "for i in Temperature:\n",
    "    print(i,Temperature[i])"
   ]
  },
  {
   "cell_type": "code",
   "execution_count": 32,
   "id": "da843944",
   "metadata": {},
   "outputs": [
    {
     "data": {
      "text/plain": [
       "dict_keys(['amol', 'delhi', 'chenai', 'ambala'])"
      ]
     },
     "execution_count": 32,
     "metadata": {},
     "output_type": "execute_result"
    }
   ],
   "source": [
    "Temperature.keys()"
   ]
  },
  {
   "cell_type": "code",
   "execution_count": 33,
   "id": "f26f3c37",
   "metadata": {},
   "outputs": [
    {
     "data": {
      "text/plain": [
       "dict_values(['sethi', 40, 50, 50])"
      ]
     },
     "execution_count": 33,
     "metadata": {},
     "output_type": "execute_result"
    }
   ],
   "source": [
    "Temperature.values()"
   ]
  },
  {
   "cell_type": "code",
   "execution_count": 35,
   "id": "94bfd0e5",
   "metadata": {},
   "outputs": [
    {
     "data": {
      "text/plain": [
       "dict_items([('amol', 'sethi'), ('delhi', 40), ('chenai', 50), ('ambala', 50)])"
      ]
     },
     "execution_count": 35,
     "metadata": {},
     "output_type": "execute_result"
    }
   ],
   "source": [
    "Temperature.items()"
   ]
  },
  {
   "cell_type": "code",
   "execution_count": 66,
   "id": "e21e90bb",
   "metadata": {},
   "outputs": [
    {
     "name": "stdout",
     "output_type": "stream",
     "text": [
      "positive: 4\n",
      "negative: 3\n"
     ]
    },
    {
     "data": {
      "text/plain": [
       "{'positive': 4, 'negative': 3}"
      ]
     },
     "execution_count": 66,
     "metadata": {},
     "output_type": "execute_result"
    }
   ],
   "source": [
    "#wap to pass a list to a function.\n",
    "# calculate the total number of positive and -ve no and then display the term in term of dictonary\n",
    "l1=[-1,1,2,3,4,-9,-8]\n",
    "pos_count,neg_count=0,0\n",
    "for num in l1:\n",
    "    if num>=0:\n",
    "        pos_count+=1\n",
    "    else:\n",
    "        neg_count+=1\n",
    "print(\"positive:\",pos_count)\n",
    "print(\"negative:\",neg_count)\n",
    "dictionary={}\n",
    "dictionary[\"positive\"]=pos_count\n",
    "dictionary[\"negative\"]=neg_count\n",
    "dictionary"
   ]
  },
  {
   "cell_type": "code",
   "execution_count": 73,
   "id": "8685ddf4",
   "metadata": {},
   "outputs": [
    {
     "data": {
      "text/plain": [
       "{'a': 2, 'd': 1, 'i': 1, 't': 1, 'y': 1}"
      ]
     },
     "execution_count": 73,
     "metadata": {},
     "output_type": "execute_result"
    }
   ],
   "source": [
    "# waf that take string as a prameter and generate a frequency\n",
    "# of caracters contain in it in form of dictionary \n",
    "counting={}\n",
    "d1=\"aditya\"\n",
    "for i in d1:\n",
    "    if i in counting:\n",
    "        counting[i]+=1\n",
    "    else:\n",
    "        counting[i]=1\n",
    "counting\n",
    "    "
   ]
  },
  {
   "cell_type": "code",
   "execution_count": 11,
   "id": "ae000106",
   "metadata": {},
   "outputs": [
    {
     "data": {
      "text/plain": [
       "dict_items([('name', 'aditya'), ('from', 'bihar'), ('age', '19')])"
      ]
     },
     "execution_count": 11,
     "metadata": {},
     "output_type": "execute_result"
    }
   ],
   "source": [
    "a={\"name\":\"aditya\",\"from\":\"bihar\",\"age\":\"19\"}\n",
    "a.items()\n"
   ]
  },
  {
   "cell_type": "code",
   "execution_count": 12,
   "id": "1aef7afd",
   "metadata": {},
   "outputs": [
    {
     "data": {
      "text/plain": [
       "dict_keys(['name', 'from', 'age'])"
      ]
     },
     "execution_count": 12,
     "metadata": {},
     "output_type": "execute_result"
    }
   ],
   "source": [
    "a.keys()"
   ]
  },
  {
   "cell_type": "code",
   "execution_count": 13,
   "id": "8bb26712",
   "metadata": {},
   "outputs": [
    {
     "data": {
      "text/plain": [
       "dict_values(['aditya', 'bihar', '19'])"
      ]
     },
     "execution_count": 13,
     "metadata": {},
     "output_type": "execute_result"
    }
   ],
   "source": [
    "a.values()"
   ]
  },
  {
   "cell_type": "code",
   "execution_count": 14,
   "id": "be42ef9f",
   "metadata": {},
   "outputs": [
    {
     "data": {
      "text/plain": [
       "'aditya'"
      ]
     },
     "execution_count": 14,
     "metadata": {},
     "output_type": "execute_result"
    }
   ],
   "source": [
    "a.get(\"name\")"
   ]
  },
  {
   "cell_type": "code",
   "execution_count": 18,
   "id": "d2c3d112",
   "metadata": {},
   "outputs": [
    {
     "name": "stdout",
     "output_type": "stream",
     "text": [
      "Options are  dict_keys(['Pankha', 'Dabba', 'Vastu'])\n",
      "Enter the Hindi Word\n",
      "Dabba\n",
      "The meaning of your word is: Box\n"
     ]
    }
   ],
   "source": [
    "myDict = {\n",
    "    \"Pankha\": \"Fan\",\n",
    "    \"Dabba\": \"Box\",\n",
    "    \"Vastu\": \"Item\"\n",
    "}\n",
    "print(\"Options are \", myDict.keys())\n",
    "a = input(\"Enter the Hindi Word\\n\")\n",
    "\n",
    "print(\"The meaning of your word is:\", myDict.get(a))"
   ]
  },
  {
   "cell_type": "code",
   "execution_count": 1,
   "id": "5e1a59dc",
   "metadata": {},
   "outputs": [
    {
     "name": "stdout",
     "output_type": "stream",
     "text": [
      "Enter number 1\n",
      "78\n",
      "Enter number 2\n",
      "45\n",
      "Enter number 3\n",
      "12\n",
      "Enter number 4\n",
      "89\n",
      "Enter number 5\n",
      "56\n",
      "Enter number 6\n",
      "23\n",
      "Enter number 7\n",
      "79\n",
      "Enter number 8\n",
      "46\n",
      "{12, 45, 78, 79, 46, 23, 56, 89} "
     ]
    }
   ],
   "source": [
    "num1 = int(input(\"Enter number 1\\n\"))\n",
    "num2 = int(input(\"Enter number 2\\n\"))\n",
    "num3 = int(input(\"Enter number 3\\n\"))\n",
    "num4 = int(input(\"Enter number 4\\n\"))\n",
    "num5 = int(input(\"Enter number 5\\n\"))\n",
    "num6 = int(input(\"Enter number 6\\n\"))\n",
    "num7 = int(input(\"Enter number 7\\n\"))\n",
    "num8 = int(input(\"Enter number 8\\n\"))\n",
    "\n",
    "s = {num1, num2, num3, num4, num5, num6, num7, num8}\n",
    "print(s,end=\" \")"
   ]
  },
  {
   "cell_type": "code",
   "execution_count": 2,
   "id": "2223d64e",
   "metadata": {},
   "outputs": [
    {
     "name": "stdout",
     "output_type": "stream",
     "text": [
      "Enter your favorite language aditya\n",
      "english\n",
      "Enter your favorite language ankit\n",
      "french\n",
      "Enter your favorite language harshit\n",
      "russian\n",
      "Enter your favorite language jatin\n",
      "hindi\n",
      "{'aditya': 'english', 'ankit': 'french', 'harshit': 'russian', 'jatin': 'hindi'}\n"
     ]
    }
   ],
   "source": [
    "favLang = {}\n",
    "a = input(\"Enter your favorite language aditya\\n\")\n",
    "b = input(\"Enter your favorite language ankit\\n\")\n",
    "c = input(\"Enter your favorite language harshit\\n\")\n",
    "d = input(\"Enter your favorite language jatin\\n\")\n",
    "favLang['aditya'] = a\n",
    "favLang['ankit'] = b\n",
    "favLang['harshit'] = c\n",
    "favLang['jatin'] = d\n",
    "\n",
    "print(favLang)\n"
   ]
  },
  {
   "cell_type": "code",
   "execution_count": 1,
   "id": "1b04a4b0",
   "metadata": {},
   "outputs": [],
   "source": [
    "dict={'key1':'value1','key1':'value2'}"
   ]
  },
  {
   "cell_type": "code",
   "execution_count": 6,
   "id": "699a6fd4",
   "metadata": {},
   "outputs": [
    {
     "name": "stdout",
     "output_type": "stream",
     "text": [
      "how many elements?\n",
      "4\n",
      "enter key: name\n",
      "enter its value punit\n",
      "enter key: age\n",
      "enter its value 19\n",
      "enter key: course\n",
      "enter its value Btech\n",
      "enter key: branch\n",
      "enter its value computer science \n",
      "the dictionary is: {'name': 'punit', 'age': '19', 'course': 'Btech', 'branch': 'computer science '}\n"
     ]
    }
   ],
   "source": [
    "x={}\n",
    "print(\"how many elements?\")\n",
    "n=int(input())\n",
    "for i in range(n):\n",
    "    print('enter key:',end=' ')\n",
    "    key=input()\n",
    "    print('enter its value',end=' ')\n",
    "    value=input()\n",
    "    x.update({key:value})\n",
    "print('the dictionary is:',x)\n",
    "    "
   ]
  },
  {
   "cell_type": "code",
   "execution_count": null,
   "id": "697af038",
   "metadata": {},
   "outputs": [],
   "source": []
  }
 ],
 "metadata": {
  "kernelspec": {
   "display_name": "Python 3",
   "language": "python",
   "name": "python3"
  },
  "language_info": {
   "codemirror_mode": {
    "name": "ipython",
    "version": 3
   },
   "file_extension": ".py",
   "mimetype": "text/x-python",
   "name": "python",
   "nbconvert_exporter": "python",
   "pygments_lexer": "ipython3",
   "version": "3.8.8"
  }
 },
 "nbformat": 4,
 "nbformat_minor": 5
}
