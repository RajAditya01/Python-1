{
 "cells": [
  {
   "cell_type": "code",
   "execution_count": 1,
   "id": "dde4b238",
   "metadata": {},
   "outputs": [
    {
     "name": "stdout",
     "output_type": "stream",
     "text": [
      "The value of a is greater than 7\n",
      "The value is not greater than 3 or 7\n",
      "Done\n"
     ]
    }
   ],
   "source": [
    "a = 8\n",
    "\n",
    "# 1. if-elif-else ladder in Python\n",
    "# if(a<3): \n",
    "#     print(\"The value of a is greater than 3\")\n",
    "# elif(a>13):\n",
    "#     print(\"The value of a is greater than 13\")\n",
    "# elif(a>7):\n",
    "#     print(\"The value of a is greater than 7\")\n",
    "# elif(a>17):\n",
    "#     print(\"The value of a is greater than 17\")\n",
    "# else:\n",
    "#     print(\"The value is not greater than 3 or 7\")\n",
    "\n",
    "# 2. Multiple if statements\n",
    "if(a<3): \n",
    "    print(\"The value of a is greater than 3\")\n",
    "\n",
    "if(a>13):\n",
    "    print(\"The value of a is greater than 13\")\n",
    "    \n",
    "if(a>7):\n",
    "    print(\"The value of a is greater than 7\")\n",
    "\n",
    "if(a>17):\n",
    "    print(\"The value of a is greater than 17\")\n",
    "else:\n",
    "    print(\"The value is not greater than 3 or 7\")\n",
    "\n",
    "print(\"Done\")"
   ]
  },
  {
   "cell_type": "code",
   "execution_count": 1,
   "id": "d5771bff",
   "metadata": {},
   "outputs": [
    {
     "name": "stdout",
     "output_type": "stream",
     "text": [
      "Enter your age: 67\n",
      "You can work with us\n"
     ]
    }
   ],
   "source": [
    "age = int(input(\"Enter your age: \"))\n",
    "if(age>34 or age<56):\n",
    "    print(\"You can work with us\")\n",
    "\n"
   ]
  },
  {
   "cell_type": "code",
   "execution_count": null,
   "id": "508a8976",
   "metadata": {},
   "outputs": [],
   "source": [
    "PI = 3.14\n",
    "radius =int(input(\"Enter Radius: \"))\n",
    "Height=int(input(\"Enter the Height: \"))\n",
    "if radius > 0:\n",
    "    Volume = PI * radius * radius * Height\n",
    "    print(Volume)\n",
    "\n"
   ]
  },
  {
   "cell_type": "code",
   "execution_count": 1,
   "id": "e02f89d1",
   "metadata": {},
   "outputs": [
    {
     "name": "stdout",
     "output_type": "stream",
     "text": [
      "Enter Radius: 10\n",
      "Enter the Height: 5\n",
      "1570.0\n"
     ]
    }
   ],
   "source": [
    "PI = 3.14\n",
    "radius =int(input(\"Enter Radius: \"))\n",
    "Height=int(input(\"Enter the Height: \"))\n",
    "if radius > 0:\n",
    "    Volume = PI * radius * radius * Height\n",
    "    print(Volume)\n",
    "    "
   ]
  },
  {
   "cell_type": "code",
   "execution_count": 2,
   "id": "4388b132",
   "metadata": {},
   "outputs": [
    {
     "name": "stdout",
     "output_type": "stream",
     "text": [
      "Enter first subject marks\n",
      "90\n",
      "Enter second subject marks\n",
      "89\n",
      "Enter third subject marks\n",
      "88\n",
      "Congatulations! You passed the exam\n"
     ]
    }
   ],
   "source": [
    "sub1 = int(input(\"Enter first subject marks\\n\"))\n",
    "sub2 = int(input(\"Enter second subject marks\\n\"))\n",
    "sub3 = int(input(\"Enter third subject marks\\n\"))\n",
    "\n",
    "if(sub1<33 or sub2<33 or sub3<33):\n",
    "    print(\"You are fail because you have less than 33% in one of the subjects\")\n",
    "elif(sub1+sub2+sub3)/3 < 40:\n",
    "    print(\"You are fail due to total percentage less than 40\")\n",
    "else:\n",
    "    print(\"Congatulations! You passed the exam\")"
   ]
  },
  {
   "cell_type": "code",
   "execution_count": 3,
   "id": "04c7b100",
   "metadata": {},
   "outputs": [
    {
     "name": "stdout",
     "output_type": "stream",
     "text": [
      "A is not 10\n"
     ]
    }
   ],
   "source": [
    "a = 11\n",
    "print(\"A is 10\") if a == 10 else print(\"A is not 10\")\n",
    "\n"
   ]
  },
  {
   "cell_type": "code",
   "execution_count": 7,
   "id": "6289aadc",
   "metadata": {},
   "outputs": [
    {
     "name": "stdout",
     "output_type": "stream",
     "text": [
      "Enter your age: 18\n",
      "No\n"
     ]
    }
   ],
   "source": [
    "age = int(input(\"Enter your age: \")) \n",
    "print(\"Yes\") if age>18 else print(\"No\")"
   ]
  },
  {
   "cell_type": "code",
   "execution_count": 2,
   "id": "21b436f7",
   "metadata": {},
   "outputs": [
    {
     "name": "stdout",
     "output_type": "stream",
     "text": [
      "Enter your age: 23\n",
      "you are eligible for driving license.\n"
     ]
    }
   ],
   "source": [
    "age = int(input(\"Enter your age: \"))\n",
    "if age>18:\n",
    "    print(\"you are eligible for driving license.\")\n",
    "else:\n",
    "    (\"you are not eligible for driving license.\")"
   ]
  },
  {
   "cell_type": "code",
   "execution_count": 4,
   "id": "a208c9c9",
   "metadata": {},
   "outputs": [
    {
     "name": "stdout",
     "output_type": "stream",
     "text": [
      "any other value\n"
     ]
    }
   ],
   "source": [
    "a = 6\n",
    "if(a==7):\n",
    "    print(\"not equal to 7\")\n",
    "elif(a>56):\n",
    "    print(\"not even around 7\")\n",
    "else:\n",
    "    print(\"any other value\")"
   ]
  },
  {
   "cell_type": "code",
   "execution_count": 5,
   "id": "66e9ada9",
   "metadata": {},
   "outputs": [
    {
     "name": "stdout",
     "output_type": "stream",
     "text": [
      "enter the number:56\n",
      "56 is even number\n"
     ]
    }
   ],
   "source": [
    "x=int(input('enter the number:'))\n",
    "print(x,'is even number') if x%2==0 else print(x,'is odd number')"
   ]
  },
  {
   "cell_type": "code",
   "execution_count": null,
   "id": "002723b8",
   "metadata": {},
   "outputs": [],
   "source": []
  }
 ],
 "metadata": {
  "kernelspec": {
   "display_name": "Python 3",
   "language": "python",
   "name": "python3"
  },
  "language_info": {
   "codemirror_mode": {
    "name": "ipython",
    "version": 3
   },
   "file_extension": ".py",
   "mimetype": "text/x-python",
   "name": "python",
   "nbconvert_exporter": "python",
   "pygments_lexer": "ipython3",
   "version": "3.8.8"
  }
 },
 "nbformat": 4,
 "nbformat_minor": 5
}
