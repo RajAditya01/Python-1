{
 "cells": [
  {
   "cell_type": "code",
   "execution_count": 31,
   "id": "e1bbda09",
   "metadata": {},
   "outputs": [
    {
     "name": "stdout",
     "output_type": "stream",
     "text": [
      " iamdty\n"
     ]
    }
   ],
   "source": [
    "# wap to remove all duplicate string which are replace to each other even contact\n",
    "aditya=\"iamamaditya\"\n",
    "raj=\" \"\n",
    "for char in aditya:\n",
    "    if char not in raj:\n",
    "        raj=raj+char\n",
    "print(raj)"
   ]
  },
  {
   "cell_type": "code",
   "execution_count": 28,
   "id": "3d85f8bf",
   "metadata": {},
   "outputs": [
    {
     "name": "stdout",
     "output_type": "stream",
     "text": [
      "5000\n"
     ]
    }
   ],
   "source": [
    "# wap to find the largest no from a list\n",
    "a1=[1, 2, 300, 10, 11, 5000]\n",
    "largest_number=a1[0]\n",
    "for number in a1:\n",
    "    if number > largest_number:\n",
    "        largest_number=number\n",
    "print(largest_number)"
   ]
  },
  {
   "cell_type": "code",
   "execution_count": 54,
   "id": "8f0a068a",
   "metadata": {},
   "outputs": [
    {
     "name": "stdout",
     "output_type": "stream",
     "text": [
      "2\n",
      "[200, 500]\n"
     ]
    }
   ],
   "source": [
    "#1\n",
    "l1=[55,100,200,500,70] \n",
    "l1.sort()\n",
    "n=eval(input())\n",
    "print(l1[-2:])"
   ]
  },
  {
   "cell_type": "code",
   "execution_count": 64,
   "id": "8389098b",
   "metadata": {},
   "outputs": [
    {
     "name": "stdout",
     "output_type": "stream",
     "text": [
      "i am aditya\n"
     ]
    }
   ],
   "source": [
    "#2\n",
    "a=\"i am am aditya aditya\"\n",
    "a=a.split()\n",
    "b=[]\n",
    "for i in  a:\n",
    "    if i not in b:\n",
    "        b.append(i)\n",
    "raj=\" \".join(b)\n",
    "print(raj) \n"
   ]
  },
  {
   "cell_type": "code",
   "execution_count": null,
   "id": "257c2471",
   "metadata": {},
   "outputs": [],
   "source": []
  },
  {
   "cell_type": "code",
   "execution_count": null,
   "id": "cc9a5dc1",
   "metadata": {},
   "outputs": [],
   "source": []
  }
 ],
 "metadata": {
  "kernelspec": {
   "display_name": "Python 3",
   "language": "python",
   "name": "python3"
  },
  "language_info": {
   "codemirror_mode": {
    "name": "ipython",
    "version": 3
   },
   "file_extension": ".py",
   "mimetype": "text/x-python",
   "name": "python",
   "nbconvert_exporter": "python",
   "pygments_lexer": "ipython3",
   "version": "3.8.8"
  }
 },
 "nbformat": 4,
 "nbformat_minor": 5
}
