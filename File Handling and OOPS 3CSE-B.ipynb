{
 "cells": [
  {
   "cell_type": "code",
   "execution_count": 1,
   "metadata": {},
   "outputs": [],
   "source": [
    "# file object= open(File_Name, [Access_Mode])\n",
    "# _io.TextIOWrapper class\n",
    "# f=open(\"c:/Info1.txt\",\"r\")\n",
    "# writing Text to a File\n",
    "def abc():\n",
    "    F1 = open(\"Info1.txt\",\"w\")\n",
    "    F1.write(\"Hello How are you? \\n\")\n",
    "    F1.write(\"Welcome to Python Programming class \\n\")\n",
    "    F1.write('Enjoy the session. \\n')\n",
    "    F1.close()\n",
    "abc()\n",
    "        "
   ]
  },
  {
   "cell_type": "code",
   "execution_count": 24,
   "metadata": {},
   "outputs": [
    {
     "ename": "TypeError",
     "evalue": "write() argument must be str, not int",
     "output_type": "error",
     "traceback": [
      "\u001b[1;31m---------------------------------------------------------------------------\u001b[0m",
      "\u001b[1;31mTypeError\u001b[0m                                 Traceback (most recent call last)",
      "\u001b[1;32m<ipython-input-24-70dde6a04891>\u001b[0m in \u001b[0;36m<module>\u001b[1;34m\u001b[0m\n\u001b[0;32m      4\u001b[0m         \u001b[0mF2\u001b[0m\u001b[1;33m.\u001b[0m\u001b[0mwrite\u001b[0m\u001b[1;33m(\u001b[0m\u001b[0mx\u001b[0m\u001b[1;33m)\u001b[0m\u001b[1;33m\u001b[0m\u001b[1;33m\u001b[0m\u001b[0m\n\u001b[0;32m      5\u001b[0m     \u001b[0mF2\u001b[0m\u001b[1;33m.\u001b[0m\u001b[0mclose\u001b[0m\u001b[1;33m(\u001b[0m\u001b[1;33m)\u001b[0m\u001b[1;33m\u001b[0m\u001b[1;33m\u001b[0m\u001b[0m\n\u001b[1;32m----> 6\u001b[1;33m \u001b[0mxyz\u001b[0m\u001b[1;33m(\u001b[0m\u001b[1;33m)\u001b[0m\u001b[1;33m\u001b[0m\u001b[1;33m\u001b[0m\u001b[0m\n\u001b[0m",
      "\u001b[1;32m<ipython-input-24-70dde6a04891>\u001b[0m in \u001b[0;36mxyz\u001b[1;34m()\u001b[0m\n\u001b[0;32m      2\u001b[0m     \u001b[0mF2\u001b[0m \u001b[1;33m=\u001b[0m \u001b[0mopen\u001b[0m\u001b[1;33m(\u001b[0m\u001b[1;34m\"Info2.txt\"\u001b[0m\u001b[1;33m,\u001b[0m\u001b[1;34m\"w\"\u001b[0m\u001b[1;33m)\u001b[0m\u001b[1;33m\u001b[0m\u001b[1;33m\u001b[0m\u001b[0m\n\u001b[0;32m      3\u001b[0m     \u001b[1;32mfor\u001b[0m \u001b[0mx\u001b[0m \u001b[1;32min\u001b[0m \u001b[0mrange\u001b[0m\u001b[1;33m(\u001b[0m\u001b[1;36m1\u001b[0m\u001b[1;33m,\u001b[0m\u001b[1;36m20\u001b[0m\u001b[1;33m)\u001b[0m\u001b[1;33m:\u001b[0m\u001b[1;33m\u001b[0m\u001b[1;33m\u001b[0m\u001b[0m\n\u001b[1;32m----> 4\u001b[1;33m         \u001b[0mF2\u001b[0m\u001b[1;33m.\u001b[0m\u001b[0mwrite\u001b[0m\u001b[1;33m(\u001b[0m\u001b[0mx\u001b[0m\u001b[1;33m)\u001b[0m\u001b[1;33m\u001b[0m\u001b[1;33m\u001b[0m\u001b[0m\n\u001b[0m\u001b[0;32m      5\u001b[0m     \u001b[0mF2\u001b[0m\u001b[1;33m.\u001b[0m\u001b[0mclose\u001b[0m\u001b[1;33m(\u001b[0m\u001b[1;33m)\u001b[0m\u001b[1;33m\u001b[0m\u001b[1;33m\u001b[0m\u001b[0m\n\u001b[0;32m      6\u001b[0m \u001b[0mxyz\u001b[0m\u001b[1;33m(\u001b[0m\u001b[1;33m)\u001b[0m\u001b[1;33m\u001b[0m\u001b[1;33m\u001b[0m\u001b[0m\n",
      "\u001b[1;31mTypeError\u001b[0m: write() argument must be str, not int"
     ]
    }
   ],
   "source": [
    "def xyz():\n",
    "    F2 = open(\"Info2.txt\",\"w\")\n",
    "    for x in range(1,20):\n",
    "        F2.write(x)\n",
    "    F2.close()\n",
    "xyz()"
   ]
  },
  {
   "cell_type": "code",
   "execution_count": 26,
   "metadata": {},
   "outputs": [
    {
     "ename": "TypeError",
     "evalue": "write() takes exactly one argument (2 given)",
     "output_type": "error",
     "traceback": [
      "\u001b[1;31m---------------------------------------------------------------------------\u001b[0m",
      "\u001b[1;31mTypeError\u001b[0m                                 Traceback (most recent call last)",
      "\u001b[1;32m<ipython-input-26-5bdaa2a6f66d>\u001b[0m in \u001b[0;36m<module>\u001b[1;34m\u001b[0m\n\u001b[0;32m      5\u001b[0m         \u001b[0mF2\u001b[0m\u001b[1;33m.\u001b[0m\u001b[0mwrite\u001b[0m\u001b[1;33m(\u001b[0m\u001b[0mx\u001b[0m\u001b[1;33m,\u001b[0m\u001b[1;34m\"\\n\"\u001b[0m\u001b[1;33m)\u001b[0m\u001b[1;33m\u001b[0m\u001b[1;33m\u001b[0m\u001b[0m\n\u001b[0;32m      6\u001b[0m     \u001b[0mF2\u001b[0m\u001b[1;33m.\u001b[0m\u001b[0mclose\u001b[0m\u001b[1;33m(\u001b[0m\u001b[1;33m)\u001b[0m\u001b[1;33m\u001b[0m\u001b[1;33m\u001b[0m\u001b[0m\n\u001b[1;32m----> 7\u001b[1;33m \u001b[0mxyz\u001b[0m\u001b[1;33m(\u001b[0m\u001b[1;33m)\u001b[0m\u001b[1;33m\u001b[0m\u001b[1;33m\u001b[0m\u001b[0m\n\u001b[0m",
      "\u001b[1;32m<ipython-input-26-5bdaa2a6f66d>\u001b[0m in \u001b[0;36mxyz\u001b[1;34m()\u001b[0m\n\u001b[0;32m      3\u001b[0m     \u001b[1;32mfor\u001b[0m \u001b[0mx\u001b[0m \u001b[1;32min\u001b[0m \u001b[0mrange\u001b[0m\u001b[1;33m(\u001b[0m\u001b[1;36m1\u001b[0m\u001b[1;33m,\u001b[0m\u001b[1;36m21\u001b[0m\u001b[1;33m)\u001b[0m\u001b[1;33m:\u001b[0m\u001b[1;33m\u001b[0m\u001b[1;33m\u001b[0m\u001b[0m\n\u001b[0;32m      4\u001b[0m         \u001b[0mx\u001b[0m\u001b[1;33m=\u001b[0m\u001b[0mstr\u001b[0m\u001b[1;33m(\u001b[0m\u001b[0mx\u001b[0m\u001b[1;33m)\u001b[0m\u001b[1;33m\u001b[0m\u001b[1;33m\u001b[0m\u001b[0m\n\u001b[1;32m----> 5\u001b[1;33m         \u001b[0mF2\u001b[0m\u001b[1;33m.\u001b[0m\u001b[0mwrite\u001b[0m\u001b[1;33m(\u001b[0m\u001b[0mx\u001b[0m\u001b[1;33m,\u001b[0m\u001b[1;34m\"\\n\"\u001b[0m\u001b[1;33m)\u001b[0m\u001b[1;33m\u001b[0m\u001b[1;33m\u001b[0m\u001b[0m\n\u001b[0m\u001b[0;32m      6\u001b[0m     \u001b[0mF2\u001b[0m\u001b[1;33m.\u001b[0m\u001b[0mclose\u001b[0m\u001b[1;33m(\u001b[0m\u001b[1;33m)\u001b[0m\u001b[1;33m\u001b[0m\u001b[1;33m\u001b[0m\u001b[0m\n\u001b[0;32m      7\u001b[0m \u001b[0mxyz\u001b[0m\u001b[1;33m(\u001b[0m\u001b[1;33m)\u001b[0m\u001b[1;33m\u001b[0m\u001b[1;33m\u001b[0m\u001b[0m\n",
      "\u001b[1;31mTypeError\u001b[0m: write() takes exactly one argument (2 given)"
     ]
    }
   ],
   "source": [
    "# writing numbers to a File\n",
    "def xyz():\n",
    "    F2 = open(\"Info2.txt\",\"w\")\n",
    "    for x in range(1,21):\n",
    "        x=str(x)\n",
    "        F2.write(x,\"\\n\")\n",
    "    F2.close()\n",
    "xyz()"
   ]
  },
  {
   "cell_type": "code",
   "execution_count": 2,
   "metadata": {},
   "outputs": [],
   "source": [
    "def xyz():\n",
    "    F2 = open(\"Info2.txt\",\"w\")\n",
    "    for x in range(1,21):\n",
    "        x=str(x)\n",
    "        F2.write(x)\n",
    "        F2.write(\"\\n\")\n",
    "    F2.close()\n",
    "xyz()"
   ]
  },
  {
   "cell_type": "code",
   "execution_count": 55,
   "metadata": {},
   "outputs": [
    {
     "name": "stdout",
     "output_type": "stream",
     "text": [
      "Hello How are you? \n",
      "Welcome to Python Programming class \n",
      "Enjoy the session. \n",
      "\n"
     ]
    }
   ],
   "source": [
    "# Reading Text from a File\n",
    "F3 = open(\"Info1.txt\",\"r\")\n",
    "text = F3.read()\n",
    "print(text)"
   ]
  },
  {
   "cell_type": "code",
   "execution_count": 36,
   "metadata": {},
   "outputs": [
    {
     "name": "stdout",
     "output_type": "stream",
     "text": [
      "Hello How are you? \n",
      "\n",
      "Welcome to Python Programming class \n",
      "\n",
      "Enjoy the session. \n",
      "\n"
     ]
    }
   ],
   "source": [
    "F3 = open(\"Info1.txt\",\"r\")\n",
    "for text in F3:\n",
    "          print(text)"
   ]
  },
  {
   "cell_type": "code",
   "execution_count": 2,
   "metadata": {},
   "outputs": [
    {
     "name": "stdout",
     "output_type": "stream",
     "text": [
      "1\n",
      "2\n",
      "3\n",
      "4\n",
      "5\n",
      "6\n",
      "7\n",
      "8\n",
      "9\n",
      "10\n",
      "11\n",
      "12\n",
      "13\n",
      "14\n",
      "15\n",
      "16\n",
      "17\n",
      "18\n",
      "19\n",
      "20\n",
      "\n",
      "<class 'str'>\n"
     ]
    }
   ],
   "source": [
    "# reading numbers from a File\n",
    "F4 = open(\"Info2.txt\",\"r\")\n",
    "text= F4.read()\n",
    "print(text)\n",
    "print(type(text))"
   ]
  },
  {
   "cell_type": "code",
   "execution_count": 6,
   "metadata": {},
   "outputs": [
    {
     "name": "stdout",
     "output_type": "stream",
     "text": [
      "1\n",
      "\n",
      "<class 'str'>\n"
     ]
    }
   ],
   "source": [
    "F4 = open(\"Info2.txt\",\"r\")\n",
    "text= F4.readline()\n",
    "print(text)\n",
    "print(type(text))"
   ]
  },
  {
   "cell_type": "code",
   "execution_count": 45,
   "metadata": {},
   "outputs": [
    {
     "name": "stdout",
     "output_type": "stream",
     "text": [
      "1\n",
      "<class 'int'>\n"
     ]
    }
   ],
   "source": [
    "F4 = open(\"Info2.txt\",\"r\")\n",
    "text= int(F4.readline())\n",
    "print(text)\n",
    "print(type(text))"
   ]
  },
  {
   "cell_type": "code",
   "execution_count": 9,
   "metadata": {},
   "outputs": [
    {
     "name": "stdout",
     "output_type": "stream",
     "text": [
      "210\n"
     ]
    }
   ],
   "source": [
    "F4 = open(\"Info2.txt\",\"r\")\n",
    "sum = 0\n",
    "for i in range(20):\n",
    "    text= int(F4.readline())\n",
    "    sum= sum + text\n",
    "print(sum)"
   ]
  },
  {
   "cell_type": "code",
   "execution_count": 10,
   "metadata": {},
   "outputs": [
    {
     "name": "stdout",
     "output_type": "stream",
     "text": [
      "['Hello', 'How', 'are', 'you?']\n",
      "Hello\n",
      "How\n",
      "are\n",
      "you?\n",
      "['Welcome', 'to', 'Python', 'Programming', 'class']\n",
      "Welcome\n",
      "to\n",
      "Python\n",
      "Programming\n",
      "class\n",
      "['Enjoy', 'the', 'session.']\n",
      "Enjoy\n",
      "the\n",
      "session.\n"
     ]
    }
   ],
   "source": [
    "F3 = open(\"Info1.txt\",\"r\")\n",
    "for i in range(3):\n",
    "    text= F3.readline().split()\n",
    "    print(text)\n",
    "    for i in range (len(text)):\n",
    "        print(text[i])\n"
   ]
  },
  {
   "cell_type": "code",
   "execution_count": 11,
   "metadata": {},
   "outputs": [
    {
     "name": "stdout",
     "output_type": "stream",
     "text": [
      "Hello How are you? \n",
      "\n",
      "H\n",
      "e\n",
      "l\n",
      "l\n",
      "o\n",
      " \n",
      "H\n",
      "o\n",
      "w\n",
      " \n",
      "a\n",
      "r\n",
      "e\n",
      " \n",
      "y\n",
      "o\n",
      "u\n",
      "?\n",
      " \n",
      "\n",
      "\n",
      "Welcome to Python Programming class \n",
      "\n",
      "W\n",
      "e\n",
      "l\n",
      "c\n",
      "o\n",
      "m\n",
      "e\n",
      " \n",
      "t\n",
      "o\n",
      " \n",
      "P\n",
      "y\n",
      "t\n",
      "h\n",
      "o\n",
      "n\n",
      " \n",
      "P\n",
      "r\n",
      "o\n",
      "g\n",
      "r\n",
      "a\n",
      "m\n",
      "m\n",
      "i\n",
      "n\n",
      "g\n",
      " \n",
      "c\n",
      "l\n",
      "a\n",
      "s\n",
      "s\n",
      " \n",
      "\n",
      "\n",
      "Enjoy the session. \n",
      "\n",
      "E\n",
      "n\n",
      "j\n",
      "o\n",
      "y\n",
      " \n",
      "t\n",
      "h\n",
      "e\n",
      " \n",
      "s\n",
      "e\n",
      "s\n",
      "s\n",
      "i\n",
      "o\n",
      "n\n",
      ".\n",
      " \n",
      "\n",
      "\n"
     ]
    }
   ],
   "source": [
    "F3 = open(\"Info1.txt\",\"r\")\n",
    "for i in range(3):\n",
    "    text= F3.readline()\n",
    "    text.split()\n",
    "    print(text)\n",
    "    for i in range (len(text)):\n",
    "        print(text[i])"
   ]
  },
  {
   "cell_type": "code",
   "execution_count": 13,
   "metadata": {},
   "outputs": [],
   "source": [
    "F3 = open(\"Info1.txt\",\"a\")\n",
    "F3.write(\"Learn Python Online\")\n",
    "F3.close()"
   ]
  },
  {
   "cell_type": "code",
   "execution_count": 4,
   "metadata": {},
   "outputs": [
    {
     "name": "stdout",
     "output_type": "stream",
     "text": [
      "Hello How are you? \n",
      "Welcome to Python Programming class \n",
      "Enjoy the session. \n",
      "Learn Python Online\n"
     ]
    }
   ],
   "source": [
    "F3 = open(\"Info1.txt\",\"r\")\n",
    "text=F3.read()\n",
    "print(text)"
   ]
  },
  {
   "cell_type": "code",
   "execution_count": 76,
   "metadata": {},
   "outputs": [
    {
     "name": "stdout",
     "output_type": "stream",
     "text": [
      "rn Python Offline\n"
     ]
    }
   ],
   "source": [
    "File_object.seek(offset, whence) \n",
    "# 0-start of the file, \n",
    "# 1-relative to current position , \n",
    "# 2-end of the file \n",
    "F3 = open(\"Info1.txt\",\"w+\")\n",
    "F3.write(\"Learn Python Offline\")\n",
    "F3.seek(3)\n",
    "a=F3.read()\n",
    "print(a)\n",
    "F3.close()"
   ]
  },
  {
   "cell_type": "code",
   "execution_count": 78,
   "metadata": {},
   "outputs": [
    {
     "name": "stdout",
     "output_type": "stream",
     "text": [
      "Monday \n",
      "Tuesday \n",
      "wednesday \n",
      "Thursday \n",
      "Friday \n",
      "Saturday \n",
      "Sunday \n",
      "Week Days \n",
      "End\n"
     ]
    }
   ],
   "source": [
    "fp1 = open ('Weekdays.txt','w+')\n",
    "fp1.write('Monday \\n')\n",
    "fp1.write('Tuesday \\n')\n",
    "fp1.write('wednesday \\n')\n",
    "fp1.write('Thursday \\n')\n",
    "fp1.write('Friday \\n')\n",
    "fp1.write('Saturday \\n')\n",
    "fp1.write('Sunday \\n')\n",
    "\n",
    "fp1.seek(0)\n",
    "t=fp1.read()\n",
    "fp1.seek(0,2)\n",
    "fp1.write('Week Days \\n')\n",
    "fp1.write('End')\n",
    "fp1.seek(0)\n",
    "t=fp1.read()\n",
    "print(t)"
   ]
  },
  {
   "cell_type": "code",
   "execution_count": 6,
   "metadata": {},
   "outputs": [],
   "source": [
    "FP1=open(\"Info1.txt\",\"w\")\n",
    "FP1.write(\"Hello How r u? \\n\")\n",
    "FP1.write(\"Python class is going on? \\n\")\n",
    "FP1.write(\"I am in class right now\")\n",
    "FP1.close()"
   ]
  },
  {
   "cell_type": "code",
   "execution_count": 1,
   "metadata": {},
   "outputs": [
    {
     "name": "stdout",
     "output_type": "stream",
     "text": [
      "Welcome to python class\n",
      "<__main__.Demo object at 0x0000019BA3BDED68>\n"
     ]
    }
   ],
   "source": [
    "class Demo:\n",
    "    print('Welcome to python class')\n",
    "\n",
    "D1 = Demo()\n",
    "print(D1)"
   ]
  },
  {
   "cell_type": "code",
   "execution_count": 3,
   "metadata": {},
   "outputs": [
    {
     "name": "stdout",
     "output_type": "stream",
     "text": [
      "0\n",
      "0\n",
      "20\n",
      "30\n"
     ]
    }
   ],
   "source": [
    "class Rectangle:\n",
    "    len=0\n",
    "    breadth=0\n",
    "R1= Rectangle()\n",
    "print(R1.len)\n",
    "print(R1.breadth)\n",
    "R1.len=20\n",
    "R1.breadth=30\n",
    "print(R1.len)\n",
    "print(R1.breadth)"
   ]
  },
  {
   "cell_type": "code",
   "execution_count": 4,
   "metadata": {},
   "outputs": [
    {
     "name": "stdout",
     "output_type": "stream",
     "text": [
      "Welcome to python class\n"
     ]
    }
   ],
   "source": [
    "class Demo1:\n",
    "    def Display(self):\n",
    "        print(\"Welcome to python class\")\n",
    "ob1 = Demo1()\n",
    "ob1.Display()"
   ]
  },
  {
   "cell_type": "code",
   "execution_count": 7,
   "metadata": {},
   "outputs": [
    {
     "name": "stdout",
     "output_type": "stream",
     "text": [
      "radius= 5\n"
     ]
    },
    {
     "data": {
      "text/plain": [
       "78.53981633974483"
      ]
     },
     "execution_count": 7,
     "metadata": {},
     "output_type": "execute_result"
    }
   ],
   "source": [
    "import math\n",
    "class circle:\n",
    "    def calc_area(self,radius):\n",
    "        print(\"radius=\",radius)\n",
    "        return math.pi*radius**2\n",
    "ob2 = circle()\n",
    "ob2.calc_area(5)"
   ]
  },
  {
   "cell_type": "code",
   "execution_count": 2,
   "metadata": {},
   "outputs": [
    {
     "name": "stdout",
     "output_type": "stream",
     "text": [
      "value of local variable is 30\n",
      "the value of instance variable is 5\n"
     ]
    }
   ],
   "source": [
    "class Practical:\n",
    "    x=5\n",
    "    def display(self,x):\n",
    "        x=30\n",
    "        print(\"value of local variable is\",x)\n",
    "        print(\"the value of instance variable is\",self.x)\n",
    "        \n",
    "ob=Practical()\n",
    "ob.display(50)\n"
   ]
  },
  {
   "cell_type": "code",
   "execution_count": 3,
   "metadata": {},
   "outputs": [
    {
     "name": "stdout",
     "output_type": "stream",
     "text": [
      "I am in method b\n",
      "I am in method a\n"
     ]
    }
   ],
   "source": [
    "class Demo:\n",
    "    def method_a(self):\n",
    "        print(\"I am in method a\")\n",
    "    def method_b(self):\n",
    "        print(\"I am in method b\")\n",
    "        self.method_a()\n",
    "        \n",
    "ob=Demo()\n",
    "ob.method_b()\n",
    "        "
   ]
  },
  {
   "cell_type": "code",
   "execution_count": 6,
   "metadata": {},
   "outputs": [
    {
     "name": "stdout",
     "output_type": "stream",
     "text": [
      "Name= Ram\n",
      "Name= Ram\n",
      "Bank account Number= 101010\n",
      "Name= Ram\n",
      "Bank account Number= 101010\n"
     ]
    }
   ],
   "source": [
    "class Person:\n",
    "    def __init__(self):\n",
    "        self.name=\"Ram\"\n",
    "        self.__BankAccNo=101010\n",
    "    def Display(self):\n",
    "        print(\"Name=\",self.name)\n",
    "        print(\"Bank account Number=\", self.__BankAccNo)\n",
    "        \n",
    "P=Person()\n",
    "print(\"Name=\",P.name)\n",
    "P.Display()\n",
    "print(\"Bank account Number=\", P.__BankAccNo)\n",
    "P.Display()"
   ]
  },
  {
   "cell_type": "code",
   "execution_count": 7,
   "metadata": {},
   "outputs": [
    {
     "name": "stdout",
     "output_type": "stream",
     "text": [
      "False\n"
     ]
    }
   ],
   "source": [
    "class Text:\n",
    "    a=0\n",
    "    b=0\n",
    "    def __init__(self,x,y):\n",
    "        self.a=x\n",
    "        self.b=y\n",
    "    def equals(self,Obj):\n",
    "        if(Obj.a==self.a and Obj.b==self.b):\n",
    "            return True\n",
    "        else:\n",
    "            return False\n",
    "Obj1= Text(10,20)\n",
    "Obj2= Text(10,20)\n",
    "Obj3= Text(12,15)\n",
    "Obj4= Text(15,20)\n",
    "\n",
    "print(Obj1.equals(Obj3))"
   ]
  },
  {
   "cell_type": "code",
   "execution_count": 4,
   "metadata": {},
   "outputs": [],
   "source": [
    "from random import randint\n",
    "f4=open('Random.txt','w')\n",
    "for i in range(1,51):\n",
    "    num=randint(500,1000)\n",
    "    num=str(num)\n",
    "    f4.write(num)\n",
    "    f4.write(\"\\n\")\n",
    "f4.close()  \n",
    " \n",
    "given_file = open()\n",
    "\n",
    "    \n",
    "    "
   ]
  },
  {
   "cell_type": "code",
   "execution_count": null,
   "metadata": {},
   "outputs": [],
   "source": []
  }
 ],
 "metadata": {
  "kernelspec": {
   "display_name": "Python 3",
   "language": "python",
   "name": "python3"
  },
  "language_info": {
   "codemirror_mode": {
    "name": "ipython",
    "version": 3
   },
   "file_extension": ".py",
   "mimetype": "text/x-python",
   "name": "python",
   "nbconvert_exporter": "python",
   "pygments_lexer": "ipython3",
   "version": "3.8.8"
  }
 },
 "nbformat": 4,
 "nbformat_minor": 4
}
