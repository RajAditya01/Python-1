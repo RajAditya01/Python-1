{
 "cells": [
  {
   "cell_type": "code",
   "execution_count": 1,
   "id": "4656cea0",
   "metadata": {},
   "outputs": [
    {
     "name": "stdout",
     "output_type": "stream",
     "text": [
      "enter the number\n",
      "2\n",
      "5\n",
      "9\n",
      "7\n",
      "d is greater number\n"
     ]
    }
   ],
   "source": [
    "#WAP to find greatest number among 4 number enterned (for loop)\n",
    "print(\"enter the number\")\n",
    "a=eval(input())\n",
    "b=eval(input())\n",
    "c=eval(input())\n",
    "d=eval(input())\n",
    "if a>b&a>c&a>d:\n",
    "    print(\"a is greater no\")\n",
    "elif b>a&b>c&b>d:\n",
    "    print(\"b is greater no\")\n",
    "elif c>a&c>b&c>d:\n",
    "    print(\"c is greater no\")\n",
    "else:\n",
    "    print(\"d is greater number\")"
   ]
  },
  {
   "cell_type": "code",
   "execution_count": 1,
   "id": "eb67fff5",
   "metadata": {},
   "outputs": [
    {
     "name": "stdout",
     "output_type": "stream",
     "text": [
      "Enter the number to check\n",
      "5\n"
     ]
    }
   ],
   "source": [
    "#WAP TO CHEAK WETHER NO IS PRIME OR NOT\n",
    "print(\"Enter the number to check\")\n",
    "num=eval(input())\n",
    "for i in range (2,num//2):\n",
    "    if num/i==0:\n",
    "        break\n",
    "        print(\"number is not prime\")\n",
    "    else:\n",
    "        print(\"number is prime\")\n",
    "    "
   ]
  },
  {
   "cell_type": "code",
   "execution_count": 3,
   "id": "6fec4a07",
   "metadata": {},
   "outputs": [
    {
     "name": "stdout",
     "output_type": "stream",
     "text": [
      "table= 1\n",
      "table= 2\n",
      "table= 3\n",
      "table= 4\n",
      "table= 5\n",
      "table= 6\n",
      "table= 7\n",
      "table= 8\n",
      "table= 9\n",
      "table= 10\n",
      "table= 2\n",
      "table= 4\n",
      "table= 6\n",
      "table= 8\n",
      "table= 10\n",
      "table= 12\n",
      "table= 14\n",
      "table= 16\n",
      "table= 18\n",
      "table= 20\n",
      "table= 3\n",
      "table= 6\n",
      "table= 9\n",
      "table= 12\n",
      "table= 15\n",
      "table= 18\n",
      "table= 21\n",
      "table= 24\n",
      "table= 27\n",
      "table= 30\n",
      "table= 4\n",
      "table= 8\n",
      "table= 12\n",
      "table= 16\n",
      "table= 20\n",
      "table= 24\n",
      "table= 28\n",
      "table= 32\n",
      "table= 36\n",
      "table= 40\n",
      "table= 5\n",
      "table= 10\n",
      "table= 15\n",
      "table= 20\n",
      "table= 25\n",
      "table= 30\n",
      "table= 35\n",
      "table= 40\n",
      "table= 45\n",
      "table= 50\n"
     ]
    }
   ],
   "source": [
    "#WAP to display table of a number from 1 to 5\n",
    "for i in range (1,6):\n",
    "    for j in range (1,11):\n",
    "        table=i*j\n",
    "        print(\"table=\",i*j)\n",
    "           "
   ]
  },
  {
   "cell_type": "code",
   "execution_count": 4,
   "id": "b8491031",
   "metadata": {},
   "outputs": [
    {
     "name": "stdout",
     "output_type": "stream",
     "text": [
      "square of the number is = 1\n",
      "square of the number is = 4\n",
      "square of the number is = 9\n",
      "square of the number is = 16\n",
      "square of the number is = 25\n"
     ]
    }
   ],
   "source": [
    "#wap to print square of a first 5 number\n",
    "for i in range (1,6):\n",
    "    sq=i*i\n",
    "    print(\"square of the number is =\",sq)"
   ]
  },
  {
   "cell_type": "code",
   "execution_count": 1,
   "id": "d9dc86cb",
   "metadata": {},
   "outputs": [
    {
     "name": "stdout",
     "output_type": "stream",
     "text": [
      "ENTER THE NUMBER45\n",
      "55\n"
     ]
    }
   ],
   "source": [
    "#wap to print fibnocii series upto 8\n",
    "n=int(input(\"ENTER THE NUMBER\"))\n",
    "x=0\n",
    "y=1\n",
    "z=0\n",
    "while z<=n:\n",
    "    x=y\n",
    "    y=z\n",
    "    z=x+y\n",
    "print(z)"
   ]
  },
  {
   "cell_type": "code",
   "execution_count": 1,
   "id": "8ed0b44b",
   "metadata": {},
   "outputs": [
    {
     "name": "stdout",
     "output_type": "stream",
     "text": [
      "16\n"
     ]
    }
   ],
   "source": [
    "#wap to find sum of digits of a given number \n",
    "n=259\n",
    "s=0\n",
    "while(n>0):\n",
    "    temp=n%10\n",
    "    s=s+temp\n",
    "    n=n//10\n",
    "print(s)    "
   ]
  },
  {
   "cell_type": "code",
   "execution_count": 1,
   "id": "0ea3279d",
   "metadata": {},
   "outputs": [
    {
     "name": "stdout",
     "output_type": "stream",
     "text": [
      "ENTER THE NUMBER254\n",
      "Reverse number is: 452\n"
     ]
    }
   ],
   "source": [
    "#wap to display reverse of the number enterned\n",
    "n=int(input(\"ENTER THE NUMBER\"))\n",
    "rev=0\n",
    "while(n>0):\n",
    "    rev=(rev*10)+n%10\n",
    "    n=n//10\n",
    "print(\"Reverse number is:\",rev);"
   ]
  },
  {
   "cell_type": "code",
   "execution_count": null,
   "id": "70a00419",
   "metadata": {},
   "outputs": [],
   "source": [
    "#wap to print sum of the number from (1 to 20) that are divisible by 5\n",
    "i=2\n",
    "sum=0\n",
    "while i < 20:\n",
    "    if i%5==0:\n",
    "        sum=sum+i\n",
    "        print(sum)\n",
    "i+=1"
   ]
  },
  {
   "cell_type": "code",
   "execution_count": 1,
   "id": "d0662efb",
   "metadata": {},
   "outputs": [
    {
     "name": "stdout",
     "output_type": "stream",
     "text": [
      "153\n",
      "armstrong\n"
     ]
    }
   ],
   "source": [
    "#wap to check weather number enterned is armstron number\n",
    "n=eval(input())\n",
    "s=0\n",
    "temp=n\n",
    "while n>0:\n",
    "    r=n%10\n",
    "    s=s+(r*r*r)\n",
    "    n=n//10\n",
    "if temp==s:\n",
    "    print(\"armstrong\")\n",
    "else:\n",
    "    print(\"not armstrong\")"
   ]
  },
  {
   "cell_type": "code",
   "execution_count": 2,
   "id": "43ed24a7",
   "metadata": {},
   "outputs": [
    {
     "name": "stdout",
     "output_type": "stream",
     "text": [
      "120\n"
     ]
    }
   ],
   "source": [
    "#wap to print factorial of the number\n",
    "n=5\n",
    "fact=1\n",
    "while n>0:\n",
    "    fact=fact*n\n",
    "    n=n-1\n",
    "print(fact)"
   ]
  },
  {
   "cell_type": "code",
   "execution_count": null,
   "id": "52b40c9a",
   "metadata": {},
   "outputs": [],
   "source": [
    "i=2\n",
    "sum=0\n",
    "while i < 20:\n",
    "    if i%5==0:\n",
    "        sum=sum+i\n",
    "        print(sum)\n",
    "i+=1"
   ]
  },
  {
   "cell_type": "code",
   "execution_count": 1,
   "id": "eb27bc59",
   "metadata": {},
   "outputs": [
    {
     "name": "stdout",
     "output_type": "stream",
     "text": [
      "ENTER THE NUMBER548\n",
      "Reverse number is: 845\n"
     ]
    }
   ],
   "source": [
    "#wap to display reverse of the number enterned\n",
    "i=int(input(\"ENTER THE NUMBER\"))\n",
    "rev=0\n",
    "while(i>0):\n",
    "    rev=(rev*10)+i%10\n",
    "    i=i//10\n",
    "print(\"Reverse number is:\",rev);"
   ]
  },
  {
   "cell_type": "code",
   "execution_count": 19,
   "id": "82c1328e",
   "metadata": {},
   "outputs": [
    {
     "name": "stdout",
     "output_type": "stream",
     "text": [
      "Table= 2\n",
      "Table= 4\n",
      "Table= 6\n",
      "Table= 8\n",
      "Table= 10\n",
      "Table= 12\n",
      "Table= 14\n",
      "Table= 16\n",
      "Table= 18\n",
      "Table= 20\n"
     ]
    }
   ],
   "source": [
    "for i in range(2,3):\n",
    "    for j in range(1,11):\n",
    "        table=i*j\n",
    "        print('Table=',table)\n",
    "    "
   ]
  },
  {
   "cell_type": "code",
   "execution_count": 1,
   "id": "4bb311ce",
   "metadata": {},
   "outputs": [
    {
     "name": "stdout",
     "output_type": "stream",
     "text": [
      "Banana\n",
      "Watermelon\n",
      "Grapes\n",
      "Mangoes\n"
     ]
    }
   ],
   "source": [
    "fruits = ['Banana', 'Watermelon', 'Grapes', 'Mangoes']\n",
    "\n",
    "for item in fruits:\n",
    "    print(item)\n",
    "   \n"
   ]
  },
  {
   "cell_type": "code",
   "execution_count": 12,
   "id": "4c10160a",
   "metadata": {},
   "outputs": [
    {
     "name": "stdout",
     "output_type": "stream",
     "text": [
      "10 8 6 4 2 "
     ]
    }
   ],
   "source": [
    "for x in range(10,0,-2):\n",
    "    print(x,end=\" \")"
   ]
  },
  {
   "cell_type": "code",
   "execution_count": 15,
   "id": "7cfdee5b",
   "metadata": {},
   "outputs": [
    {
     "name": "stdout",
     "output_type": "stream",
     "text": [
      "10\n",
      "54\n",
      "55\n",
      "5\n",
      "23\n",
      "13\n",
      "sum= 160\n"
     ]
    }
   ],
   "source": [
    "list=[10,54,55,5,23,13]\n",
    "sum=0\n",
    "for i in list:\n",
    "    print(i)\n",
    "    sum=sum+i\n",
    "print('sum=',sum)"
   ]
  },
  {
   "cell_type": "code",
   "execution_count": 16,
   "id": "f129da1b",
   "metadata": {},
   "outputs": [
    {
     "name": "stdout",
     "output_type": "stream",
     "text": [
      "10\n",
      "3\n",
      "544\n",
      "55\n",
      "42\n",
      "sum= 654\n"
     ]
    }
   ],
   "source": [
    "list=[10,3,544,55,42]\n",
    "sum=0\n",
    "i=0\n",
    "while i<len(list):\n",
    "    print(list[i])\n",
    "    sum=sum+list[i]\n",
    "    i=i+1\n",
    "print('sum=',sum)"
   ]
  },
  {
   "cell_type": "code",
   "execution_count": 5,
   "id": "6df1b1e2",
   "metadata": {},
   "outputs": [
    {
     "name": "stdout",
     "output_type": "stream",
     "text": [
      "i= 0 j= 0\n",
      "i= 0 j= 1\n",
      "i= 0 j= 2\n",
      "i= 1 j= 0\n",
      "i= 1 j= 1\n",
      "i= 1 j= 2\n"
     ]
    }
   ],
   "source": [
    "for i in range(2):\n",
    "    for j in range(3):\n",
    "        print(\"i=\",i,\"j=\",j)"
   ]
  },
  {
   "cell_type": "code",
   "execution_count": null,
   "id": "e29a23f8",
   "metadata": {},
   "outputs": [],
   "source": []
  }
 ],
 "metadata": {
  "kernelspec": {
   "display_name": "Python 3",
   "language": "python",
   "name": "python3"
  },
  "language_info": {
   "codemirror_mode": {
    "name": "ipython",
    "version": 3
   },
   "file_extension": ".py",
   "mimetype": "text/x-python",
   "name": "python",
   "nbconvert_exporter": "python",
   "pygments_lexer": "ipython3",
   "version": "3.8.8"
  }
 },
 "nbformat": 4,
 "nbformat_minor": 5
}
