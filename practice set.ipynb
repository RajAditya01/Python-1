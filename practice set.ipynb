{
 "cells": [
  {
   "cell_type": "code",
   "execution_count": 4,
   "id": "6ff639b8",
   "metadata": {},
   "outputs": [
    {
     "name": "stdout",
     "output_type": "stream",
     "text": [
      "ENTER YOUR AGE:55\n",
      "yes\n"
     ]
    }
   ],
   "source": [
    "Age=int(input(\"ENTER YOUR AGE:\"))\n",
    "if Age>18:\n",
    "    print(\"yes\")\n",
    "else:\n",
    "    print(\"no\")"
   ]
  },
  {
   "cell_type": "code",
   "execution_count": 5,
   "id": "6b657979",
   "metadata": {},
   "outputs": [
    {
     "name": "stdout",
     "output_type": "stream",
     "text": [
      "enter ur age:55\n",
      "you can work with us\n"
     ]
    }
   ],
   "source": [
    "a=int(input(\"enter ur age:\"))\n",
    "if a>25 and a<60:\n",
    "    print(\"you can work with us\")"
   ]
  },
  {
   "cell_type": "code",
   "execution_count": 16,
   "id": "b9af028e",
   "metadata": {},
   "outputs": [
    {
     "name": "stdout",
     "output_type": "stream",
     "text": [
      "5\n",
      "8\n",
      "Numbers not equal\n"
     ]
    }
   ],
   "source": [
    "a=eval(input())\n",
    "b=eval(input())\n",
    "if a==b:\n",
    "    print(\"Numbers are equal\")\n",
    "else:\n",
    "    print(\"Numbers not equal\")\n",
    "    "
   ]
  },
  {
   "cell_type": "code",
   "execution_count": 1,
   "id": "5c895628",
   "metadata": {},
   "outputs": [
    {
     "name": "stdout",
     "output_type": "stream",
     "text": [
      "enter the number\n",
      "8\n",
      "9\n",
      "7\n",
      "12\n",
      "d is greater number\n"
     ]
    }
   ],
   "source": [
    "print(\"enter the number\")\n",
    "a=eval(input())\n",
    "b=eval(input())\n",
    "c=eval(input())\n",
    "d=eval(input())\n",
    "if a>b&a>C&a>d:\n",
    "    print(\"a is greater number\")\n",
    "elif b>a&b>c&b>d:\n",
    "    print(\"b is greater number\")\n",
    "elif c>a&c>b&c>d:\n",
    "    print(\"c is greater number\")\n",
    "else:\n",
    "    print(\"d is greater number\")"
   ]
  },
  {
   "cell_type": "code",
   "execution_count": 1,
   "id": "493885cf",
   "metadata": {},
   "outputs": [
    {
     "name": "stdout",
     "output_type": "stream",
     "text": [
      "1\n",
      "2\n",
      "3\n",
      "4\n",
      "5\n",
      "6\n",
      "7\n",
      "8\n",
      "9\n",
      "10\n",
      "11\n",
      "12\n",
      "13\n",
      "14\n",
      "15\n",
      "16\n",
      "17\n",
      "18\n",
      "19\n",
      "20\n",
      "21\n",
      "22\n",
      "23\n",
      "24\n",
      "25\n",
      "26\n",
      "27\n",
      "28\n",
      "29\n",
      "30\n",
      "31\n",
      "32\n",
      "33\n",
      "34\n",
      "35\n",
      "36\n",
      "37\n",
      "38\n",
      "39\n",
      "40\n",
      "41\n",
      "42\n",
      "43\n",
      "44\n",
      "45\n",
      "46\n",
      "47\n",
      "48\n",
      "49\n",
      "50\n",
      "51\n"
     ]
    }
   ],
   "source": [
    "i=0\n",
    "while i<=50:\n",
    "    i=i+1\n",
    "    print(i)"
   ]
  },
  {
   "cell_type": "code",
   "execution_count": 2,
   "id": "1e2b7eaf",
   "metadata": {},
   "outputs": [
    {
     "name": "stdout",
     "output_type": "stream",
     "text": [
      "Aditya\n",
      "Aditya\n",
      "Aditya\n",
      "Aditya\n",
      "Aditya\n"
     ]
    }
   ],
   "source": [
    "i=0\n",
    "while i<5:\n",
    "    i=i+1\n",
    "    print(\"Aditya\")"
   ]
  },
  {
   "cell_type": "code",
   "execution_count": 4,
   "id": "8aefe51f",
   "metadata": {},
   "outputs": [
    {
     "ename": "SyntaxError",
     "evalue": "invalid syntax (<ipython-input-4-671284c52e45>, line 5)",
     "output_type": "error",
     "traceback": [
      "\u001b[1;36m  File \u001b[1;32m\"<ipython-input-4-671284c52e45>\"\u001b[1;36m, line \u001b[1;32m5\u001b[0m\n\u001b[1;33m    if(num%5==0)\u001b[0m\n\u001b[1;37m                ^\u001b[0m\n\u001b[1;31mSyntaxError\u001b[0m\u001b[1;31m:\u001b[0m invalid syntax\n"
     ]
    }
   ],
   "source": [
    "num=eval(input())\n",
    "sum=0\n",
    "i=0\n",
    "while(i<=num):\n",
    "    if(num%5==0)\n",
    "    sum=sum+1\n",
    "print(\"sum\")\n",
    "    "
   ]
  },
  {
   "cell_type": "code",
   "execution_count": 1,
   "id": "14f2d4ed",
   "metadata": {},
   "outputs": [],
   "source": [
    "#wap to get 4th element and 4th last element of  tuple.Also create a new tupple which is reverse of given tuple\n",
    "# wap a python program to remove an empty tuple from alist of tuple"
   ]
  },
  {
   "cell_type": "code",
   "execution_count": 10,
   "id": "2380c8b0",
   "metadata": {},
   "outputs": [
    {
     "name": "stdout",
     "output_type": "stream",
     "text": [
      "5\n",
      "2\n",
      "(8, 5, 18, 2, 3, 5, 4, 9, 8, 7)\n"
     ]
    }
   ],
   "source": [
    "# Q1\n",
    "t1=(7,8,9,4,5,3,2,18,5,8)\n",
    "x=t1[4]\n",
    "y=t1[-4]\n",
    "print(x)\n",
    "print(y)\n",
    "z=t1[::-1]\n",
    "print(z)"
   ]
  },
  {
   "cell_type": "code",
   "execution_count": 4,
   "id": "c51302e0",
   "metadata": {},
   "outputs": [
    {
     "name": "stdout",
     "output_type": "stream",
     "text": [
      "[('',), ('a', 'b'), ('a', 'b', 'c'), 'd']\n"
     ]
    }
   ],
   "source": [
    "#Q2\n",
    "L = [(), (), ('',), ('a', 'b'), ('a', 'b', 'c'), ('d')]\n",
    "L = [x for x in L if x]\n",
    "print(L)"
   ]
  },
  {
   "cell_type": "code",
   "execution_count": 1,
   "id": "068def76",
   "metadata": {},
   "outputs": [
    {
     "name": "stdout",
     "output_type": "stream",
     "text": [
      "[(), (), ('',), ('a', 'b'), ('a', 'b', 'c'), 'd']\n",
      "<class 'tuple'>\n"
     ]
    }
   ],
   "source": [
    "def empty_tuple(tup):\n",
    "    tup=[x for x in tup if x]\n",
    "    return tuple \n",
    "tup=[(), (), ('',), ('a', 'b'), ('a', 'b', 'c'), ('d')]\n",
    "print(tup)\n",
    "new_tuple=empty_tuple(tup)\n",
    "print(new_tuple)"
   ]
  },
  {
   "cell_type": "code",
   "execution_count": 3,
   "id": "e9521dea",
   "metadata": {},
   "outputs": [
    {
     "name": "stdout",
     "output_type": "stream",
     "text": [
      "ADITYA\n"
     ]
    }
   ],
   "source": [
    "# wap a program to convert tuple in string\n",
    "def convertTuple(tup):\n",
    "    str = ''\n",
    "    for item in tup:\n",
    "        str = str + item\n",
    "    return str\n",
    "tuple = ('A', 'D', 'I', 'T', 'Y','A')\n",
    "str = convertTuple(tuple)\n",
    "print(str)\n"
   ]
  },
  {
   "cell_type": "code",
   "execution_count": 4,
   "id": "c5246f2b",
   "metadata": {},
   "outputs": [
    {
     "name": "stdout",
     "output_type": "stream",
     "text": [
      "ADITYA\n"
     ]
    }
   ],
   "source": [
    "tuple = ('A', 'D', 'I', 'T', 'Y','A')\n",
    "str = convertTuple(tuple)\n",
    "print(str)\n"
   ]
  },
  {
   "cell_type": "code",
   "execution_count": 10,
   "id": "72156ffd",
   "metadata": {},
   "outputs": [
    {
     "name": "stdout",
     "output_type": "stream",
     "text": [
      "ADITYA"
     ]
    }
   ],
   "source": [
    "T1=('A','D','I','T','Y','A')\n",
    "A=T1[0]\n",
    "print(A,end='')\n",
    "A=T1[1]\n",
    "print(A,end='')\n",
    "A=T1[2]\n",
    "print(A,end='')\n",
    "A=T1[3]\n",
    "print(A,end='')\n",
    "A=T1[4]\n",
    "print(A,end='')\n",
    "A=T1[5]\n",
    "print(A,end='')\n"
   ]
  },
  {
   "cell_type": "code",
   "execution_count": 16,
   "id": "1def8c0c",
   "metadata": {},
   "outputs": [
    {
     "ename": "TypeError",
     "evalue": "'list' object is not callable",
     "output_type": "error",
     "traceback": [
      "\u001b[1;31m---------------------------------------------------------------------------\u001b[0m",
      "\u001b[1;31mTypeError\u001b[0m                                 Traceback (most recent call last)",
      "\u001b[1;32m<ipython-input-16-4228bdbbfc2b>\u001b[0m in \u001b[0;36m<module>\u001b[1;34m\u001b[0m\n\u001b[0;32m      1\u001b[0m \u001b[0mT1\u001b[0m\u001b[1;33m=\u001b[0m\u001b[1;33m(\u001b[0m\u001b[1;34m'A'\u001b[0m\u001b[1;33m,\u001b[0m\u001b[1;34m'D'\u001b[0m\u001b[1;33m,\u001b[0m\u001b[1;34m'I'\u001b[0m\u001b[1;33m,\u001b[0m\u001b[1;34m'T'\u001b[0m\u001b[1;33m,\u001b[0m\u001b[1;34m'Y'\u001b[0m\u001b[1;33m,\u001b[0m\u001b[1;34m'A'\u001b[0m\u001b[1;33m)\u001b[0m\u001b[1;33m\u001b[0m\u001b[1;33m\u001b[0m\u001b[0m\n\u001b[1;32m----> 2\u001b[1;33m \u001b[0mlist1\u001b[0m\u001b[1;33m=\u001b[0m\u001b[0mlist\u001b[0m\u001b[1;33m(\u001b[0m\u001b[0mT1\u001b[0m\u001b[1;33m)\u001b[0m\u001b[1;33m\u001b[0m\u001b[1;33m\u001b[0m\u001b[0m\n\u001b[0m\u001b[0;32m      3\u001b[0m \u001b[0mprint\u001b[0m\u001b[1;33m(\u001b[0m\u001b[0mlist1\u001b[0m\u001b[1;33m)\u001b[0m\u001b[1;33m\u001b[0m\u001b[1;33m\u001b[0m\u001b[0m\n",
      "\u001b[1;31mTypeError\u001b[0m: 'list' object is not callable"
     ]
    }
   ],
   "source": [
    "T1=('A','D','I','T','Y','A')\n",
    "list1=list(T1)\n",
    "print(list1)\n"
   ]
  },
  {
   "cell_type": "markdown",
   "id": "93228f04",
   "metadata": {},
   "source": [
    "a=\"PYTHON PROGRAMING\"\n",
    "l=len(a)+1\n",
    "e3={} "
   ]
  }
 ],
 "metadata": {
  "kernelspec": {
   "display_name": "Python 3",
   "language": "python",
   "name": "python3"
  },
  "language_info": {
   "codemirror_mode": {
    "name": "ipython",
    "version": 3
   },
   "file_extension": ".py",
   "mimetype": "text/x-python",
   "name": "python",
   "nbconvert_exporter": "python",
   "pygments_lexer": "ipython3",
   "version": "3.8.8"
  }
 },
 "nbformat": 4,
 "nbformat_minor": 5
}
