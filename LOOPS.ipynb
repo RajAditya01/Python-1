{
 "cells": [
  {
   "cell_type": "code",
   "execution_count": 1,
   "id": "170763a1",
   "metadata": {},
   "outputs": [
    {
     "name": "stdout",
     "output_type": "stream",
     "text": [
      "Enter the number: 5\n",
      "The factorial of 5 is 120\n"
     ]
    }
   ],
   "source": [
    "num = int(input(\"Enter the number: \"))\n",
    "factorial = 1\n",
    "for i in range(1, num+1):\n",
    "    factorial = factorial * i\n",
    "print(f\"The factorial of {num} is {factorial}\")"
   ]
  },
  {
   "cell_type": "code",
   "execution_count": 2,
   "id": "bf6fa730",
   "metadata": {},
   "outputs": [
    {
     "name": "stdout",
     "output_type": "stream",
     "text": [
      "10 11 12 13 14 15 16 17 18 19 "
     ]
    }
   ],
   "source": [
    "for j in range(10, 20):\n",
    "    print(j, end=\" \")\n"
   ]
  },
  {
   "cell_type": "code",
   "execution_count": 3,
   "id": "26eda994",
   "metadata": {},
   "outputs": [
    {
     "name": "stdout",
     "output_type": "stream",
     "text": [
      "5 8 11 14 17 20 23 "
     ]
    }
   ],
   "source": [
    "for i in range(5, 25, 3):\n",
    "    print(i, end=\" \")\n"
   ]
  },
  {
   "cell_type": "code",
   "execution_count": 4,
   "id": "f0dfc224",
   "metadata": {},
   "outputs": [
    {
     "name": "stdout",
     "output_type": "stream",
     "text": [
      "enter the number5\n",
      "square of the number is= 25\n"
     ]
    }
   ],
   "source": [
    "i= int(input(\"enter the number\"))\n",
    "square=i*i\n",
    "print(\"square of the number is=\",square)"
   ]
  },
  {
   "cell_type": "code",
   "execution_count": 5,
   "id": "5faf5c87",
   "metadata": {},
   "outputs": [
    {
     "name": "stdout",
     "output_type": "stream",
     "text": [
      "Enter the number: 4\n",
      "This number is not Prime\n"
     ]
    }
   ],
   "source": [
    "num = int(input(\"Enter the number: \"))\n",
    "prime = True\n",
    "\n",
    "for i in range(2, num):\n",
    "    if(num%i == 0):\n",
    "        prime = False\n",
    "        break\n",
    "if prime:\n",
    "    print(\"This number is Prime\")\n",
    "else:\n",
    "    print(\"This number is not Prime\")"
   ]
  },
  {
   "cell_type": "code",
   "execution_count": 9,
   "id": "33bebeac",
   "metadata": {},
   "outputs": [
    {
     "name": "stdout",
     "output_type": "stream",
     "text": [
      "1 2 3 4 5 6 7 8 9 10 "
     ]
    }
   ],
   "source": [
    "i = 1\n",
    "\n",
    "while i<=10:\n",
    "    print(i,end=\" \")\n",
    "    i = i + 1\n"
   ]
  },
  {
   "cell_type": "code",
   "execution_count": 10,
   "id": "599b3426",
   "metadata": {},
   "outputs": [
    {
     "name": "stdout",
     "output_type": "stream",
     "text": [
      "Enter the number2\n",
      "2X1=2\n",
      "2X2=4\n",
      "2X3=6\n",
      "2X4=8\n",
      "2X5=10\n",
      "2X6=12\n",
      "2X7=14\n",
      "2X8=16\n",
      "2X9=18\n",
      "2X10=20\n"
     ]
    }
   ],
   "source": [
    "num = int(input(\"Enter the number\"))\n",
    "for i in range(1, 11):\n",
    "    # print(str(num) + \" X \" + str(i) + \"=\" + str(i*num))\n",
    "    print(f\"{num}X{i}={num*i}\")"
   ]
  },
  {
   "cell_type": "code",
   "execution_count": 1,
   "id": "878930d2",
   "metadata": {},
   "outputs": [
    {
     "name": "stdout",
     "output_type": "stream",
     "text": [
      "Enter the number=156\n",
      "reverse num is= 6\n",
      "reverse num is= 65\n",
      "reverse num is= 651\n"
     ]
    }
   ],
   "source": [
    "num= int(input(\"Enter the number=\"))\n",
    "reversed=0\n",
    "while num>0:\n",
    "    rem=num%10\n",
    "    reversed=(reversed*10)+rem\n",
    "    print(\"reverse num is=\",reversed)\n",
    "    num=num//10"
   ]
  },
  {
   "cell_type": "code",
   "execution_count": 2,
   "id": "bb517762",
   "metadata": {},
   "outputs": [
    {
     "name": "stdout",
     "output_type": "stream",
     "text": [
      "Factorial 3628800\n"
     ]
    }
   ],
   "source": [
    "num = 10\n",
    "fact = 1\n",
    "\n",
    "while num > 0:\n",
    "    fact = fact * num\n",
    "    num = num - 1\n",
    "print(\"Factorial\",fact)\n"
   ]
  },
  {
   "cell_type": "code",
   "execution_count": 10,
   "id": "4171dcd6",
   "metadata": {},
   "outputs": [
    {
     "name": "stdout",
     "output_type": "stream",
     "text": [
      "Enter A Number: 153\n",
      "Armstrong Number\n"
     ]
    }
   ],
   "source": [
    "num = int(input(\"Enter A Number: \"))\n",
    "sum=0\n",
    "temp = num\n",
    "\n",
    "while num > 0:\n",
    "    remainder= num % 10\n",
    "    sum = sum + (remainder*remainder*remainder)\n",
    "    num = num // 10\n",
    "\n",
    "if temp == sum:\n",
    "    print(\"Armstrong Number\")\n",
    "else:\n",
    "    print(\"Number is Not Armstrong\")\n"
   ]
  },
  {
   "cell_type": "code",
   "execution_count": null,
   "id": "e80dc288",
   "metadata": {},
   "outputs": [],
   "source": []
  },
  {
   "cell_type": "code",
   "execution_count": null,
   "id": "36683136",
   "metadata": {},
   "outputs": [],
   "source": []
  }
 ],
 "metadata": {
  "kernelspec": {
   "display_name": "Python 3",
   "language": "python",
   "name": "python3"
  },
  "language_info": {
   "codemirror_mode": {
    "name": "ipython",
    "version": 3
   },
   "file_extension": ".py",
   "mimetype": "text/x-python",
   "name": "python",
   "nbconvert_exporter": "python",
   "pygments_lexer": "ipython3",
   "version": "3.8.8"
  }
 },
 "nbformat": 4,
 "nbformat_minor": 5
}
