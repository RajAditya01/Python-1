{
 "cells": [
  {
   "cell_type": "code",
   "execution_count": 1,
   "id": "f4c6345c",
   "metadata": {},
   "outputs": [
    {
     "data": {
      "text/plain": [
       "[2, 1, 3, 5, 4]"
      ]
     },
     "execution_count": 1,
     "metadata": {},
     "output_type": "execute_result"
    }
   ],
   "source": [
    "t1=(2,1,3,5,4)\n",
    "l1=list(t1)\n",
    "l1"
   ]
  },
  {
   "cell_type": "code",
   "execution_count": 2,
   "id": "411be1c3",
   "metadata": {},
   "outputs": [
    {
     "data": {
      "text/plain": [
       "(1, 2, 3, 4, 5)"
      ]
     },
     "execution_count": 2,
     "metadata": {},
     "output_type": "execute_result"
    }
   ],
   "source": [
    "l1.sort()\n",
    "t2=tuple(l1)\n",
    "t2"
   ]
  },
  {
   "cell_type": "code",
   "execution_count": 3,
   "id": "a85f0997",
   "metadata": {},
   "outputs": [
    {
     "data": {
      "text/plain": [
       "{1, 2, 3}"
      ]
     },
     "execution_count": 3,
     "metadata": {},
     "output_type": "execute_result"
    }
   ],
   "source": [
    "lst=[3,2,1]\n",
    "s1=set(lst)\n",
    "s1"
   ]
  },
  {
   "cell_type": "code",
   "execution_count": 1,
   "id": "8ec7b973",
   "metadata": {},
   "outputs": [
    {
     "ename": "SyntaxError",
     "evalue": "invalid syntax (<ipython-input-1-7e1f60415efd>, line 4)",
     "output_type": "error",
     "traceback": [
      "\u001b[1;36m  File \u001b[1;32m\"<ipython-input-1-7e1f60415efd>\"\u001b[1;36m, line \u001b[1;32m4\u001b[0m\n\u001b[1;33m    for\u001b[0m\n\u001b[1;37m        ^\u001b[0m\n\u001b[1;31mSyntaxError\u001b[0m\u001b[1;31m:\u001b[0m invalid syntax\n"
     ]
    }
   ],
   "source": [
    "l1=[1,2,3,4,5]\n",
    "def function(average):\n",
    "    average=0\n",
    "    for "
   ]
  },
  {
   "cell_type": "code",
   "execution_count": 6,
   "id": "f6c5d670",
   "metadata": {},
   "outputs": [
    {
     "name": "stdout",
     "output_type": "stream",
     "text": [
      "1 a 4\n",
      "2 b 4\n",
      "3 c 6\n"
     ]
    }
   ],
   "source": [
    "l5=[(1,\"a\",4),(2,\"b\",4),(3,\"c\",6)]\n",
    "for number, value, arg in l5:\n",
    "    print(number, value, arg)"
   ]
  },
  {
   "cell_type": "code",
   "execution_count": 4,
   "id": "d51250e6",
   "metadata": {},
   "outputs": [
    {
     "data": {
      "text/plain": [
       "[(1, 'x'), (2, 'y'), (3, 'z')]"
      ]
     },
     "execution_count": 4,
     "metadata": {},
     "output_type": "execute_result"
    }
   ],
   "source": [
    "#ZIP\n",
    "a=[1,2,3,4]\n",
    "b=\"xyz\"\n",
    "list(zip(a,b))"
   ]
  },
  {
   "cell_type": "code",
   "execution_count": 9,
   "id": "ca5c8d07",
   "metadata": {},
   "outputs": [
    {
     "name": "stdout",
     "output_type": "stream",
     "text": [
      "black 255\n",
      "orange 0\n",
      "red 100\n"
     ]
    }
   ],
   "source": [
    "a=[\"black\",\"orange\",\"red\"]\n",
    "b=[255,0,100]\n",
    "l1=list(zip(a,b))\n",
    "for number, value in l1:\n",
    "    print(number,value)"
   ]
  },
  {
   "cell_type": "code",
   "execution_count": 10,
   "id": "d7f93750",
   "metadata": {},
   "outputs": [
    {
     "name": "stdout",
     "output_type": "stream",
     "text": [
      "(1, 2, 3, 4)\n"
     ]
    }
   ],
   "source": [
    "#an argument which beign with * in function difination gathers all argunment into a tuple\n",
    "def create_tup(*a):\n",
    "    print(a)\n",
    "    \n",
    "create_tup(1,2,3,4)    "
   ]
  },
  {
   "cell_type": "code",
   "execution_count": 11,
   "id": "3eb2b052",
   "metadata": {},
   "outputs": [
    {
     "name": "stdout",
     "output_type": "stream",
     "text": [
      "(['black', 'orange', 'red'], [255, 0, 100])\n"
     ]
    }
   ],
   "source": [
    "create_tup(a,b)"
   ]
  },
  {
   "cell_type": "code",
   "execution_count": 12,
   "id": "dbd0a871",
   "metadata": {},
   "outputs": [
    {
     "ename": "SyntaxError",
     "evalue": "invalid syntax (<ipython-input-12-780f65664a81>, line 2)",
     "output_type": "error",
     "traceback": [
      "\u001b[1;36m  File \u001b[1;32m\"<ipython-input-12-780f65664a81>\"\u001b[1;36m, line \u001b[1;32m2\u001b[0m\n\u001b[1;33m    x=[(\"APPLE\",30000),(\"DELL,\"32000)]\u001b[0m\n\u001b[1;37m                               ^\u001b[0m\n\u001b[1;31mSyntaxError\u001b[0m\u001b[1;31m:\u001b[0m invalid syntax\n"
     ]
    }
   ],
   "source": [
    "#zip(*)=inverse zip\n",
    "x=[(\"APPLE\",30000),(\"DELL,\"32000)]\n",
    "Laptop,Price=zip(*x)"
   ]
  },
  {
   "cell_type": "code",
   "execution_count": 13,
   "id": "8ff5d147",
   "metadata": {},
   "outputs": [
    {
     "data": {
      "text/plain": [
       "{1, 2, 3, 4, 5, 6}"
      ]
     },
     "execution_count": 13,
     "metadata": {},
     "output_type": "execute_result"
    }
   ],
   "source": [
    "#SET\n",
    "#set is mutable\n",
    "lst=[3,2,1,6,5,4]\n",
    "s1=set(lst)\n",
    "s1"
   ]
  },
  {
   "cell_type": "code",
   "execution_count": 2,
   "id": "5e28c6cb",
   "metadata": {},
   "outputs": [
    {
     "data": {
      "text/plain": [
       "{1, 2, 3, 4, 5}"
      ]
     },
     "execution_count": 2,
     "metadata": {},
     "output_type": "execute_result"
    }
   ],
   "source": [
    "s4=(1,2,3,4,5)\n",
    "s5=set(s4)\n",
    "s5"
   ]
  },
  {
   "cell_type": "markdown",
   "id": "0d3e0ae8",
   "metadata": {},
   "source": []
  },
  {
   "cell_type": "code",
   "execution_count": 3,
   "id": "412b4063",
   "metadata": {},
   "outputs": [
    {
     "name": "stdout",
     "output_type": "stream",
     "text": [
      "(10, 20, 30, 60, 50)\n"
     ]
    }
   ],
   "source": [
    "tuple=(10,20,30,60,50)\n",
    "print(tuple)"
   ]
  },
  {
   "cell_type": "code",
   "execution_count": 4,
   "id": "8c95b799",
   "metadata": {},
   "outputs": [
    {
     "name": "stdout",
     "output_type": "stream",
     "text": [
      "['ABC', 'DEF']\n"
     ]
    }
   ],
   "source": [
    "tupleOne = ('ABC', 'DEF') \n",
    "listOne = list(tupleOne) \n",
    "print(listOne) "
   ]
  },
  {
   "cell_type": "code",
   "execution_count": 1,
   "id": "1f966b7f",
   "metadata": {},
   "outputs": [
    {
     "name": "stdout",
     "output_type": "stream",
     "text": [
      "enter the elements in ():1,2,3\n",
      "sum of numbers: 6\n",
      "average of numbers: 2.0\n"
     ]
    }
   ],
   "source": [
    "num=eval(input(\"enter the elements in ():\"))\n",
    "sum=0\n",
    "n=len(num)\n",
    "for i in range(n):\n",
    "    sum=sum+num[i]\n",
    "print(\"sum of numbers:\",sum)\n",
    "print(\"average of numbers:\",sum/n)"
   ]
  },
  {
   "cell_type": "code",
   "execution_count": 2,
   "id": "72d6c4ab",
   "metadata": {},
   "outputs": [
    {
     "name": "stdout",
     "output_type": "stream",
     "text": [
      "(1, 2, 6)\n"
     ]
    }
   ],
   "source": [
    "def oddTuples(aTup): \n",
    "    rTup = ()\n",
    "    index = 0\n",
    "    while index < len(aTup):\n",
    "        rTup += (aTup[index],) \n",
    "        index += 2 \n",
    "    return rTup\n",
    "t=(1, 3, 2, 4, 6, 5)\n",
    "print(oddTuples(t))"
   ]
  },
  {
   "cell_type": "code",
   "execution_count": 1,
   "id": "a03df28b",
   "metadata": {},
   "outputs": [
    {
     "name": "stdout",
     "output_type": "stream",
     "text": [
      "[6, 5, 4, 3, 2, 1, 0]\n"
     ]
    }
   ],
   "source": [
    "numbers=[0,1,2,3,4,5,6]\n",
    "l=len(numbers)\n",
    "for i in range(int(l/2)):\n",
    "    n=numbers[i]\n",
    "    numbers[i]=numbers[l-i-1]\n",
    "    numbers[l-i-1]=n\n",
    "print(numbers)"
   ]
  },
  {
   "cell_type": "code",
   "execution_count": 2,
   "id": "457236bd",
   "metadata": {},
   "outputs": [
    {
     "name": "stdout",
     "output_type": "stream",
     "text": [
      "(1, 3, 5)\n"
     ]
    }
   ],
   "source": [
    "def oddtuples(atup):\n",
    "    tup=();\n",
    "    for i in atup:\n",
    "        if i%2!=0:\n",
    "            tup=tup+(i,);\n",
    "    return tup;\n",
    "print(oddtuples(((1),(2),(3),(4),(5),(6))))"
   ]
  },
  {
   "cell_type": "code",
   "execution_count": null,
   "id": "2d3f6356",
   "metadata": {},
   "outputs": [],
   "source": []
  }
 ],
 "metadata": {
  "kernelspec": {
   "display_name": "Python 3",
   "language": "python",
   "name": "python3"
  },
  "language_info": {
   "codemirror_mode": {
    "name": "ipython",
    "version": 3
   },
   "file_extension": ".py",
   "mimetype": "text/x-python",
   "name": "python",
   "nbconvert_exporter": "python",
   "pygments_lexer": "ipython3",
   "version": "3.8.8"
  }
 },
 "nbformat": 4,
 "nbformat_minor": 5
}
