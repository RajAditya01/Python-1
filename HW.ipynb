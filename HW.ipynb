{
 "cells": [
  {
   "cell_type": "code",
   "execution_count": 2,
   "id": "73ce59c2",
   "metadata": {},
   "outputs": [
    {
     "name": "stdout",
     "output_type": "stream",
     "text": [
      "i\n",
      "t\n"
     ]
    }
   ],
   "source": [
    "#1\n",
    "word1=\"punit\"\n",
    "word2=\"aditya\"\n",
    "for ch in word1:\n",
    "    if ch in word2:\n",
    "        print(ch)"
   ]
  },
  {
   "cell_type": "code",
   "execution_count": 3,
   "id": "e6e5fdf7",
   "metadata": {},
   "outputs": [
    {
     "name": "stdout",
     "output_type": "stream",
     "text": [
      "The count of b is= 1\n"
     ]
    }
   ],
   "source": [
    "#return the no of b in word\n",
    "string=\"books\"\n",
    "substring=\"b\"\n",
    "\n",
    "count=string.count(substring)\n",
    "print(\"The count of b is=\",count)"
   ]
  },
  {
   "cell_type": "code",
   "execution_count": 4,
   "id": "a4ca324f",
   "metadata": {},
   "outputs": [
    {
     "name": "stdout",
     "output_type": "stream",
     "text": [
      "dity\n",
      "dty\n",
      "dty\n"
     ]
    }
   ],
   "source": [
    "#remove all the vobel\n",
    "def function(word):\n",
    "    v={'a','e','i','o','u','A','E','I','O','U'}\n",
    "    for i in word:\n",
    "        if i in v:\n",
    "            word=word.replace(i,'')\n",
    "            print(word)\n",
    "function('aditya')"
   ]
  },
  {
   "cell_type": "code",
   "execution_count": 8,
   "id": "15ccdc9b",
   "metadata": {},
   "outputs": [
    {
     "name": "stdout",
     "output_type": "stream",
     "text": [
      "2\n"
     ]
    }
   ],
   "source": [
    "def function():\n",
    "    a=\"i love python programing\"\n",
    "    print(a.count('p'))\n",
    "function()"
   ]
  },
  {
   "cell_type": "code",
   "execution_count": null,
   "id": "c46c9dee",
   "metadata": {},
   "outputs": [],
   "source": [
    "def function():\n",
    "    str1"
   ]
  }
 ],
 "metadata": {
  "kernelspec": {
   "display_name": "Python 3",
   "language": "python",
   "name": "python3"
  },
  "language_info": {
   "codemirror_mode": {
    "name": "ipython",
    "version": 3
   },
   "file_extension": ".py",
   "mimetype": "text/x-python",
   "name": "python",
   "nbconvert_exporter": "python",
   "pygments_lexer": "ipython3",
   "version": "3.8.8"
  }
 },
 "nbformat": 4,
 "nbformat_minor": 5
}
