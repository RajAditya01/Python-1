{
 "cells": [
  {
   "cell_type": "code",
   "execution_count": 1,
   "id": "e46f8e8f",
   "metadata": {},
   "outputs": [
    {
     "data": {
      "text/plain": [
       "6"
      ]
     },
     "execution_count": 1,
     "metadata": {},
     "output_type": "execute_result"
    }
   ],
   "source": [
    "a=\"python\"\n",
    "len(a)"
   ]
  },
  {
   "cell_type": "code",
   "execution_count": 2,
   "id": "6c0c193a",
   "metadata": {},
   "outputs": [
    {
     "data": {
      "text/plain": [
       "'h'"
      ]
     },
     "execution_count": 2,
     "metadata": {},
     "output_type": "execute_result"
    }
   ],
   "source": [
    "min(a)"
   ]
  },
  {
   "cell_type": "code",
   "execution_count": 3,
   "id": "c8ce0901",
   "metadata": {},
   "outputs": [
    {
     "data": {
      "text/plain": [
       "'y'"
      ]
     },
     "execution_count": 3,
     "metadata": {},
     "output_type": "execute_result"
    }
   ],
   "source": [
    "max(a)"
   ]
  },
  {
   "cell_type": "code",
   "execution_count": 4,
   "id": "dd0703e3",
   "metadata": {},
   "outputs": [
    {
     "data": {
      "text/plain": [
       "'P'"
      ]
     },
     "execution_count": 4,
     "metadata": {},
     "output_type": "execute_result"
    }
   ],
   "source": [
    "S1=\"Python\"\n",
    "S1[0]"
   ]
  },
  {
   "cell_type": "code",
   "execution_count": 6,
   "id": "d6adea3f",
   "metadata": {},
   "outputs": [
    {
     "name": "stdout",
     "output_type": "stream",
     "text": [
      "India"
     ]
    }
   ],
   "source": [
    "s=\"India\"\n",
    "for ch in s:\n",
    "    print(ch,end=\"\")"
   ]
  },
  {
   "cell_type": "code",
   "execution_count": 7,
   "id": "bf33a6fd",
   "metadata": {},
   "outputs": [
    {
     "ename": "SyntaxError",
     "evalue": "invalid syntax (<ipython-input-7-338d716e82da>, line 2)",
     "output_type": "error",
     "traceback": [
      "\u001b[1;36m  File \u001b[1;32m\"<ipython-input-7-338d716e82da>\"\u001b[1;36m, line \u001b[1;32m2\u001b[0m\n\u001b[1;33m    for ch in range(0)\u001b[0m\n\u001b[1;37m                      ^\u001b[0m\n\u001b[1;31mSyntaxError\u001b[0m\u001b[1;31m:\u001b[0m invalid syntax\n"
     ]
    }
   ],
   "source": [
    "s=\"ILOVEPYTHONPROGRAMING\"\n",
    "for ch in range(0)"
   ]
  },
  {
   "cell_type": "code",
   "execution_count": 8,
   "id": "a3965686",
   "metadata": {},
   "outputs": [
    {
     "name": "stdout",
     "output_type": "stream",
     "text": [
      "u LOVE PYTHON\n"
     ]
    }
   ],
   "source": [
    "str=\"I LOVE PYTHON\"\n",
    "str1=\"u\"+str[1:]\n",
    "print(str1)"
   ]
  },
  {
   "cell_type": "code",
   "execution_count": 10,
   "id": "524e4a18",
   "metadata": {},
   "outputs": [
    {
     "name": "stdout",
     "output_type": "stream",
     "text": [
      "i\n",
      "t\n"
     ]
    }
   ],
   "source": [
    "word1=\"punit\"\n",
    "word2=\"aditya\"\n",
    "for ch in word1:\n",
    "    if ch in word2:\n",
    "        print(ch)\n"
   ]
  },
  {
   "cell_type": "code",
   "execution_count": 14,
   "id": "a2c004bb",
   "metadata": {},
   "outputs": [
    {
     "name": "stdout",
     "output_type": "stream",
     "text": [
      "The count of b is= 1\n"
     ]
    }
   ],
   "source": [
    "#question 2\n",
    "string=\"books\"\n",
    "substring=\"b\"\n",
    "\n",
    "count=string.count(substring)\n",
    "print(\"The count of b is=\",count)"
   ]
  },
  {
   "cell_type": "code",
   "execution_count": 2,
   "id": "f8442a1e",
   "metadata": {},
   "outputs": [
    {
     "name": "stdout",
     "output_type": "stream",
     "text": [
      "hello world\n"
     ]
    }
   ],
   "source": [
    "str=\"hello world\"\n",
    "print(str)"
   ]
  },
  {
   "cell_type": "code",
   "execution_count": 9,
   "id": "62c0dcca",
   "metadata": {
    "scrolled": true
   },
   "outputs": [
    {
     "name": "stdout",
     "output_type": "stream",
     "text": [
      "Python Programming Language\n",
      "Python Python Python \n"
     ]
    }
   ],
   "source": [
    "str1=\"Python \"\n",
    "str2=\"Programming \"\n",
    "str3=\"Language\"\n",
    "print(str1 + str2 + str3)\n",
    "print(str1 * 3)\n"
   ]
  },
  {
   "cell_type": "code",
   "execution_count": 15,
   "id": "0f048152",
   "metadata": {},
   "outputs": [
    {
     "name": "stdout",
     "output_type": "stream",
     "text": [
      "False\n",
      "False\n",
      "True\n"
     ]
    }
   ],
   "source": [
    "str1=\"Python \"\n",
    "str2=\"Programming \"\n",
    "str3=\"Language\"\n",
    "print(str1==str2==str3)\n",
    "print(str2<str3)\n",
    "print(str2>str3)"
   ]
  },
  {
   "cell_type": "code",
   "execution_count": 22,
   "id": "1195e7b0",
   "metadata": {},
   "outputs": [
    {
     "data": {
      "text/plain": [
       "'hello w'"
      ]
     },
     "execution_count": 22,
     "metadata": {},
     "output_type": "execute_result"
    }
   ],
   "source": [
    "s1=\"hello world\"\n",
    "s1[0:7]"
   ]
  },
  {
   "cell_type": "code",
   "execution_count": 20,
   "id": "52812fd8",
   "metadata": {},
   "outputs": [
    {
     "data": {
      "text/plain": [
       "'llo '"
      ]
     },
     "execution_count": 20,
     "metadata": {},
     "output_type": "execute_result"
    }
   ],
   "source": [
    "s1[2:6]"
   ]
  },
  {
   "cell_type": "code",
   "execution_count": 21,
   "id": "1cc75e24",
   "metadata": {},
   "outputs": [
    {
     "data": {
      "text/plain": [
       "'hello'"
      ]
     },
     "execution_count": 21,
     "metadata": {},
     "output_type": "execute_result"
    }
   ],
   "source": [
    "s1[0:5]"
   ]
  },
  {
   "cell_type": "code",
   "execution_count": 27,
   "id": "ba0d7419",
   "metadata": {},
   "outputs": [
    {
     "data": {
      "text/plain": [
       "'d'"
      ]
     },
     "execution_count": 27,
     "metadata": {},
     "output_type": "execute_result"
    }
   ],
   "source": [
    "s1[-1:]"
   ]
  },
  {
   "cell_type": "code",
   "execution_count": 35,
   "id": "9cdb9f23",
   "metadata": {},
   "outputs": [
    {
     "name": "stdout",
     "output_type": "stream",
     "text": [
      "U LOVE PYTHON PROGRAMMING\n"
     ]
    }
   ],
   "source": [
    "str=\"I LOVE PYTHON PROGRAMMING\"\n",
    "str2=\"U\"+str[1:]\n",
    "print(str2)"
   ]
  },
  {
   "cell_type": "code",
   "execution_count": 40,
   "id": "6ed722eb",
   "metadata": {},
   "outputs": [
    {
     "name": "stdout",
     "output_type": "stream",
     "text": [
      "Enter Your Name\n",
      "Aditya\n",
      "Enter Date\n",
      "29 05 2022\n",
      "Dear Aditya,\n",
      "Greetings from ABC coding house. I am happy to tell you about your selection\n",
      "You are selected!\n",
      "Have a great day ahead!\n",
      "Thanks and regards,\n",
      "Bill\n",
      "Date: 29 05 2022\n",
      "\n"
     ]
    }
   ],
   "source": [
    "letter = '''Dear NAME,\n",
    "Greetings from ABC coding house. I am happy to tell you about your selection\n",
    "You are selected!\n",
    "Have a great day ahead!\n",
    "Thanks and regards,\n",
    "Bill\n",
    "Date: DATE\n",
    "'''\n",
    "name = input(\"Enter Your Name\\n\")\n",
    "date = input(\"Enter Date\\n\")\n",
    "letter = letter.replace(\"NAME\", name)\n",
    "letter = letter.replace(\"DATE\", date)\n",
    "print(letter)"
   ]
  },
  {
   "cell_type": "code",
   "execution_count": 41,
   "id": "e87031f3",
   "metadata": {},
   "outputs": [
    {
     "name": "stdout",
     "output_type": "stream",
     "text": [
      "str2 is a substring of str\n"
     ]
    }
   ],
   "source": [
    "str=\"i love python\"\n",
    "str2=\"python\"\n",
    "if str2 in str:\n",
    "    print(\"str2 is a substring of str\")\n",
    "else:\n",
    "    print(\"str2 is not a substring of str\")"
   ]
  },
  {
   "cell_type": "code",
   "execution_count": 42,
   "id": "d1fe1d3b",
   "metadata": {},
   "outputs": [
    {
     "name": "stdout",
     "output_type": "stream",
     "text": [
      "कोरपैथ।न\n"
     ]
    }
   ],
   "source": [
    "name=u'\\u0915\\u094b\\u0930\\u092a\\u0948\\u0925\\u0964\\u0928'\n",
    "print(name)"
   ]
  },
  {
   "cell_type": "code",
   "execution_count": 7,
   "id": "2292a0e3",
   "metadata": {},
   "outputs": [
    {
     "name": "stdout",
     "output_type": "stream",
     "text": [
      "enter the character:core $ython\n",
      "it is a special character.\n"
     ]
    }
   ],
   "source": [
    "str=input(\"enter the character:\")\n",
    "ch=str[5]\n",
    "if ch.isalnum():\n",
    "    print(\"it is a alphabet or numeric character.\")\n",
    "    if ch.isalpha():\n",
    "        print(\"it is an alphabet.\")\n",
    "        if ch.isupper():\n",
    "            print(\"it is an upper case character.\")\n",
    "        else:\n",
    "            print(\"it is a lower case character.\")\n",
    "    else:\n",
    "        print(\"it is a numeric character.\")\n",
    "elif ch.isspace():\n",
    "    print(\"it is a space.\")\n",
    "else:\n",
    "    print(\"it is a special character.\")"
   ]
  },
  {
   "cell_type": "code",
   "execution_count": 2,
   "id": "f784291b",
   "metadata": {},
   "outputs": [
    {
     "name": "stdout",
     "output_type": "stream",
     "text": [
      "how many strings?5\n",
      "enter string: punit\n",
      "enter string: goyal\n",
      "enter string: aditya\n",
      "enter string: jitender\n",
      "enter string: singh\n",
      "sorted list:\n",
      "aditya\n",
      "goyal\n",
      "jitender\n",
      "punit\n",
      "singh\n"
     ]
    }
   ],
   "source": [
    "str=[]\n",
    "n=int(input('how many strings?'))\n",
    "for i in range(n):\n",
    "    print('enter string:',end=' ')\n",
    "    str.append(input())\n",
    "str1=sorted(str)\n",
    "print('sorted list:')\n",
    "for i in str1:\n",
    "    print(i)"
   ]
  },
  {
   "cell_type": "code",
   "execution_count": null,
   "id": "7d9e1f70",
   "metadata": {},
   "outputs": [
    {
     "name": "stdout",
     "output_type": "stream",
     "text": [
      "how many strings?4\n",
      "enter strings: bat\n",
      "enter strings: ball\n",
      "enter strings: "
     ]
    }
   ],
   "source": [
    "str=[]\n",
    "n=int(input('how many strings?'))\n",
    "for i in range(n):\n",
    "    print('enter strings:',end=' ')\n",
    "    str.append(input())\n",
    "s=input('enter string to search:')\n",
    "flag=False\n",
    "for i in range(len(str)):\n",
    "    if s==str[i]:\n",
    "        print('found at:',i+1)\n",
    "if flag==False:\n",
    "     print('no found')"
   ]
  },
  {
   "cell_type": "code",
   "execution_count": 11,
   "id": "a5ee23e7",
   "metadata": {},
   "outputs": [
    {
     "data": {
      "text/plain": [
       "'adgj'"
      ]
     },
     "execution_count": 11,
     "metadata": {},
     "output_type": "execute_result"
    }
   ],
   "source": [
    "a=\"iabcdefghij\"\n",
    "a[1:11:3]"
   ]
  },
  {
   "cell_type": "code",
   "execution_count": null,
   "id": "b885d5ed",
   "metadata": {},
   "outputs": [],
   "source": []
  },
  {
   "cell_type": "code",
   "execution_count": null,
   "id": "54e4fb03",
   "metadata": {},
   "outputs": [],
   "source": []
  }
 ],
 "metadata": {
  "kernelspec": {
   "display_name": "Python 3",
   "language": "python",
   "name": "python3"
  },
  "language_info": {
   "codemirror_mode": {
    "name": "ipython",
    "version": 3
   },
   "file_extension": ".py",
   "mimetype": "text/x-python",
   "name": "python",
   "nbconvert_exporter": "python",
   "pygments_lexer": "ipython3",
   "version": "3.8.8"
  }
 },
 "nbformat": 4,
 "nbformat_minor": 5
}
