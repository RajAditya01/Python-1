{
 "cells": [
  {
   "cell_type": "code",
   "execution_count": null,
   "id": "9fc15689",
   "metadata": {},
   "outputs": [],
   "source": [
    "# wap to enter two no from user and print all the odd no and prime no blw them write down in the form of dictonary\n",
    "num=input(dict())\n",
    "for i in range (2,num//2):\n",
    "    if num/i==0:\n",
    "        break\n",
    "        print(\"number is not prime\")\n",
    "    else:\n",
    "        print(\"number is prime\")"
   ]
  },
  {
   "cell_type": "code",
   "execution_count": 21,
   "id": "ea5d02e6",
   "metadata": {},
   "outputs": [
    {
     "ename": "TypeError",
     "evalue": "int() argument must be a string, a bytes-like object or a number, not 'dict'",
     "output_type": "error",
     "traceback": [
      "\u001b[1;31m---------------------------------------------------------------------------\u001b[0m",
      "\u001b[1;31mTypeError\u001b[0m                                 Traceback (most recent call last)",
      "\u001b[1;32m<ipython-input-21-8911a144d3d3>\u001b[0m in \u001b[0;36m<module>\u001b[1;34m\u001b[0m\n\u001b[1;32m----> 1\u001b[1;33m \u001b[0ma\u001b[0m\u001b[1;33m=\u001b[0m\u001b[0mint\u001b[0m\u001b[1;33m(\u001b[0m\u001b[0mdict\u001b[0m\u001b[1;33m(\u001b[0m\u001b[1;33m)\u001b[0m\u001b[1;33m)\u001b[0m\u001b[1;33m\u001b[0m\u001b[1;33m\u001b[0m\u001b[0m\n\u001b[0m\u001b[0;32m      2\u001b[0m \u001b[1;32mfor\u001b[0m \u001b[0mnum\u001b[0m \u001b[1;32min\u001b[0m \u001b[0ma\u001b[0m\u001b[1;33m:\u001b[0m\u001b[1;33m\u001b[0m\u001b[1;33m\u001b[0m\u001b[0m\n\u001b[0;32m      3\u001b[0m     \u001b[1;32mif\u001b[0m \u001b[0mnum\u001b[0m\u001b[1;33m/\u001b[0m\u001b[1;36m2\u001b[0m\u001b[1;33m==\u001b[0m\u001b[1;36m0\u001b[0m\u001b[1;33m:\u001b[0m\u001b[1;33m\u001b[0m\u001b[1;33m\u001b[0m\u001b[0m\n\u001b[0;32m      4\u001b[0m         \u001b[0mprint\u001b[0m\u001b[1;33m(\u001b[0m\u001b[1;34m\"no is prime\"\u001b[0m\u001b[1;33m)\u001b[0m\u001b[1;33m\u001b[0m\u001b[1;33m\u001b[0m\u001b[0m\n\u001b[0;32m      5\u001b[0m     \u001b[1;32melse\u001b[0m\u001b[1;33m:\u001b[0m\u001b[1;33m\u001b[0m\u001b[1;33m\u001b[0m\u001b[0m\n",
      "\u001b[1;31mTypeError\u001b[0m: int() argument must be a string, a bytes-like object or a number, not 'dict'"
     ]
    }
   ],
   "source": [
    "a=int(dict())\n",
    "for num in a:\n",
    "    if num/2==0:\n",
    "        print(\"no is prime\")\n",
    "    else:\n",
    "        print(\"no is not prime\")"
   ]
  },
  {
   "cell_type": "code",
   "execution_count": 1,
   "id": "9e425dcf",
   "metadata": {},
   "outputs": [
    {
     "name": "stdout",
     "output_type": "stream",
     "text": [
      "A B C D E F G H I J K L M N O P Q R S T U V W X Y Z "
     ]
    }
   ],
   "source": [
    "for i in range (65 ,91):\n",
    "    print(chr(i), end=\" \")\n"
   ]
  },
  {
   "cell_type": "code",
   "execution_count": 16,
   "id": "ef7ffbb2",
   "metadata": {},
   "outputs": [
    {
     "name": "stdout",
     "output_type": "stream",
     "text": [
      "sum from 10 to 20 is = 165\n",
      "sum from 5 to 10 is = 45\n"
     ]
    }
   ],
   "source": [
    "def sum (x,y):\n",
    "    s=0\n",
    "    for i in range (x,y+1):\n",
    "        s=s+i\n",
    "\n",
    "    print(\"sum from\",x, \"to\", y, \"is =\",s)\n",
    "sum(10,20)\n",
    "sum(5,10)\n",
    "    "
   ]
  },
  {
   "cell_type": "code",
   "execution_count": 14,
   "id": "c0fdea86",
   "metadata": {},
   "outputs": [
    {
     "name": "stdout",
     "output_type": "stream",
     "text": [
      "THE SUM OF NUMBERS b/w 1 and 25 is 325\n",
      "THE SUM OF NUMBERS b/w 50 and 75 is 1625\n",
      "THE SUM OF NUMBERS b/w 90 and 100 is 1045\n"
     ]
    }
   ],
   "source": [
    "def sum(x,y):\n",
    "    s=0\n",
    "    for i in range(x,y+1):\n",
    "        s=s+i\n",
    "    print(\"THE SUM OF NUMBERS b/w\",x,'and',y,'is',s)\n",
    "sum(1,25)#function calling\n",
    "sum(50,75)#function calling\n",
    "sum(90,100)#function calling"
   ]
  },
  {
   "cell_type": "code",
   "execution_count": 13,
   "id": "cb19f8f5",
   "metadata": {},
   "outputs": [
    {
     "ename": "SyntaxError",
     "evalue": "invalid syntax (<ipython-input-13-5514e83056f9>, line 3)",
     "output_type": "error",
     "traceback": [
      "\u001b[1;36m  File \u001b[1;32m\"<ipython-input-13-5514e83056f9>\"\u001b[1;36m, line \u001b[1;32m3\u001b[0m\n\u001b[1;33m    display(Name=\"Aditya\" Age=18)\u001b[0m\n\u001b[1;37m                          ^\u001b[0m\n\u001b[1;31mSyntaxError\u001b[0m\u001b[1;31m:\u001b[0m invalid syntax\n"
     ]
    }
   ],
   "source": [
    "def Display (Name,Age):\n",
    "    print(\"Name\",Name, \"Age\",Age)\n",
    "Display(Name=\"Aditya\" Age=18)"
   ]
  },
  {
   "cell_type": "code",
   "execution_count": 1,
   "id": "304cf0fc",
   "metadata": {},
   "outputs": [
    {
     "ename": "SyntaxError",
     "evalue": "invalid syntax (<ipython-input-1-e29328065950>, line 7)",
     "output_type": "error",
     "traceback": [
      "\u001b[1;36m  File \u001b[1;32m\"<ipython-input-1-e29328065950>\"\u001b[1;36m, line \u001b[1;32m7\u001b[0m\n\u001b[1;33m    if a [i]==\u001b[0m\n\u001b[1;37m              ^\u001b[0m\n\u001b[1;31mSyntaxError\u001b[0m\u001b[1;31m:\u001b[0m invalid syntax\n"
     ]
    }
   ],
   "source": [
    "a=\"ADITYASNEHIT\"\n",
    "l=len(a)+1\n",
    "b={}\n",
    "for i in range (o,len(a)):\n",
    "    count=0\n",
    "    for j in range(o,len(a)):\n",
    "        if a [i]=="
   ]
  },
  {
   "cell_type": "code",
   "execution_count": 1,
   "id": "c486867c",
   "metadata": {},
   "outputs": [
    {
     "name": "stdout",
     "output_type": "stream",
     "text": [
      "{'A': 2, 'D': 1, 'I': 2, 'T': 2, 'Y': 1, 'S': 1, 'N': 1, 'E': 1, 'H': 1}\n"
     ]
    }
   ],
   "source": [
    "a=\"ADITYASNEHIT\"\n",
    "b={x:a.count(x) for x in (a)}\n",
    "print(b)"
   ]
  },
  {
   "cell_type": "code",
   "execution_count": 3,
   "id": "95777876",
   "metadata": {},
   "outputs": [
    {
     "name": "stdout",
     "output_type": "stream",
     "text": [
      "11\n",
      "not prime\n"
     ]
    }
   ],
   "source": [
    "a=int(input())\n",
    "if a//2==0:\n",
    "    print(\"the no is prime\")\n",
    "else:\n",
    "    print(\"not prime\")\n",
    "    "
   ]
  },
  {
   "cell_type": "code",
   "execution_count": 5,
   "id": "9c891674",
   "metadata": {},
   "outputs": [
    {
     "name": "stdout",
     "output_type": "stream",
     "text": [
      "120\n"
     ]
    }
   ],
   "source": [
    "def factorial(n):\n",
    "   if n==0:\n",
    "        return 1\n",
    "   return(n)*factorial(n-1)\n",
    "print(factorial(5))"
   ]
  },
  {
   "cell_type": "code",
   "execution_count": 7,
   "id": "78efc493",
   "metadata": {},
   "outputs": [
    {
     "name": "stdout",
     "output_type": "stream",
     "text": [
      "Enter a number: -8\n",
      "-8 is a prime number\n"
     ]
    }
   ],
   "source": [
    "# Program to check if a number is prime or not\n",
    "num = int(input(\"Enter a number: \"))\n",
    "# prime numbers are greater than 1\n",
    "if num > 1:\n",
    "    # check for factors\n",
    "    for i in range(2, num):\n",
    "        if (num % i) == 0:\n",
    "            break\n",
    "\n",
    "\n",
    "    print(num, \"is not a prime number\")\n",
    "else:\n",
    "    print(num, \"is a prime number\")"
   ]
  },
  {
   "cell_type": "code",
   "execution_count": 11,
   "id": "1dfa56d9",
   "metadata": {},
   "outputs": [
    {
     "name": "stdout",
     "output_type": "stream",
     "text": [
      "Display multiplication table of? 5\n",
      "5 x 1 = 5\n",
      "5 x 2 = 10\n",
      "5 x 3 = 15\n",
      "5 x 4 = 20\n",
      "5 x 5 = 25\n",
      "5 x 6 = 30\n",
      "5 x 7 = 35\n",
      "5 x 8 = 40\n",
      "5 x 9 = 45\n",
      "5 x 10 = 50\n"
     ]
    }
   ],
   "source": [
    "# Multiplication table (from 1 to 10) in Python\n",
    "\n",
    "# num = 12\n",
    "\n",
    "# To take input from the user\n",
    "num = int(input(\"Display multiplication table of? \"))\n",
    "\n",
    "# Iterate 10 times from i = 1 to 10\n",
    "for i in range(1, 11):\n",
    "   print(num, 'x', i, '=', num*i)\n"
   ]
  },
  {
   "cell_type": "code",
   "execution_count": null,
   "id": "715f4dd5",
   "metadata": {},
   "outputs": [],
   "source": []
  }
 ],
 "metadata": {
  "kernelspec": {
   "display_name": "Python 3",
   "language": "python",
   "name": "python3"
  },
  "language_info": {
   "codemirror_mode": {
    "name": "ipython",
    "version": 3
   },
   "file_extension": ".py",
   "mimetype": "text/x-python",
   "name": "python",
   "nbconvert_exporter": "python",
   "pygments_lexer": "ipython3",
   "version": "3.8.8"
  }
 },
 "nbformat": 4,
 "nbformat_minor": 5
}
