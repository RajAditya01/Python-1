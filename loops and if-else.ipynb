{
 "cells": [
  {
   "cell_type": "code",
   "execution_count": 3,
   "metadata": {},
   "outputs": [
    {
     "name": "stdout",
     "output_type": "stream",
     "text": [
      "Enter first number23\n",
      "Enter Second number27\n",
      "Num2 is greater\n"
     ]
    }
   ],
   "source": [
    "num1= eval(input(\"Enter first number\"))\n",
    "num2= eval(input(\"Enter Second number\"))\n",
    "if num1>num2:\n",
    "    print(\"Num1 is greater\")\n",
    "else:\n",
    "    print(\"Num2 is greater\")"
   ]
  },
  {
   "cell_type": "code",
   "execution_count": 5,
   "metadata": {},
   "outputs": [
    {
     "name": "stdout",
     "output_type": "stream",
     "text": [
      "Enter first number23\n",
      "Enter Second number23\n",
      "Numbers are equal\n"
     ]
    }
   ],
   "source": [
    "num1= eval(input(\"Enter first number\"))\n",
    "num2= eval(input(\"Enter Second number\"))\n",
    "if num1-num2==0:\n",
    "    print(\"Numbers are equal\")\n",
    "else:\n",
    "    print(\"Numbers are not equal\")"
   ]
  },
  {
   "cell_type": "code",
   "execution_count": 6,
   "metadata": {},
   "outputs": [
    {
     "name": "stdout",
     "output_type": "stream",
     "text": [
      "Enter first number6\n",
      "number is even\n"
     ]
    }
   ],
   "source": [
    "num1= eval(input(\"Enter first number\"))\n",
    "if num1%2==0:\n",
    "    print(\"number is even\")\n",
    "else:\n",
    "    print(\"number is odd\")"
   ]
  },
  {
   "cell_type": "code",
   "execution_count": 8,
   "metadata": {},
   "outputs": [
    {
     "name": "stdout",
     "output_type": "stream",
     "text": [
      "Enter the number6\n",
      "number is not divisible by 5 and 10\n"
     ]
    }
   ],
   "source": [
    "# whether a number is divisible by 5 and 10\n",
    "num= eval(input(\"Enter the number\"))\n",
    "if num%5==0 and num%10==0:\n",
    "    print(\"number is divisible by 5 and 10\")\n",
    "else:\n",
    "    print(\"number is not divisible by 5 and 10\")\n"
   ]
  },
  {
   "cell_type": "code",
   "execution_count": 1,
   "metadata": {},
   "outputs": [
    {
     "name": "stdout",
     "output_type": "stream",
     "text": [
      "count= 1\n",
      "count= 2\n",
      "count= 3\n",
      "count= 4\n",
      "count= 5\n"
     ]
    }
   ],
   "source": [
    "count=1\n",
    "while count<=5:\n",
    "    print(\"count=\",count)\n",
    "count=count+1"
   ]
  },
  {
   "cell_type": "code",
   "execution_count": 2,
   "metadata": {},
   "outputs": [
    {
     "name": "stdout",
     "output_type": "stream",
     "text": [
      "Enter any number12345\n",
      "15\n"
     ]
    }
   ],
   "source": [
    "# to find the sum of digits of a number 123\n",
    "num=int(input(\"Enter any number\"))\n",
    "sum=0\n",
    "while num>0:\n",
    "    rem=num%10      # rem=2\n",
    "    num=num//10     # num=1\n",
    "    sum=sum+rem;    # sum=5\n",
    "print(sum)"
   ]
  },
  {
   "cell_type": "code",
   "execution_count": 3,
   "metadata": {},
   "outputs": [
    {
     "name": "stdout",
     "output_type": "stream",
     "text": [
      "Enter any number123\n",
      "321\n"
     ]
    }
   ],
   "source": [
    "# to find the reverse of a number 357\n",
    "num=int(input(\"Enter any number\"))\n",
    "sum=0\n",
    "while num>0:\n",
    "    rem=num%10          # rem=3\n",
    "    num=num//10        # num=0\n",
    "    sum=sum*10+rem;    # sum=753\n",
    "print(sum)"
   ]
  },
  {
   "cell_type": "code",
   "execution_count": 5,
   "metadata": {},
   "outputs": [
    {
     "name": "stdout",
     "output_type": "stream",
     "text": [
      "Enter any number12345\n",
      "not a palindrome number\n"
     ]
    }
   ],
   "source": [
    "# to find whether a no is palindrome no\n",
    "num=int(input(\"Enter any number\"))\n",
    "sum=0\n",
    "num1=num\n",
    "while num>0:\n",
    "    rem=num%10          # rem=3\n",
    "    num=num//10        # num=0\n",
    "    sum=sum*10+rem;    # sum=753\n",
    "if sum==num1:\n",
    "    print(\"palindrome number\")\n",
    "else:\n",
    "    print(\"not a palindrome number\")"
   ]
  },
  {
   "cell_type": "code",
   "execution_count": 1,
   "metadata": {},
   "outputs": [
    {
     "name": "stdout",
     "output_type": "stream",
     "text": [
      "Enter any number5\n",
      "120\n"
     ]
    }
   ],
   "source": [
    "# to find whether number is armstrong number 123\n",
    "# to find factorial of a number\n",
    "# 5!=5*4*3*2*1\n",
    "num=int(input(\"Enter any number\"))\n",
    "fact=1\n",
    "while num>0:\n",
    "    fact=fact*num     #fact=120\n",
    "    num=num-1         #num=0\n",
    "print(fact)\n",
    "    \n",
    "\n"
   ]
  },
  {
   "cell_type": "code",
   "execution_count": 4,
   "metadata": {},
   "outputs": [
    {
     "data": {
      "text/plain": [
       "[1, 2, 3, 4]"
      ]
     },
     "execution_count": 4,
     "metadata": {},
     "output_type": "execute_result"
    }
   ],
   "source": [
    " # to find power of a number a^b\n",
    "#range(begin,end,step)\n",
    "list(range(1,5))"
   ]
  },
  {
   "cell_type": "code",
   "execution_count": 5,
   "metadata": {},
   "outputs": [
    {
     "data": {
      "text/plain": [
       "[1, 2, 3, 4, 5]"
      ]
     },
     "execution_count": 5,
     "metadata": {},
     "output_type": "execute_result"
    }
   ],
   "source": [
    "list(range(1,6))"
   ]
  },
  {
   "cell_type": "code",
   "execution_count": 6,
   "metadata": {},
   "outputs": [
    {
     "data": {
      "text/plain": [
       "[1, 3, 5, 7, 9, 11, 13, 15, 17, 19]"
      ]
     },
     "execution_count": 6,
     "metadata": {},
     "output_type": "execute_result"
    }
   ],
   "source": [
    "list(range(1,20,2))"
   ]
  },
  {
   "cell_type": "code",
   "execution_count": 7,
   "metadata": {},
   "outputs": [
    {
     "data": {
      "text/plain": [
       "[1, 3, 5, 7, 9]"
      ]
     },
     "execution_count": 7,
     "metadata": {},
     "output_type": "execute_result"
    }
   ],
   "source": [
    "list(range(1,10,2))"
   ]
  },
  {
   "cell_type": "code",
   "execution_count": 8,
   "metadata": {},
   "outputs": [
    {
     "data": {
      "text/plain": [
       "[5, 4, 3, 2, 1]"
      ]
     },
     "execution_count": 8,
     "metadata": {},
     "output_type": "execute_result"
    }
   ],
   "source": [
    "list(range(5,0,-1))"
   ]
  },
  {
   "cell_type": "code",
   "execution_count": 9,
   "metadata": {},
   "outputs": [
    {
     "data": {
      "text/plain": [
       "[5, 3, 1]"
      ]
     },
     "execution_count": 9,
     "metadata": {},
     "output_type": "execute_result"
    }
   ],
   "source": [
    "list(range(5,0,-2))"
   ]
  },
  {
   "cell_type": "code",
   "execution_count": 10,
   "metadata": {},
   "outputs": [
    {
     "data": {
      "text/plain": [
       "[0, 1, 2, 3, 4]"
      ]
     },
     "execution_count": 10,
     "metadata": {},
     "output_type": "execute_result"
    }
   ],
   "source": [
    "list(range(5))"
   ]
  },
  {
   "cell_type": "code",
   "execution_count": 11,
   "metadata": {},
   "outputs": [
    {
     "data": {
      "text/plain": [
       "[-4, -3, -2, -1, 0, 1, 2, 3]"
      ]
     },
     "execution_count": 11,
     "metadata": {},
     "output_type": "execute_result"
    }
   ],
   "source": [
    "list(range(-4,4))"
   ]
  },
  {
   "cell_type": "code",
   "execution_count": 12,
   "metadata": {},
   "outputs": [
    {
     "data": {
      "text/plain": [
       "[-4, -2, 0, 2]"
      ]
     },
     "execution_count": 12,
     "metadata": {},
     "output_type": "execute_result"
    }
   ],
   "source": [
    "list(range(-4,4,2))"
   ]
  },
  {
   "cell_type": "code",
   "execution_count": 14,
   "metadata": {},
   "outputs": [
    {
     "data": {
      "text/plain": [
       "[0]"
      ]
     },
     "execution_count": 14,
     "metadata": {},
     "output_type": "execute_result"
    }
   ],
   "source": [
    "list(range(0,1))"
   ]
  },
  {
   "cell_type": "code",
   "execution_count": 15,
   "metadata": {},
   "outputs": [
    {
     "data": {
      "text/plain": [
       "[]"
      ]
     },
     "execution_count": 15,
     "metadata": {},
     "output_type": "execute_result"
    }
   ],
   "source": [
    "list(range(1,1))"
   ]
  },
  {
   "cell_type": "code",
   "execution_count": 16,
   "metadata": {},
   "outputs": [
    {
     "name": "stdout",
     "output_type": "stream",
     "text": [
      "1\n",
      "2\n",
      "3\n",
      "4\n",
      "5\n",
      "6\n",
      "7\n",
      "8\n",
      "9\n"
     ]
    }
   ],
   "source": [
    "for i in range(1,10):\n",
    "    print (i)"
   ]
  },
  {
   "cell_type": "code",
   "execution_count": 21,
   "metadata": {},
   "outputs": [
    {
     "name": "stdout",
     "output_type": "stream",
     "text": [
      "65 66 67 68 69 70 71 72 73 74 75 76 77 78 79 80 81 82 83 84 85 86 87 88 89 90 "
     ]
    }
   ],
   "source": [
    "for var in range(65,91,1):\n",
    "    print(var,end=\" \")"
   ]
  },
  {
   "cell_type": "code",
   "execution_count": 19,
   "metadata": {},
   "outputs": [
    {
     "name": "stdout",
     "output_type": "stream",
     "text": [
      "A B C D E F G H I J K L M N O P Q R S T U V W X Y Z "
     ]
    }
   ],
   "source": [
    "for i in range(65,91,1):\n",
    "    print(chr(i),end=\" \")"
   ]
  },
  {
   "cell_type": "code",
   "execution_count": 20,
   "metadata": {},
   "outputs": [
    {
     "name": "stdout",
     "output_type": "stream",
     "text": [
      "10\n",
      "9\n",
      "8\n",
      "7\n",
      "6\n",
      "5\n",
      "4\n",
      "3\n",
      "2\n",
      "1\n"
     ]
    }
   ],
   "source": [
    "for i in range(10,0,-1):\n",
    "    print(i)"
   ]
  },
  {
   "cell_type": "code",
   "execution_count": 28,
   "metadata": {},
   "outputs": [
    {
     "name": "stdout",
     "output_type": "stream",
     "text": [
      "square of a number 1 is: 1\n",
      "square of a number 2 is: 4\n",
      "square of a number 3 is: 9\n",
      "square of a number 4 is: 16\n",
      "square of a number 5 is: 25\n"
     ]
    }
   ],
   "source": [
    "for var in range(1,6):\n",
    "    square=var**2\n",
    "    print(\"square of a number\", var, \"is:\", square)"
   ]
  },
  {
   "cell_type": "code",
   "execution_count": 1,
   "metadata": {},
   "outputs": [
    {
     "name": "stdout",
     "output_type": "stream",
     "text": [
      "i=  1 j=  1\n",
      "i=  1 j=  2\n",
      "i=  1 j=  3\n",
      "i=  2 j=  1\n",
      "i=  2 j=  2\n",
      "i=  2 j=  3\n",
      "i=  3 j=  1\n",
      "i=  3 j=  2\n",
      "i=  3 j=  3\n"
     ]
    }
   ],
   "source": [
    "for i in range(1,4):\n",
    "    for j in range(1,4):\n",
    "        print(\"i= \",i,\"j= \",j)"
   ]
  },
  {
   "cell_type": "code",
   "execution_count": 4,
   "metadata": {},
   "outputs": [
    {
     "name": "stdout",
     "output_type": "stream",
     "text": [
      "       1        2        3        4        5 \n",
      "       2        4        6        8       10 \n",
      "       3        6        9       12       15 \n",
      "       4        8       12       16       20 \n",
      "       5       10       15       20       25 \n",
      "       6       12       18       24       30 \n",
      "       7       14       21       28       35 \n",
      "       8       16       24       32       40 \n",
      "       9       18       27       36       45 \n",
      "      10       20       30       40       50 \n"
     ]
    }
   ],
   "source": [
    "for i in range(1,11):\n",
    "    for j in range(1,6):\n",
    "        print(format(i*j,\"8d\"),end=\" \")\n",
    "    print()"
   ]
  },
  {
   "cell_type": "code",
   "execution_count": 9,
   "metadata": {},
   "outputs": [
    {
     "name": "stdout",
     "output_type": "stream",
     "text": [
      "1 \n",
      "1 2 \n",
      "1 2 3 \n",
      "1 2 3 4 \n",
      "1 2 3 4 5 \n"
     ]
    }
   ],
   "source": [
    "# 1\n",
    "# 1 2\n",
    "# 1 2 3\n",
    "# 1 2 3 4\n",
    "# 1 2 3 4 5\n",
    "for i in range(1,6):         # i = 1\n",
    "    for j in range(1,i+1):   # j = 1   \n",
    "        print(j,end=\" \")\n",
    "    print()\n",
    "    "
   ]
  },
  {
   "cell_type": "code",
   "execution_count": 10,
   "metadata": {},
   "outputs": [
    {
     "name": "stdout",
     "output_type": "stream",
     "text": [
      "1 2 3 4 5 6 7 8 9 10 "
     ]
    }
   ],
   "source": [
    "# break and continue\n",
    "for i in range(1,100):\n",
    "    if(i==11):\n",
    "        break\n",
    "    else:\n",
    "        print(i,end=\" \")"
   ]
  },
  {
   "cell_type": "code",
   "execution_count": 11,
   "metadata": {},
   "outputs": [
    {
     "name": "stdout",
     "output_type": "stream",
     "text": [
      "1 2 3 4 6 7 8 9 10 "
     ]
    }
   ],
   "source": [
    "for i in range(1,11):\n",
    "    if i==5:\n",
    "        continue\n",
    "    print(i,end=\" \")"
   ]
  },
  {
   "cell_type": "code",
   "execution_count": 14,
   "metadata": {},
   "outputs": [
    {
     "name": "stdout",
     "output_type": "stream",
     "text": [
      "enter any number10\n",
      "10 is not prime\n"
     ]
    }
   ],
   "source": [
    "# prime number\n",
    "num=int(input(\"enter any number\"))\n",
    "for i in range(2,num):\n",
    "    if num%i==0:\n",
    "        flag=0\n",
    "        break\n",
    "    else:\n",
    "        flag=1\n",
    "if flag==1:\n",
    "    print(num, \"is prime\")\n",
    "else:\n",
    "    print(num, \"is not prime\")"
   ]
  },
  {
   "cell_type": "code",
   "execution_count": null,
   "metadata": {},
   "outputs": [],
   "source": []
  },
  {
   "cell_type": "code",
   "execution_count": null,
   "metadata": {},
   "outputs": [],
   "source": []
  }
 ],
 "metadata": {
  "kernelspec": {
   "display_name": "Python 3",
   "language": "python",
   "name": "python3"
  },
  "language_info": {
   "codemirror_mode": {
    "name": "ipython",
    "version": 3
   },
   "file_extension": ".py",
   "mimetype": "text/x-python",
   "name": "python",
   "nbconvert_exporter": "python",
   "pygments_lexer": "ipython3",
   "version": "3.8.8"
  }
 },
 "nbformat": 4,
 "nbformat_minor": 4
}
