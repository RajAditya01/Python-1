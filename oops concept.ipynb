{
 "cells": [
  {
   "cell_type": "code",
   "execution_count": 1,
   "id": "864fd14e",
   "metadata": {},
   "outputs": [
    {
     "name": "stdout",
     "output_type": "stream",
     "text": [
      "Welcome to Python class\n",
      "<__main__.Demo object at 0x000002469F5857F0>\n"
     ]
    }
   ],
   "source": [
    "class Demo:\n",
    "    print('Welcome to Python class')\n",
    "D1=Demo()\n",
    "print(D1)"
   ]
  },
  {
   "cell_type": "code",
   "execution_count": 5,
   "id": "6e5e5f03",
   "metadata": {},
   "outputs": [
    {
     "name": "stdout",
     "output_type": "stream",
     "text": [
      "0\n",
      "0\n",
      "20\n",
      "30\n"
     ]
    }
   ],
   "source": [
    "class rectangle:\n",
    "    len=0\n",
    "    bre=0\n",
    "R1=rectangle()\n",
    "R2=rectangle()\n",
    "print(R1.len)\n",
    "print(R1.bre)\n",
    "R2.len=20\n",
    "R2.bre=30\n",
    "print(R2.len)\n",
    "print(R2.bre)"
   ]
  },
  {
   "cell_type": "code",
   "execution_count": 33,
   "id": "14b7a9bd",
   "metadata": {},
   "outputs": [
    {
     "name": "stdout",
     "output_type": "stream",
     "text": [
      "Welcome\n"
     ]
    }
   ],
   "source": [
    "class Demo1:\n",
    "    def display(self):\n",
    "        print('Welcome')\n",
    "ob1=Demo1()\n",
    "ob1.display()"
   ]
  },
  {
   "cell_type": "code",
   "execution_count": 11,
   "id": "896e7f33",
   "metadata": {},
   "outputs": [
    {
     "name": "stdout",
     "output_type": "stream",
     "text": [
      "radius= 5\n",
      "Area of circle is= 78.53981633974483\n"
     ]
    }
   ],
   "source": [
    "import math\n",
    "class circle:\n",
    "    def calculate(self,radius):\n",
    "        print(\"radius=\",radius)\n",
    "        area=math.pi*radius**2\n",
    "        return area\n",
    "ob1=circle()\n",
    "print(\"Area of circle is=\", ob1.calculate(5))"
   ]
  },
  {
   "cell_type": "code",
   "execution_count": 13,
   "id": "f44e5a10",
   "metadata": {},
   "outputs": [
    {
     "name": "stdout",
     "output_type": "stream",
     "text": [
      "local x is= 30\n",
      "instance x is= 30\n"
     ]
    }
   ],
   "source": [
    "class Prac:\n",
    "    x=5\n",
    "    def disp(self,x):\n",
    "        x=30\n",
    "        print(\"local variable x is=\",x)\n",
    "        print(\"instance variable x is=\",x)\n",
    "ob=Prac()\n",
    "ob.disp(50)"
   ]
  },
  {
   "cell_type": "code",
   "execution_count": 18,
   "id": "c05bce06",
   "metadata": {},
   "outputs": [
    {
     "name": "stdout",
     "output_type": "stream",
     "text": [
      "In method B\n",
      "In method A\n",
      "In method A\n"
     ]
    }
   ],
   "source": [
    "class self_demo():\n",
    "    def Method_A(self):\n",
    "        print('In method A')\n",
    "    def Method_B(self):\n",
    "        print('In method B')\n",
    "        self.Method_A()\n",
    "Q=self_demo()\n",
    "Q.Method_B()\n",
    "Q.Method_A()       "
   ]
  },
  {
   "cell_type": "code",
   "execution_count": 4,
   "id": "1fe0d8bd",
   "metadata": {},
   "outputs": [
    {
     "name": "stdout",
     "output_type": "stream",
     "text": [
      "Enter Namejatin\n",
      "Name= jatin\n",
      "Enter Age25\n",
      "Age= 25\n"
     ]
    }
   ],
   "source": [
    "class displayDemo:\n",
    "    Name=''\n",
    "    Age=''\n",
    "    def read(self):\n",
    "        Name=input('Enter Name')\n",
    "        print('Name=',Name)\n",
    "        Age=eval(input('Enter Age'))\n",
    "        print('Age=',Age)\n",
    "D1=displayDemo()\n",
    "D1.read()"
   ]
  },
  {
   "cell_type": "code",
   "execution_count": 21,
   "id": "7f8492bc",
   "metadata": {},
   "outputs": [
    {
     "data": {
      "text/plain": [
       "['Age',\n",
       " 'Name',\n",
       " '__class__',\n",
       " '__delattr__',\n",
       " '__dict__',\n",
       " '__dir__',\n",
       " '__doc__',\n",
       " '__eq__',\n",
       " '__format__',\n",
       " '__ge__',\n",
       " '__getattribute__',\n",
       " '__gt__',\n",
       " '__hash__',\n",
       " '__init__',\n",
       " '__init_subclass__',\n",
       " '__le__',\n",
       " '__lt__',\n",
       " '__module__',\n",
       " '__ne__',\n",
       " '__new__',\n",
       " '__reduce__',\n",
       " '__reduce_ex__',\n",
       " '__repr__',\n",
       " '__setattr__',\n",
       " '__sizeof__',\n",
       " '__str__',\n",
       " '__subclasshook__',\n",
       " '__weakref__',\n",
       " 'read']"
      ]
     },
     "execution_count": 21,
     "metadata": {},
     "output_type": "execute_result"
    }
   ],
   "source": [
    "dir(displayDemo)"
   ]
  },
  {
   "cell_type": "code",
   "execution_count": 23,
   "id": "2259c211",
   "metadata": {},
   "outputs": [
    {
     "data": {
      "text/plain": [
       "mappingproxy({'__module__': '__main__',\n",
       "              'Name': '',\n",
       "              'Age': '',\n",
       "              'read': <function __main__.displayDemo.read(self)>,\n",
       "              '__dict__': <attribute '__dict__' of 'displayDemo' objects>,\n",
       "              '__weakref__': <attribute '__weakref__' of 'displayDemo' objects>,\n",
       "              '__doc__': None})"
      ]
     },
     "execution_count": 23,
     "metadata": {},
     "output_type": "execute_result"
    }
   ],
   "source": [
    "displayDemo.__dict__"
   ]
  },
  {
   "cell_type": "code",
   "execution_count": 28,
   "id": "077d4409",
   "metadata": {},
   "outputs": [
    {
     "name": "stdout",
     "output_type": "stream",
     "text": [
      "Name= Vishal\n",
      "Name= Vishal\n",
      "Bank account No= 10101\n"
     ]
    },
    {
     "ename": "AttributeError",
     "evalue": "'Person' object has no attribute '__BankAccNo'",
     "output_type": "error",
     "traceback": [
      "\u001b[1;31m---------------------------------------------------------------------------\u001b[0m",
      "\u001b[1;31mAttributeError\u001b[0m                            Traceback (most recent call last)",
      "\u001b[1;32mC:\\Users\\VANSHN~1\\AppData\\Local\\Temp/ipykernel_1028/1201428107.py\u001b[0m in \u001b[0;36m<module>\u001b[1;34m\u001b[0m\n\u001b[0;32m      9\u001b[0m \u001b[0mprint\u001b[0m\u001b[1;33m(\u001b[0m\u001b[1;34m'Name='\u001b[0m\u001b[1;33m,\u001b[0m\u001b[0mP\u001b[0m\u001b[1;33m.\u001b[0m\u001b[0mName\u001b[0m\u001b[1;33m)\u001b[0m\u001b[1;33m\u001b[0m\u001b[1;33m\u001b[0m\u001b[0m\n\u001b[0;32m     10\u001b[0m \u001b[0mP\u001b[0m\u001b[1;33m.\u001b[0m\u001b[0mDisplay\u001b[0m\u001b[1;33m(\u001b[0m\u001b[1;33m)\u001b[0m\u001b[1;33m\u001b[0m\u001b[1;33m\u001b[0m\u001b[0m\n\u001b[1;32m---> 11\u001b[1;33m \u001b[0mprint\u001b[0m\u001b[1;33m(\u001b[0m\u001b[1;34m'Bank account No='\u001b[0m\u001b[1;33m,\u001b[0m\u001b[0mP\u001b[0m\u001b[1;33m.\u001b[0m\u001b[0m__BankAccNo\u001b[0m\u001b[1;33m)\u001b[0m\u001b[1;33m\u001b[0m\u001b[1;33m\u001b[0m\u001b[0m\n\u001b[0m\u001b[0;32m     12\u001b[0m \u001b[0mP\u001b[0m\u001b[1;33m.\u001b[0m\u001b[0mDisplay\u001b[0m\u001b[1;33m(\u001b[0m\u001b[1;33m)\u001b[0m\u001b[1;33m\u001b[0m\u001b[1;33m\u001b[0m\u001b[0m\n",
      "\u001b[1;31mAttributeError\u001b[0m: 'Person' object has no attribute '__BankAccNo'"
     ]
    }
   ],
   "source": [
    "class Person:\n",
    "    def __init__(self):\n",
    "        self.Name='Vishal'\n",
    "        self.__BankAccNo=10101\n",
    "    def Display(self):\n",
    "        print('Name=',self.Name)\n",
    "        print('Bank account No=',self.__BankAccNo)\n",
    "P=Person()\n",
    "print('Name=',P.Name)\n",
    "P.Display()\n",
    "print('Bank account No=',P.__BankAccNo)\n",
    "P.Display()\n"
   ]
  },
  {
   "cell_type": "code",
   "execution_count": 3,
   "id": "126117fc",
   "metadata": {},
   "outputs": [
    {
     "name": "stdout",
     "output_type": "stream",
     "text": [
      "local variable x is= 30\n",
      "instance variable x is= 30\n"
     ]
    }
   ],
   "source": [
    "class prac:\n",
    "    x=5\n",
    "    def disp(self,x):\n",
    "        x=30\n",
    "        print(\"local variable x is=\",x)\n",
    "        print(\"instance variable x is=\",x)\n",
    "ob=prac()\n",
    "ob.disp(50)\n",
    "    \n",
    "    "
   ]
  },
  {
   "cell_type": "code",
   "execution_count": 1,
   "id": "ac423090",
   "metadata": {},
   "outputs": [
    {
     "ename": "SyntaxError",
     "evalue": "unexpected EOF while parsing (<ipython-input-1-42fadb2f50d1>, line 2)",
     "output_type": "error",
     "traceback": [
      "\u001b[1;36m  File \u001b[1;32m\"<ipython-input-1-42fadb2f50d1>\"\u001b[1;36m, line \u001b[1;32m2\u001b[0m\n\u001b[1;33m    #methods and variables\u001b[0m\n\u001b[1;37m                          ^\u001b[0m\n\u001b[1;31mSyntaxError\u001b[0m\u001b[1;31m:\u001b[0m unexpected EOF while parsing\n"
     ]
    }
   ],
   "source": [
    "class employee:\n",
    "    #methods and variables\n"
   ]
  },
  {
   "cell_type": "code",
   "execution_count": 2,
   "id": "3e3cebfd",
   "metadata": {},
   "outputs": [
    {
     "ename": "SyntaxError",
     "evalue": "invalid syntax (<ipython-input-2-661c3b5bde13>, line 2)",
     "output_type": "error",
     "traceback": [
      "\u001b[1;36m  File \u001b[1;32m\"<ipython-input-2-661c3b5bde13>\"\u001b[1;36m, line \u001b[1;32m2\u001b[0m\n\u001b[1;33m    def__init__(self,length,bredth,height):\u001b[0m\n\u001b[1;37m                                           ^\u001b[0m\n\u001b[1;31mSyntaxError\u001b[0m\u001b[1;31m:\u001b[0m invalid syntax\n"
     ]
    }
   ],
   "source": [
    "class Box:\n",
    "    def__init__(self,length,bredth,height):\n",
    "        volume=length*breadh*height\n",
    "        print(box)\n",
    "boxObject=Box(2,3,4)\n",
    "print(boxObject)"
   ]
  },
  {
   "cell_type": "code",
   "execution_count": 3,
   "id": "62f5b512",
   "metadata": {},
   "outputs": [
    {
     "name": "stdout",
     "output_type": "stream",
     "text": [
      "The name of the Microsoft programmer is Aditya and the product is Skype\n",
      "The name of the Microsoft programmer is Punit and the product is GitHub\n"
     ]
    }
   ],
   "source": [
    "class Programmer:\n",
    "    company = \"Microsoft\"\n",
    "\n",
    "    def __init__(self, name, product):\n",
    "        self.name = name\n",
    "        self.product = product\n",
    "\n",
    "    def getInfo(self):\n",
    "        print(f\"The name of the {self.company} programmer is {self.name} and the product is {self.product}\")\n",
    "\n",
    "\n",
    "Aditya = Programmer(\"Aditya\", \"Skype\")\n",
    "Punit = Programmer(\"Punit\", \"GitHub\")\n",
    "Aditya.getInfo()\n",
    "Punit.getInfo()\n"
   ]
  },
  {
   "cell_type": "code",
   "execution_count": 4,
   "id": "9b3a5df6",
   "metadata": {},
   "outputs": [
    {
     "name": "stdout",
     "output_type": "stream",
     "text": [
      "The value of 9 square is 81\n",
      "The value of 9 square root is 3.0\n",
      "The value of 9 cube is 729\n"
     ]
    }
   ],
   "source": [
    "class Calculator:\n",
    "    def __init__(self, num):\n",
    "        self.number = num\n",
    "\n",
    "    def square(self):\n",
    "        print(f\"The value of {self.number} square is {self.number **2}\")\n",
    "\n",
    "    def squareRoot(self):\n",
    "        print(f\"The value of {self.number} square root is {self.number **0.5}\")\n",
    "\n",
    "    def cube(self):\n",
    "        print(f\"The value of {self.number} cube is {self.number **3}\")\n",
    "\n",
    "a = Calculator(9)\n",
    "a.square()\n",
    "a.squareRoot() \n",
    "a.cube()"
   ]
  },
  {
   "cell_type": "code",
   "execution_count": 5,
   "id": "ed348482",
   "metadata": {},
   "outputs": [
    {
     "name": "stdout",
     "output_type": "stream",
     "text": [
      "*******Hello there welcome to the best calculator of the world*******\n",
      "The value of 9 square is 81\n",
      "The value of 9 square root is 3.0\n",
      "The value of 9 cube is 729\n"
     ]
    }
   ],
   "source": [
    "class Calculator:\n",
    "    def __init__(self, num):\n",
    "        self.number = num\n",
    "\n",
    "    def square(self):\n",
    "        print(f\"The value of {self.number} square is {self.number **2}\")\n",
    "\n",
    "    def squareRoot(self):\n",
    "        print(f\"The value of {self.number} square root is {self.number **0.5}\")\n",
    "\n",
    "    def cube(self):\n",
    "        print(f\"The value of {self.number} cube is {self.number **3}\")\n",
    "    \n",
    "    @staticmethod\n",
    "    def greet():\n",
    "        print(\"*******Hello there welcome to the best calculator of the world*******\")\n",
    "\n",
    "a = Calculator(9)\n",
    "a.greet()\n",
    "a.square()\n",
    "a.squareRoot() \n",
    "a.cube()"
   ]
  },
  {
   "cell_type": "code",
   "execution_count": 3,
   "id": "489dcf97",
   "metadata": {},
   "outputs": [
    {
     "name": "stdout",
     "output_type": "stream",
     "text": [
      "Welcome\n",
      "<__main__.Demo1 object at 0x000001739B4C57C0>\n"
     ]
    }
   ],
   "source": [
    "class Demo1:\n",
    "        print('Welcome')\n",
    "ob1=Demo1()\n",
    "print(ob1)"
   ]
  },
  {
   "cell_type": "code",
   "execution_count": null,
   "id": "d61df220",
   "metadata": {},
   "outputs": [],
   "source": []
  }
 ],
 "metadata": {
  "kernelspec": {
   "display_name": "Python 3",
   "language": "python",
   "name": "python3"
  },
  "language_info": {
   "codemirror_mode": {
    "name": "ipython",
    "version": 3
   },
   "file_extension": ".py",
   "mimetype": "text/x-python",
   "name": "python",
   "nbconvert_exporter": "python",
   "pygments_lexer": "ipython3",
   "version": "3.8.8"
  }
 },
 "nbformat": 4,
 "nbformat_minor": 5
}
