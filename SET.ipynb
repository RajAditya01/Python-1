{
 "cells": [
  {
   "cell_type": "code",
   "execution_count": 2,
   "id": "72b26932",
   "metadata": {},
   "outputs": [
    {
     "name": "stdout",
     "output_type": "stream",
     "text": [
      "{1, 3, 4, 5}\n"
     ]
    }
   ],
   "source": [
    "a = {1, 3, 4, 5, 1}\n",
    "print(a)"
   ]
  },
  {
   "cell_type": "code",
   "execution_count": 3,
   "id": "aa8d477d",
   "metadata": {},
   "outputs": [
    {
     "name": "stdout",
     "output_type": "stream",
     "text": [
      "True\n"
     ]
    }
   ],
   "source": [
    "setOne = {1, 2, 3} \n",
    "setTwo = {1, 2, 3, 4, 5, 6} \n",
    " \n",
    "print(setOne.issubset(setTwo)) \n"
   ]
  },
  {
   "cell_type": "code",
   "execution_count": 4,
   "id": "5d1d2529",
   "metadata": {},
   "outputs": [
    {
     "name": "stdout",
     "output_type": "stream",
     "text": [
      "False\n"
     ]
    }
   ],
   "source": [
    "set1= {1, 2, 3} \n",
    "set2 = {1, 2, 3, 4, 5, 6} \n",
    " \n",
    "print(set1.issuperset(set2)) \n",
    " \n"
   ]
  },
  {
   "cell_type": "code",
   "execution_count": 6,
   "id": "57814ddb",
   "metadata": {},
   "outputs": [
    {
     "name": "stdout",
     "output_type": "stream",
     "text": [
      "{1, 2, 3, 4, 5, 6}\n"
     ]
    }
   ],
   "source": [
    "set1= {1, 2, 3} \n",
    "set2 = {1, 2, 3, 4, 5, 6} \n",
    " \n",
    "print(set1.union(set2)) \n"
   ]
  },
  {
   "cell_type": "code",
   "execution_count": 8,
   "id": "a37db028",
   "metadata": {},
   "outputs": [
    {
     "name": "stdout",
     "output_type": "stream",
     "text": [
      "{1, 2, 3}\n"
     ]
    }
   ],
   "source": [
    "set1= {1, 2, 3} \n",
    "set2 = {1, 2, 3, 4, 5, 6} \n",
    " \n",
    "print(set1.intersection(set2))"
   ]
  },
  {
   "cell_type": "code",
   "execution_count": 4,
   "id": "40758ae5",
   "metadata": {},
   "outputs": [
    {
     "name": "stdout",
     "output_type": "stream",
     "text": [
      "no,it is not a subset\n"
     ]
    }
   ],
   "source": [
    "set1= {'red', 'yellow', 'orange'} \n",
    "set2 = {'orange', 'red', 'blue', 'brown', 'black', 'violet'}\n",
    "if set1.issubset(set2):\n",
    "    print('yes, it is a subset')\n",
    "else:\n",
    "    print('no,it is not a subset')"
   ]
  },
  {
   "cell_type": "code",
   "execution_count": 8,
   "id": "d04ed0de",
   "metadata": {},
   "outputs": [
    {
     "name": "stdout",
     "output_type": "stream",
     "text": [
      "yes, it is a superset\n"
     ]
    }
   ],
   "source": [
    "set1= {'red', 'yellow', 'orange'} \n",
    "set2 = {'orange', 'red', 'blue', 'yellow', 'black', 'violet'}\n",
    "if set2.issuperset(set1):\n",
    "    print('yes, it is a superset')\n",
    "else:\n",
    "    print('no,it is not a superset')"
   ]
  },
  {
   "cell_type": "code",
   "execution_count": 9,
   "id": "04484d89",
   "metadata": {},
   "outputs": [
    {
     "data": {
      "text/plain": [
       "{'black', 'blue', 'orange', 'red', 'violet', 'yellow'}"
      ]
     },
     "execution_count": 9,
     "metadata": {},
     "output_type": "execute_result"
    }
   ],
   "source": [
    "set1= {'red', 'yellow', 'orange'} \n",
    "set2 = {'orange', 'red', 'blue', 'yellow', 'black', 'violet'}\n",
    "set1.union(set2)"
   ]
  },
  {
   "cell_type": "code",
   "execution_count": 10,
   "id": "2ff1d248",
   "metadata": {},
   "outputs": [
    {
     "data": {
      "text/plain": [
       "{'orange', 'red', 'yellow'}"
      ]
     },
     "execution_count": 10,
     "metadata": {},
     "output_type": "execute_result"
    }
   ],
   "source": [
    "set1= {'red', 'yellow', 'orange'} \n",
    "set2 = {'orange', 'red', 'blue', 'yellow', 'black', 'violet'}\n",
    "set1.intersection(set2)"
   ]
  },
  {
   "cell_type": "code",
   "execution_count": null,
   "id": "eea51476",
   "metadata": {},
   "outputs": [],
   "source": [
    "R"
   ]
  }
 ],
 "metadata": {
  "kernelspec": {
   "display_name": "Python 3",
   "language": "python",
   "name": "python3"
  },
  "language_info": {
   "codemirror_mode": {
    "name": "ipython",
    "version": 3
   },
   "file_extension": ".py",
   "mimetype": "text/x-python",
   "name": "python",
   "nbconvert_exporter": "python",
   "pygments_lexer": "ipython3",
   "version": "3.8.8"
  }
 },
 "nbformat": 4,
 "nbformat_minor": 5
}
