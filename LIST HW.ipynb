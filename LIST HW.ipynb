{
 "cells": [
  {
   "cell_type": "code",
   "execution_count": 13,
   "id": "46d205a5",
   "metadata": {},
   "outputs": [
    {
     "name": "stdout",
     "output_type": "stream",
     "text": [
      "count/ 5\n"
     ]
    }
   ],
   "source": [
    "#CREATE A LIST OF 5 ELEMENT PASS THIS LIST TO A FUNCTION AND \n",
    "#COMPUTE THE AVERAGE OF 5 NUMBER\n",
    "l=[1,2,3,4,5]\n",
    "def function():\n",
    "    sum=0\n",
    "    for i in range (0,len(l)):\n",
    "        count=l[i]+1\n",
    "    print('count/', len(l))\n",
    "function()    "
   ]
  },
  {
   "cell_type": "code",
   "execution_count": 8,
   "id": "ce3974bc",
   "metadata": {},
   "outputs": [
    {
     "name": "stdout",
     "output_type": "stream",
     "text": [
      "Average of the list= 35.75\n"
     ]
    }
   ],
   "source": [
    "#CREATE A LIST OF 5 ELEMENT PASS THIS LIST TO A FUNCTION AND \n",
    "#COMPUTE THE AVERAGE OF 5 NUMBER\n",
    "def Average(list):\n",
    "    return sum(list) / len(list)\n",
    "list=[15,9,55,41,35,20,62,49]\n",
    "average=Average(list)\n",
    "print(\"Average of the list=\",round(average,2))"
   ]
  },
  {
   "cell_type": "code",
   "execution_count": 1,
   "id": "6d507861",
   "metadata": {},
   "outputs": [
    {
     "name": "stdout",
     "output_type": "stream",
     "text": [
      "Average of the list= 35.75\n"
     ]
    }
   ],
   "source": [
    "def Average(list):\n",
    "    return sum(list) / len(list)\n",
    "list=[15,9,55,41,35,20,62,49]\n",
    "average=Average(list)\n",
    "print(\"Average of the list=\",round(average,2))"
   ]
  },
  {
   "cell_type": "code",
   "execution_count": null,
   "id": "13e845a6",
   "metadata": {},
   "outputs": [],
   "source": []
  },
  {
   "cell_type": "code",
   "execution_count": null,
   "id": "e287a308",
   "metadata": {},
   "outputs": [],
   "source": []
  },
  {
   "cell_type": "code",
   "execution_count": null,
   "id": "209cbf4e",
   "metadata": {},
   "outputs": [],
   "source": []
  }
 ],
 "metadata": {
  "kernelspec": {
   "display_name": "Python 3",
   "language": "python",
   "name": "python3"
  },
  "language_info": {
   "codemirror_mode": {
    "name": "ipython",
    "version": 3
   },
   "file_extension": ".py",
   "mimetype": "text/x-python",
   "name": "python",
   "nbconvert_exporter": "python",
   "pygments_lexer": "ipython3",
   "version": "3.8.8"
  }
 },
 "nbformat": 4,
 "nbformat_minor": 5
}
